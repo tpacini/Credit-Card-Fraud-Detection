{
 "cells": [
  {
   "cell_type": "markdown",
   "metadata": {},
   "source": [
    "# Introduction\n",
    "In the following code we will analyze and understand the dataset and we'll pick one or many approaches to model a classifier and evaluate its performance. \n",
    "\n",
    "The first step will consist in understanding the main features of the dataset, if it is unbalanced, if there are many null values or if there are missing values to replace. Consequently, we'll adopt a strategy to transform the data in a useful format for the classfier. Based on the characteristics of the data we coul pick different classifiers and at the end evaluating their performance. \n",
    "\n",
    "In the last part we'll show the results with some final considerations."
   ]
  },
  {
   "cell_type": "code",
   "execution_count": 3,
   "metadata": {},
   "outputs": [],
   "source": [
    "import pandas as pd\n",
    "import numpy as np\n",
    "import matplotlib.pyplot as plt\n",
    "import seaborn as sns\n",
    "from collections import Counter\n",
    "from prettytable import PrettyTable\n",
    "from sklearn.metrics import roc_curve, auc, accuracy_score, precision_score, recall_score, f1_score, confusion_matrix\n",
    "\n",
    "path_data = '../archive.zip'\n",
    "path_save_data = '../data/'\n",
    "\n",
    "example_params = {\n",
    "    'n_estimators': 100,\n",
    "    'max_depth': 5,\n",
    "    'random_state': 13\n",
    "}\n",
    "\n",
    "def res_table(name, test_y, predictions):\n",
    "    t = PrettyTable(['Name', 'Confusion Matrix', 'Accuracy', 'Precision', 'Recall', 'F1'])\n",
    "\n",
    "    _accuracy = format(accuracy_score(test_y,predictions))\n",
    "    _precision = format(precision_score(test_y,predictions))\n",
    "    _recall = format(recall_score(test_y,predictions))\n",
    "    _f1 = format(f1_score(test_y,predictions))\n",
    "    _matrix = confusion_matrix(test_y,predictions)\n",
    "\n",
    "    t.add_row([name, _matrix, _accuracy[0:5], _precision[0:5], _recall[0:5], _f1[0:5]])\n",
    "    #t.add_row( ['', '', '', '', '', ''] )\n",
    "    \n",
    "    print(t)\n",
    "\n",
    "def score_model(model, params, sampler, X_train, y_train, cv=None):\n",
    "    if cv is None:\n",
    "        cv = KFold(n_splits=5, shuffle=False, random_state=42)\n",
    "\n",
    "    scores = []\n",
    "    for train_fold_index, val_fold_index in cv.split(X_train, y_train):\n",
    "        subscores = []\n",
    "        \n",
    "        X_train_fold, y_train_fold = X_train.iloc[train_fold_index], y_train[train_fold_index]\n",
    "        X_val_fold, y_val_fold = X_train.iloc[val_fold_index], y_train[val_fold_index]\n",
    "\n",
    "        # Sampling\n",
    "        X_train_fold_resample, y_train_fold_resample = sampler.fit_resample(X_train_fold,\n",
    "                                                                           y_train_fold)\n",
    "        \n",
    "        # Fitting\n",
    "        model_obj = model(**params).fit(X_train_fold_upsample, y_train_fold_upsample)\n",
    "        y_pred = model_obj.predict(X_val_fold)\n",
    "        \n",
    "        # Recall, Precision, Accuracy, F1, Average Precision, AUC ROC ...\n",
    "        subscores.append(..._score(y_val_fold, y_pred))\n",
    "        \n",
    "        scores.append(subscores)\n",
    "        \n",
    "        \n",
    "    return np.array(scores)"
   ]
  },
  {
   "cell_type": "markdown",
   "metadata": {},
   "source": [
    "# Features and data understanding"
   ]
  },
  {
   "cell_type": "code",
   "execution_count": 2,
   "metadata": {
    "scrolled": false
   },
   "outputs": [
    {
     "ename": "NameError",
     "evalue": "name 'pd' is not defined",
     "output_type": "error",
     "traceback": [
      "\u001b[0;31m---------------------------------------------------------------------------\u001b[0m",
      "\u001b[0;31mNameError\u001b[0m                                 Traceback (most recent call last)",
      "\u001b[0;32m<ipython-input-2-d561c81a6d3c>\u001b[0m in \u001b[0;36m<module>\u001b[0;34m\u001b[0m\n\u001b[0;32m----> 1\u001b[0;31m \u001b[0mdf\u001b[0m \u001b[0;34m=\u001b[0m \u001b[0mpd\u001b[0m\u001b[0;34m.\u001b[0m\u001b[0mread_csv\u001b[0m\u001b[0;34m(\u001b[0m\u001b[0mpath_data\u001b[0m\u001b[0;34m,\u001b[0m \u001b[0msep\u001b[0m\u001b[0;34m=\u001b[0m\u001b[0;34m','\u001b[0m\u001b[0;34m)\u001b[0m\u001b[0;34m\u001b[0m\u001b[0;34m\u001b[0m\u001b[0m\n\u001b[0m\u001b[1;32m      2\u001b[0m \u001b[0mdf\u001b[0m\u001b[0;34m.\u001b[0m\u001b[0mdescribe\u001b[0m\u001b[0;34m(\u001b[0m\u001b[0minclude\u001b[0m\u001b[0;34m=\u001b[0m\u001b[0;34m'all'\u001b[0m\u001b[0;34m)\u001b[0m\u001b[0;34m\u001b[0m\u001b[0;34m\u001b[0m\u001b[0m\n",
      "\u001b[0;31mNameError\u001b[0m: name 'pd' is not defined"
     ]
    }
   ],
   "source": [
    "df = pd.read_csv(path_data, sep=',')\n",
    "df.describe(include='all')"
   ]
  },
  {
   "cell_type": "code",
   "execution_count": 3,
   "metadata": {},
   "outputs": [
    {
     "data": {
      "text/html": [
       "<div>\n",
       "<style scoped>\n",
       "    .dataframe tbody tr th:only-of-type {\n",
       "        vertical-align: middle;\n",
       "    }\n",
       "\n",
       "    .dataframe tbody tr th {\n",
       "        vertical-align: top;\n",
       "    }\n",
       "\n",
       "    .dataframe thead th {\n",
       "        text-align: right;\n",
       "    }\n",
       "</style>\n",
       "<table border=\"1\" class=\"dataframe\">\n",
       "  <thead>\n",
       "    <tr style=\"text-align: right;\">\n",
       "      <th></th>\n",
       "      <th>Time</th>\n",
       "      <th>V1</th>\n",
       "      <th>V2</th>\n",
       "      <th>V3</th>\n",
       "      <th>V4</th>\n",
       "      <th>V5</th>\n",
       "      <th>V6</th>\n",
       "      <th>V7</th>\n",
       "      <th>V8</th>\n",
       "      <th>V9</th>\n",
       "      <th>...</th>\n",
       "      <th>V21</th>\n",
       "      <th>V22</th>\n",
       "      <th>V23</th>\n",
       "      <th>V24</th>\n",
       "      <th>V25</th>\n",
       "      <th>V26</th>\n",
       "      <th>V27</th>\n",
       "      <th>V28</th>\n",
       "      <th>Amount</th>\n",
       "      <th>Class</th>\n",
       "    </tr>\n",
       "  </thead>\n",
       "  <tbody>\n",
       "    <tr>\n",
       "      <th>0</th>\n",
       "      <td>0.0</td>\n",
       "      <td>-1.359807</td>\n",
       "      <td>-0.072781</td>\n",
       "      <td>2.536347</td>\n",
       "      <td>1.378155</td>\n",
       "      <td>-0.338321</td>\n",
       "      <td>0.462388</td>\n",
       "      <td>0.239599</td>\n",
       "      <td>0.098698</td>\n",
       "      <td>0.363787</td>\n",
       "      <td>...</td>\n",
       "      <td>-0.018307</td>\n",
       "      <td>0.277838</td>\n",
       "      <td>-0.110474</td>\n",
       "      <td>0.066928</td>\n",
       "      <td>0.128539</td>\n",
       "      <td>-0.189115</td>\n",
       "      <td>0.133558</td>\n",
       "      <td>-0.021053</td>\n",
       "      <td>149.62</td>\n",
       "      <td>0</td>\n",
       "    </tr>\n",
       "    <tr>\n",
       "      <th>1</th>\n",
       "      <td>0.0</td>\n",
       "      <td>1.191857</td>\n",
       "      <td>0.266151</td>\n",
       "      <td>0.166480</td>\n",
       "      <td>0.448154</td>\n",
       "      <td>0.060018</td>\n",
       "      <td>-0.082361</td>\n",
       "      <td>-0.078803</td>\n",
       "      <td>0.085102</td>\n",
       "      <td>-0.255425</td>\n",
       "      <td>...</td>\n",
       "      <td>-0.225775</td>\n",
       "      <td>-0.638672</td>\n",
       "      <td>0.101288</td>\n",
       "      <td>-0.339846</td>\n",
       "      <td>0.167170</td>\n",
       "      <td>0.125895</td>\n",
       "      <td>-0.008983</td>\n",
       "      <td>0.014724</td>\n",
       "      <td>2.69</td>\n",
       "      <td>0</td>\n",
       "    </tr>\n",
       "    <tr>\n",
       "      <th>2</th>\n",
       "      <td>1.0</td>\n",
       "      <td>-1.358354</td>\n",
       "      <td>-1.340163</td>\n",
       "      <td>1.773209</td>\n",
       "      <td>0.379780</td>\n",
       "      <td>-0.503198</td>\n",
       "      <td>1.800499</td>\n",
       "      <td>0.791461</td>\n",
       "      <td>0.247676</td>\n",
       "      <td>-1.514654</td>\n",
       "      <td>...</td>\n",
       "      <td>0.247998</td>\n",
       "      <td>0.771679</td>\n",
       "      <td>0.909412</td>\n",
       "      <td>-0.689281</td>\n",
       "      <td>-0.327642</td>\n",
       "      <td>-0.139097</td>\n",
       "      <td>-0.055353</td>\n",
       "      <td>-0.059752</td>\n",
       "      <td>378.66</td>\n",
       "      <td>0</td>\n",
       "    </tr>\n",
       "    <tr>\n",
       "      <th>3</th>\n",
       "      <td>1.0</td>\n",
       "      <td>-0.966272</td>\n",
       "      <td>-0.185226</td>\n",
       "      <td>1.792993</td>\n",
       "      <td>-0.863291</td>\n",
       "      <td>-0.010309</td>\n",
       "      <td>1.247203</td>\n",
       "      <td>0.237609</td>\n",
       "      <td>0.377436</td>\n",
       "      <td>-1.387024</td>\n",
       "      <td>...</td>\n",
       "      <td>-0.108300</td>\n",
       "      <td>0.005274</td>\n",
       "      <td>-0.190321</td>\n",
       "      <td>-1.175575</td>\n",
       "      <td>0.647376</td>\n",
       "      <td>-0.221929</td>\n",
       "      <td>0.062723</td>\n",
       "      <td>0.061458</td>\n",
       "      <td>123.50</td>\n",
       "      <td>0</td>\n",
       "    </tr>\n",
       "    <tr>\n",
       "      <th>4</th>\n",
       "      <td>2.0</td>\n",
       "      <td>-1.158233</td>\n",
       "      <td>0.877737</td>\n",
       "      <td>1.548718</td>\n",
       "      <td>0.403034</td>\n",
       "      <td>-0.407193</td>\n",
       "      <td>0.095921</td>\n",
       "      <td>0.592941</td>\n",
       "      <td>-0.270533</td>\n",
       "      <td>0.817739</td>\n",
       "      <td>...</td>\n",
       "      <td>-0.009431</td>\n",
       "      <td>0.798278</td>\n",
       "      <td>-0.137458</td>\n",
       "      <td>0.141267</td>\n",
       "      <td>-0.206010</td>\n",
       "      <td>0.502292</td>\n",
       "      <td>0.219422</td>\n",
       "      <td>0.215153</td>\n",
       "      <td>69.99</td>\n",
       "      <td>0</td>\n",
       "    </tr>\n",
       "  </tbody>\n",
       "</table>\n",
       "<p>5 rows × 31 columns</p>\n",
       "</div>"
      ],
      "text/plain": [
       "   Time        V1        V2        V3        V4        V5        V6        V7  \\\n",
       "0   0.0 -1.359807 -0.072781  2.536347  1.378155 -0.338321  0.462388  0.239599   \n",
       "1   0.0  1.191857  0.266151  0.166480  0.448154  0.060018 -0.082361 -0.078803   \n",
       "2   1.0 -1.358354 -1.340163  1.773209  0.379780 -0.503198  1.800499  0.791461   \n",
       "3   1.0 -0.966272 -0.185226  1.792993 -0.863291 -0.010309  1.247203  0.237609   \n",
       "4   2.0 -1.158233  0.877737  1.548718  0.403034 -0.407193  0.095921  0.592941   \n",
       "\n",
       "         V8        V9  ...       V21       V22       V23       V24       V25  \\\n",
       "0  0.098698  0.363787  ... -0.018307  0.277838 -0.110474  0.066928  0.128539   \n",
       "1  0.085102 -0.255425  ... -0.225775 -0.638672  0.101288 -0.339846  0.167170   \n",
       "2  0.247676 -1.514654  ...  0.247998  0.771679  0.909412 -0.689281 -0.327642   \n",
       "3  0.377436 -1.387024  ... -0.108300  0.005274 -0.190321 -1.175575  0.647376   \n",
       "4 -0.270533  0.817739  ... -0.009431  0.798278 -0.137458  0.141267 -0.206010   \n",
       "\n",
       "        V26       V27       V28  Amount  Class  \n",
       "0 -0.189115  0.133558 -0.021053  149.62      0  \n",
       "1  0.125895 -0.008983  0.014724    2.69      0  \n",
       "2 -0.139097 -0.055353 -0.059752  378.66      0  \n",
       "3 -0.221929  0.062723  0.061458  123.50      0  \n",
       "4  0.502292  0.219422  0.215153   69.99      0  \n",
       "\n",
       "[5 rows x 31 columns]"
      ]
     },
     "execution_count": 3,
     "metadata": {},
     "output_type": "execute_result"
    }
   ],
   "source": [
    "df.head()"
   ]
  },
  {
   "cell_type": "markdown",
   "metadata": {},
   "source": [
    "No null values are present inside the dataset"
   ]
  },
  {
   "cell_type": "code",
   "execution_count": 3,
   "metadata": {
    "scrolled": true
   },
   "outputs": [
    {
     "name": "stdout",
     "output_type": "stream",
     "text": [
      "<class 'pandas.core.frame.DataFrame'>\n",
      "RangeIndex: 284807 entries, 0 to 284806\n",
      "Data columns (total 31 columns):\n",
      " #   Column  Non-Null Count   Dtype  \n",
      "---  ------  --------------   -----  \n",
      " 0   Time    284807 non-null  float64\n",
      " 1   V1      284807 non-null  float64\n",
      " 2   V2      284807 non-null  float64\n",
      " 3   V3      284807 non-null  float64\n",
      " 4   V4      284807 non-null  float64\n",
      " 5   V5      284807 non-null  float64\n",
      " 6   V6      284807 non-null  float64\n",
      " 7   V7      284807 non-null  float64\n",
      " 8   V8      284807 non-null  float64\n",
      " 9   V9      284807 non-null  float64\n",
      " 10  V10     284807 non-null  float64\n",
      " 11  V11     284807 non-null  float64\n",
      " 12  V12     284807 non-null  float64\n",
      " 13  V13     284807 non-null  float64\n",
      " 14  V14     284807 non-null  float64\n",
      " 15  V15     284807 non-null  float64\n",
      " 16  V16     284807 non-null  float64\n",
      " 17  V17     284807 non-null  float64\n",
      " 18  V18     284807 non-null  float64\n",
      " 19  V19     284807 non-null  float64\n",
      " 20  V20     284807 non-null  float64\n",
      " 21  V21     284807 non-null  float64\n",
      " 22  V22     284807 non-null  float64\n",
      " 23  V23     284807 non-null  float64\n",
      " 24  V24     284807 non-null  float64\n",
      " 25  V25     284807 non-null  float64\n",
      " 26  V26     284807 non-null  float64\n",
      " 27  V27     284807 non-null  float64\n",
      " 28  V28     284807 non-null  float64\n",
      " 29  Amount  284807 non-null  float64\n",
      " 30  Class   284807 non-null  int64  \n",
      "dtypes: float64(30), int64(1)\n",
      "memory usage: 67.4 MB\n"
     ]
    }
   ],
   "source": [
    "df.info()"
   ]
  },
  {
   "cell_type": "code",
   "execution_count": 8,
   "metadata": {
    "scrolled": true
   },
   "outputs": [
    {
     "data": {
      "text/plain": [
       "Time      0\n",
       "V1        0\n",
       "V2        0\n",
       "V3        0\n",
       "V4        0\n",
       "V5        0\n",
       "V6        0\n",
       "V7        0\n",
       "V8        0\n",
       "V9        0\n",
       "V10       0\n",
       "V11       0\n",
       "V12       0\n",
       "V13       0\n",
       "V14       0\n",
       "V15       0\n",
       "V16       0\n",
       "V17       0\n",
       "V18       0\n",
       "V19       0\n",
       "V20       0\n",
       "V21       0\n",
       "V22       0\n",
       "V23       0\n",
       "V24       0\n",
       "V25       0\n",
       "V26       0\n",
       "V27       0\n",
       "V28       0\n",
       "Amount    0\n",
       "Class     0\n",
       "dtype: int64"
      ]
     },
     "execution_count": 8,
     "metadata": {},
     "output_type": "execute_result"
    }
   ],
   "source": [
    "df.isna().sum()"
   ]
  },
  {
   "cell_type": "markdown",
   "metadata": {},
   "source": [
    "Next, we check if there are duplicated fields. In the positive case we'll remove them because useless to our analysis. "
   ]
  },
  {
   "cell_type": "code",
   "execution_count": null,
   "metadata": {},
   "outputs": [],
   "source": [
    "if 'True' in (df.duplicated()):\n",
    "    print(\"Duplicated fields\")\n",
    "else:\n",
    "    print(\"No duplicated fields\")"
   ]
  },
  {
   "cell_type": "markdown",
   "metadata": {},
   "source": [
    "## Histograms and correlation matrix"
   ]
  },
  {
   "cell_type": "markdown",
   "metadata": {},
   "source": [
    "We can see from the next graph how the fraud class is the minority class whereas the non-fraud is the majority one. This is a case of unbalanced dataset so we should apply measure to solve this issue."
   ]
  },
  {
   "cell_type": "code",
   "execution_count": 4,
   "metadata": {},
   "outputs": [
    {
     "data": {
      "image/png": "[encoded data removed]",
      "text/plain": [
       "<Figure size 640x480 with 1 Axes>"
      ]
     },
     "metadata": {},
     "output_type": "display_data"
    }
   ],
   "source": [
    "df[\"Class\"].plot(kind=\"hist\", bins=3, logy=True)\n",
    "plt.show()"
   ]
  },
  {
   "cell_type": "markdown",
   "metadata": {},
   "source": [
    "From the distribution of the time we can see that the transaction has been executed mainly around 50k and 150k seconds (13 hours and 41 hours) after the first transaction and that there is no uniform distribution, this is a normal behaviour because the data are extracted from a real scenario in which there is no specific pattern. We don't know when the monitoring of the data began so we cannot infer anything, the only information that we have is that the monitoring last two days."
   ]
  },
  {
   "cell_type": "code",
   "execution_count": 15,
   "metadata": {
    "scrolled": false
   },
   "outputs": [
    {
     "data": {
      "image/png": "[encoded data removed]",
      "text/plain": [
       "<Figure size 640x480 with 1 Axes>"
      ]
     },
     "metadata": {},
     "output_type": "display_data"
    }
   ],
   "source": [
    "df[\"Time\"].plot(kind=\"hist\", bins=30)\n",
    "plt.show()"
   ]
  },
  {
   "cell_type": "markdown",
   "metadata": {},
   "source": [
    "The data are not gathered in a particular time, so we can avoid any additional modification.\n",
    "\n",
    "Next, from the amount histogram we can see that we have some **outliers**, which should be managed in case we decide to use some particular \"neighborhood\" methods."
   ]
  },
  {
   "cell_type": "code",
   "execution_count": 6,
   "metadata": {
    "scrolled": false
   },
   "outputs": [
    {
     "data": {
      "image/png": "[encoded data removed]",
      "text/plain": [
       "<Figure size 640x480 with 1 Axes>"
      ]
     },
     "metadata": {},
     "output_type": "display_data"
    }
   ],
   "source": [
    "df[\"Amount\"].plot(kind=\"hist\", logy=True)\n",
    "plt.show()"
   ]
  },
  {
   "cell_type": "code",
   "execution_count": 4,
   "metadata": {
    "scrolled": false
   },
   "outputs": [
    {
     "data": {
      "image/png": "[encoded data removed]",
      "text/plain": [
       "<Figure size 640x480 with 1 Axes>"
      ]
     },
     "metadata": {},
     "output_type": "display_data"
    }
   ],
   "source": [
    "df[['Time', 'Amount']].set_index('Time').plot(title='\"Amount\" over time')\n",
    "plt.show()"
   ]
  },
  {
   "cell_type": "code",
   "execution_count": 3,
   "metadata": {
    "scrolled": false
   },
   "outputs": [
    {
     "data": {
      "image/png": "[encoded data removed]",
      "text/plain": [
       "<Figure size 1500x1000 with 30 Axes>"
      ]
     },
     "metadata": {},
     "output_type": "display_data"
    }
   ],
   "source": [
    "cols = df.columns.drop(['Time', 'Amount', 'Class'])\n",
    "df[cols].hist(bins=10, figsize=(15, 10))\n",
    "plt.show()"
   ]
  },
  {
   "cell_type": "code",
   "execution_count": 55,
   "metadata": {},
   "outputs": [
    {
     "data": {
      "image/png": "[encoded data removed]",
      "text/plain": [
       "<Figure size 900x700 with 2 Axes>"
      ]
     },
     "metadata": {},
     "output_type": "display_data"
    }
   ],
   "source": [
    "corr = df.corr()\n",
    "\n",
    "# Generate a mask for the upper triangle\n",
    "mask = np.triu(np.ones_like(corr, dtype=bool))\n",
    "\n",
    "# Set up the matplotlib figure\n",
    "f, ax = plt.subplots(figsize=(9, 7))\n",
    "\n",
    "# Generate a custom diverging colormap\n",
    "cmap = sns.diverging_palette(230, 20, as_cmap=True)\n",
    "\n",
    "# Draw the heatmap with the mask and correct aspect ratio\n",
    "sns.heatmap(corr, mask=mask, cmap=cmap, vmax=.3, center=0,\n",
    "            square=True, linewidths=.5, cbar_kws={\"shrink\": .5})\n",
    "plt.show()"
   ]
  },
  {
   "cell_type": "markdown",
   "metadata": {},
   "source": [
    "# Handle class imbalance\n",
    "From the previous graph, we can observe the imbalance between the two classes \"non-fraud\", \"fraud\" where the positive class is the minority with respect to the negative one. To handle class imbalance there are two main approaches:\n",
    "\n",
    "- **oversampling:** the positive class is \"augmented\" to obtain an equal distribution of the two classes\n",
    "- **undersampling:** the negative class is reduced to obtain the same number of elements per classes\n",
    "\n",
    "We'll analyze both the two approaches and we'll see the final results in both the cases."
   ]
  },
  {
   "cell_type": "code",
   "execution_count": 15,
   "metadata": {
    "scrolled": false
   },
   "outputs": [
    {
     "data": {
      "image/png": "[encoded data removed]",
      "text/plain": [
       "<Figure size 640x480 with 1 Axes>"
      ]
     },
     "metadata": {},
     "output_type": "display_data"
    }
   ],
   "source": [
    "p_df = df[df['Class'] == 1]\n",
    "\n",
    "n_df = df[df['Class'] == 0]\n",
    "n_df = n_df.take([c for c in range(0, len(n_df), 200)])\n",
    "\n",
    "res = pd.concat([p_df, n_df])\n",
    "\n",
    "sns.scatterplot(data=res, x='Time', y='Class', hue='Class')\n",
    "plt.gca().set_title('Distribution of the classes over time')\n",
    "plt.show()"
   ]
  },
  {
   "cell_type": "code",
   "execution_count": 9,
   "metadata": {
    "scrolled": true
   },
   "outputs": [
    {
     "name": "stdout",
     "output_type": "stream",
     "text": [
      "31\n",
      "X shape: (284807, 30)  y shape: (284807,)\n"
     ]
    }
   ],
   "source": [
    "x = df[df.columns[:-1]]\n",
    "y = df[df.columns[-1]]\n",
    "print(len(df.columns))\n",
    "print(\"X shape:\", x.shape, \" y shape:\", y.shape)"
   ]
  },
  {
   "cell_type": "code",
   "execution_count": 20,
   "metadata": {},
   "outputs": [],
   "source": [
    "from sklearn.model_selection import train_test_split\n",
    "\n",
    "# Split the dataset in test and training set\n",
    "train_x, test_x, train_y, test_y = train_test_split(x, y, test_size=0.3, train_size=0.7, \n",
    "                                                    shuffle=False, stratify=None) \n",
    "# test and train don't have the same distribution of negative and positive class"
   ]
  },
  {
   "cell_type": "code",
   "execution_count": 21,
   "metadata": {},
   "outputs": [
    {
     "name": "stdout",
     "output_type": "stream",
     "text": [
      "Train: (199364,)  Test: (85443,)\n"
     ]
    }
   ],
   "source": [
    "print(\"Train:\", train_y.shape, \" Test:\", test_y.shape) "
   ]
  },
  {
   "cell_type": "markdown",
   "metadata": {},
   "source": [
    "should the train happens before test, test set should start from t=0?? Or should I avoid time feature?"
   ]
  },
  {
   "cell_type": "code",
   "execution_count": 22,
   "metadata": {},
   "outputs": [
    {
     "data": {
      "text/html": [
       "<div>\n",
       "<style scoped>\n",
       "    .dataframe tbody tr th:only-of-type {\n",
       "        vertical-align: middle;\n",
       "    }\n",
       "\n",
       "    .dataframe tbody tr th {\n",
       "        vertical-align: top;\n",
       "    }\n",
       "\n",
       "    .dataframe thead th {\n",
       "        text-align: right;\n",
       "    }\n",
       "</style>\n",
       "<table border=\"1\" class=\"dataframe\">\n",
       "  <thead>\n",
       "    <tr style=\"text-align: right;\">\n",
       "      <th></th>\n",
       "      <th>Time</th>\n",
       "      <th>V1</th>\n",
       "      <th>V2</th>\n",
       "      <th>V3</th>\n",
       "      <th>V4</th>\n",
       "      <th>V5</th>\n",
       "      <th>V6</th>\n",
       "      <th>V7</th>\n",
       "      <th>V8</th>\n",
       "      <th>V9</th>\n",
       "      <th>...</th>\n",
       "      <th>V20</th>\n",
       "      <th>V21</th>\n",
       "      <th>V22</th>\n",
       "      <th>V23</th>\n",
       "      <th>V24</th>\n",
       "      <th>V25</th>\n",
       "      <th>V26</th>\n",
       "      <th>V27</th>\n",
       "      <th>V28</th>\n",
       "      <th>Amount</th>\n",
       "    </tr>\n",
       "  </thead>\n",
       "  <tbody>\n",
       "    <tr>\n",
       "      <th>0</th>\n",
       "      <td>0.0</td>\n",
       "      <td>-1.359807</td>\n",
       "      <td>-0.072781</td>\n",
       "      <td>2.536347</td>\n",
       "      <td>1.378155</td>\n",
       "      <td>-0.338321</td>\n",
       "      <td>0.462388</td>\n",
       "      <td>0.239599</td>\n",
       "      <td>0.098698</td>\n",
       "      <td>0.363787</td>\n",
       "      <td>...</td>\n",
       "      <td>0.251412</td>\n",
       "      <td>-0.018307</td>\n",
       "      <td>0.277838</td>\n",
       "      <td>-0.110474</td>\n",
       "      <td>0.066928</td>\n",
       "      <td>0.128539</td>\n",
       "      <td>-0.189115</td>\n",
       "      <td>0.133558</td>\n",
       "      <td>-0.021053</td>\n",
       "      <td>149.62</td>\n",
       "    </tr>\n",
       "    <tr>\n",
       "      <th>1</th>\n",
       "      <td>0.0</td>\n",
       "      <td>1.191857</td>\n",
       "      <td>0.266151</td>\n",
       "      <td>0.166480</td>\n",
       "      <td>0.448154</td>\n",
       "      <td>0.060018</td>\n",
       "      <td>-0.082361</td>\n",
       "      <td>-0.078803</td>\n",
       "      <td>0.085102</td>\n",
       "      <td>-0.255425</td>\n",
       "      <td>...</td>\n",
       "      <td>-0.069083</td>\n",
       "      <td>-0.225775</td>\n",
       "      <td>-0.638672</td>\n",
       "      <td>0.101288</td>\n",
       "      <td>-0.339846</td>\n",
       "      <td>0.167170</td>\n",
       "      <td>0.125895</td>\n",
       "      <td>-0.008983</td>\n",
       "      <td>0.014724</td>\n",
       "      <td>2.69</td>\n",
       "    </tr>\n",
       "    <tr>\n",
       "      <th>2</th>\n",
       "      <td>1.0</td>\n",
       "      <td>-1.358354</td>\n",
       "      <td>-1.340163</td>\n",
       "      <td>1.773209</td>\n",
       "      <td>0.379780</td>\n",
       "      <td>-0.503198</td>\n",
       "      <td>1.800499</td>\n",
       "      <td>0.791461</td>\n",
       "      <td>0.247676</td>\n",
       "      <td>-1.514654</td>\n",
       "      <td>...</td>\n",
       "      <td>0.524980</td>\n",
       "      <td>0.247998</td>\n",
       "      <td>0.771679</td>\n",
       "      <td>0.909412</td>\n",
       "      <td>-0.689281</td>\n",
       "      <td>-0.327642</td>\n",
       "      <td>-0.139097</td>\n",
       "      <td>-0.055353</td>\n",
       "      <td>-0.059752</td>\n",
       "      <td>378.66</td>\n",
       "    </tr>\n",
       "    <tr>\n",
       "      <th>3</th>\n",
       "      <td>1.0</td>\n",
       "      <td>-0.966272</td>\n",
       "      <td>-0.185226</td>\n",
       "      <td>1.792993</td>\n",
       "      <td>-0.863291</td>\n",
       "      <td>-0.010309</td>\n",
       "      <td>1.247203</td>\n",
       "      <td>0.237609</td>\n",
       "      <td>0.377436</td>\n",
       "      <td>-1.387024</td>\n",
       "      <td>...</td>\n",
       "      <td>-0.208038</td>\n",
       "      <td>-0.108300</td>\n",
       "      <td>0.005274</td>\n",
       "      <td>-0.190321</td>\n",
       "      <td>-1.175575</td>\n",
       "      <td>0.647376</td>\n",
       "      <td>-0.221929</td>\n",
       "      <td>0.062723</td>\n",
       "      <td>0.061458</td>\n",
       "      <td>123.50</td>\n",
       "    </tr>\n",
       "    <tr>\n",
       "      <th>4</th>\n",
       "      <td>2.0</td>\n",
       "      <td>-1.158233</td>\n",
       "      <td>0.877737</td>\n",
       "      <td>1.548718</td>\n",
       "      <td>0.403034</td>\n",
       "      <td>-0.407193</td>\n",
       "      <td>0.095921</td>\n",
       "      <td>0.592941</td>\n",
       "      <td>-0.270533</td>\n",
       "      <td>0.817739</td>\n",
       "      <td>...</td>\n",
       "      <td>0.408542</td>\n",
       "      <td>-0.009431</td>\n",
       "      <td>0.798278</td>\n",
       "      <td>-0.137458</td>\n",
       "      <td>0.141267</td>\n",
       "      <td>-0.206010</td>\n",
       "      <td>0.502292</td>\n",
       "      <td>0.219422</td>\n",
       "      <td>0.215153</td>\n",
       "      <td>69.99</td>\n",
       "    </tr>\n",
       "    <tr>\n",
       "      <th>...</th>\n",
       "      <td>...</td>\n",
       "      <td>...</td>\n",
       "      <td>...</td>\n",
       "      <td>...</td>\n",
       "      <td>...</td>\n",
       "      <td>...</td>\n",
       "      <td>...</td>\n",
       "      <td>...</td>\n",
       "      <td>...</td>\n",
       "      <td>...</td>\n",
       "      <td>...</td>\n",
       "      <td>...</td>\n",
       "      <td>...</td>\n",
       "      <td>...</td>\n",
       "      <td>...</td>\n",
       "      <td>...</td>\n",
       "      <td>...</td>\n",
       "      <td>...</td>\n",
       "      <td>...</td>\n",
       "      <td>...</td>\n",
       "      <td>...</td>\n",
       "    </tr>\n",
       "    <tr>\n",
       "      <th>199359</th>\n",
       "      <td>132927.0</td>\n",
       "      <td>-0.891484</td>\n",
       "      <td>0.017809</td>\n",
       "      <td>3.078285</td>\n",
       "      <td>0.292308</td>\n",
       "      <td>-0.808503</td>\n",
       "      <td>2.322562</td>\n",
       "      <td>-1.165476</td>\n",
       "      <td>-0.260185</td>\n",
       "      <td>0.057021</td>\n",
       "      <td>...</td>\n",
       "      <td>-0.256853</td>\n",
       "      <td>0.446677</td>\n",
       "      <td>0.107023</td>\n",
       "      <td>-0.374529</td>\n",
       "      <td>0.362141</td>\n",
       "      <td>0.536869</td>\n",
       "      <td>-0.204159</td>\n",
       "      <td>0.357010</td>\n",
       "      <td>-0.071318</td>\n",
       "      <td>25.00</td>\n",
       "    </tr>\n",
       "    <tr>\n",
       "      <th>199360</th>\n",
       "      <td>132927.0</td>\n",
       "      <td>1.921305</td>\n",
       "      <td>0.395242</td>\n",
       "      <td>-2.318680</td>\n",
       "      <td>1.398477</td>\n",
       "      <td>1.033023</td>\n",
       "      <td>-0.642820</td>\n",
       "      <td>0.629670</td>\n",
       "      <td>-0.211760</td>\n",
       "      <td>-0.178606</td>\n",
       "      <td>...</td>\n",
       "      <td>-0.133742</td>\n",
       "      <td>0.037927</td>\n",
       "      <td>0.218286</td>\n",
       "      <td>-0.030503</td>\n",
       "      <td>0.589564</td>\n",
       "      <td>0.442069</td>\n",
       "      <td>-0.546391</td>\n",
       "      <td>-0.009510</td>\n",
       "      <td>-0.025723</td>\n",
       "      <td>40.46</td>\n",
       "    </tr>\n",
       "    <tr>\n",
       "      <th>199361</th>\n",
       "      <td>132927.0</td>\n",
       "      <td>-0.638489</td>\n",
       "      <td>0.057029</td>\n",
       "      <td>1.022120</td>\n",
       "      <td>-1.267570</td>\n",
       "      <td>0.573539</td>\n",
       "      <td>0.253991</td>\n",
       "      <td>-0.351760</td>\n",
       "      <td>0.227176</td>\n",
       "      <td>-1.562525</td>\n",
       "      <td>...</td>\n",
       "      <td>0.541960</td>\n",
       "      <td>0.311661</td>\n",
       "      <td>0.787535</td>\n",
       "      <td>-0.433117</td>\n",
       "      <td>0.161191</td>\n",
       "      <td>0.591464</td>\n",
       "      <td>0.193631</td>\n",
       "      <td>0.072301</td>\n",
       "      <td>0.100244</td>\n",
       "      <td>22.00</td>\n",
       "    </tr>\n",
       "    <tr>\n",
       "      <th>199362</th>\n",
       "      <td>132928.0</td>\n",
       "      <td>-1.383590</td>\n",
       "      <td>-5.632354</td>\n",
       "      <td>-4.637217</td>\n",
       "      <td>1.364093</td>\n",
       "      <td>-0.042684</td>\n",
       "      <td>1.207176</td>\n",
       "      <td>2.887418</td>\n",
       "      <td>-0.417337</td>\n",
       "      <td>-0.258312</td>\n",
       "      <td>...</td>\n",
       "      <td>3.161848</td>\n",
       "      <td>1.414935</td>\n",
       "      <td>0.395609</td>\n",
       "      <td>-1.539984</td>\n",
       "      <td>-0.423408</td>\n",
       "      <td>-0.330285</td>\n",
       "      <td>0.929866</td>\n",
       "      <td>-0.412846</td>\n",
       "      <td>0.196356</td>\n",
       "      <td>1745.40</td>\n",
       "    </tr>\n",
       "    <tr>\n",
       "      <th>199363</th>\n",
       "      <td>132928.0</td>\n",
       "      <td>-1.590313</td>\n",
       "      <td>1.185834</td>\n",
       "      <td>0.929716</td>\n",
       "      <td>-0.429654</td>\n",
       "      <td>-0.092835</td>\n",
       "      <td>-0.578428</td>\n",
       "      <td>0.744519</td>\n",
       "      <td>0.068255</td>\n",
       "      <td>0.355625</td>\n",
       "      <td>...</td>\n",
       "      <td>0.027154</td>\n",
       "      <td>0.257901</td>\n",
       "      <td>1.159285</td>\n",
       "      <td>-0.544732</td>\n",
       "      <td>0.043616</td>\n",
       "      <td>1.113819</td>\n",
       "      <td>0.208993</td>\n",
       "      <td>-0.109086</td>\n",
       "      <td>-0.126385</td>\n",
       "      <td>40.29</td>\n",
       "    </tr>\n",
       "  </tbody>\n",
       "</table>\n",
       "<p>199364 rows × 30 columns</p>\n",
       "</div>"
      ],
      "text/plain": [
       "            Time        V1        V2        V3        V4        V5        V6  \\\n",
       "0            0.0 -1.359807 -0.072781  2.536347  1.378155 -0.338321  0.462388   \n",
       "1            0.0  1.191857  0.266151  0.166480  0.448154  0.060018 -0.082361   \n",
       "2            1.0 -1.358354 -1.340163  1.773209  0.379780 -0.503198  1.800499   \n",
       "3            1.0 -0.966272 -0.185226  1.792993 -0.863291 -0.010309  1.247203   \n",
       "4            2.0 -1.158233  0.877737  1.548718  0.403034 -0.407193  0.095921   \n",
       "...          ...       ...       ...       ...       ...       ...       ...   \n",
       "199359  132927.0 -0.891484  0.017809  3.078285  0.292308 -0.808503  2.322562   \n",
       "199360  132927.0  1.921305  0.395242 -2.318680  1.398477  1.033023 -0.642820   \n",
       "199361  132927.0 -0.638489  0.057029  1.022120 -1.267570  0.573539  0.253991   \n",
       "199362  132928.0 -1.383590 -5.632354 -4.637217  1.364093 -0.042684  1.207176   \n",
       "199363  132928.0 -1.590313  1.185834  0.929716 -0.429654 -0.092835 -0.578428   \n",
       "\n",
       "              V7        V8        V9  ...       V20       V21       V22  \\\n",
       "0       0.239599  0.098698  0.363787  ...  0.251412 -0.018307  0.277838   \n",
       "1      -0.078803  0.085102 -0.255425  ... -0.069083 -0.225775 -0.638672   \n",
       "2       0.791461  0.247676 -1.514654  ...  0.524980  0.247998  0.771679   \n",
       "3       0.237609  0.377436 -1.387024  ... -0.208038 -0.108300  0.005274   \n",
       "4       0.592941 -0.270533  0.817739  ...  0.408542 -0.009431  0.798278   \n",
       "...          ...       ...       ...  ...       ...       ...       ...   \n",
       "199359 -1.165476 -0.260185  0.057021  ... -0.256853  0.446677  0.107023   \n",
       "199360  0.629670 -0.211760 -0.178606  ... -0.133742  0.037927  0.218286   \n",
       "199361 -0.351760  0.227176 -1.562525  ...  0.541960  0.311661  0.787535   \n",
       "199362  2.887418 -0.417337 -0.258312  ...  3.161848  1.414935  0.395609   \n",
       "199363  0.744519  0.068255  0.355625  ...  0.027154  0.257901  1.159285   \n",
       "\n",
       "             V23       V24       V25       V26       V27       V28   Amount  \n",
       "0      -0.110474  0.066928  0.128539 -0.189115  0.133558 -0.021053   149.62  \n",
       "1       0.101288 -0.339846  0.167170  0.125895 -0.008983  0.014724     2.69  \n",
       "2       0.909412 -0.689281 -0.327642 -0.139097 -0.055353 -0.059752   378.66  \n",
       "3      -0.190321 -1.175575  0.647376 -0.221929  0.062723  0.061458   123.50  \n",
       "4      -0.137458  0.141267 -0.206010  0.502292  0.219422  0.215153    69.99  \n",
       "...          ...       ...       ...       ...       ...       ...      ...  \n",
       "199359 -0.374529  0.362141  0.536869 -0.204159  0.357010 -0.071318    25.00  \n",
       "199360 -0.030503  0.589564  0.442069 -0.546391 -0.009510 -0.025723    40.46  \n",
       "199361 -0.433117  0.161191  0.591464  0.193631  0.072301  0.100244    22.00  \n",
       "199362 -1.539984 -0.423408 -0.330285  0.929866 -0.412846  0.196356  1745.40  \n",
       "199363 -0.544732  0.043616  1.113819  0.208993 -0.109086 -0.126385    40.29  \n",
       "\n",
       "[199364 rows x 30 columns]"
      ]
     },
     "execution_count": 22,
     "metadata": {},
     "output_type": "execute_result"
    }
   ],
   "source": [
    "train_x"
   ]
  },
  {
   "cell_type": "markdown",
   "metadata": {},
   "source": [
    "The previous step is **ESSENTIAL** because it is one of the most pitfalls in sampling. In the resampling setting, there is a common pitfall that corresponds to *resample the entire dataset before splitting it into a train and a test partitions.* Note that it would be equivalent to resample the train and test partitions as well. Such of a processing leads to two issues:\n",
    "\n",
    "- the model will not be tested on a dataset with class distribution similar to the real use-case. Indeed, by resampling the entire dataset, both the training and testing set will be potentially balanced while the model should be tested on the natural imbalanced dataset to evaluate the potential bias of the model;\n",
    "- the resampling procedure might use information about samples in the dataset to either generate or select some of the samples. Therefore, we might use information of samples which will be later used as testing samples which is the typical data leakage issue."
   ]
  },
  {
   "cell_type": "markdown",
   "metadata": {},
   "source": [
    "Before diving into the different techniques of sampling, I'll list all the references that helps me choosing the right methods:\n",
    "- [1]Yu, L. and Zhou, N., \"Survey of Imbalanced Data Methodologies\", 2021."
   ]
  },
  {
   "cell_type": "code",
   "execution_count": null,
   "metadata": {},
   "outputs": [],
   "source": []
  },
  {
   "cell_type": "code",
   "execution_count": null,
   "metadata": {},
   "outputs": [],
   "source": []
  },
  {
   "cell_type": "code",
   "execution_count": null,
   "metadata": {},
   "outputs": [],
   "source": []
  },
  {
   "cell_type": "code",
   "execution_count": null,
   "metadata": {},
   "outputs": [],
   "source": []
  },
  {
   "cell_type": "code",
   "execution_count": null,
   "metadata": {},
   "outputs": [],
   "source": [
    "imba_pipeline = make_pipeline(SMOTE(random_state=42), \n",
    "                              RandomForestClassifier(n_estimators=100, random_state=13))\n",
    "\n",
    "imba_pipeline"
   ]
  },
  {
   "cell_type": "code",
   "execution_count": null,
   "metadata": {},
   "outputs": [],
   "source": []
  },
  {
   "cell_type": "markdown",
   "metadata": {},
   "source": [
    "## Random sampling\n",
    "The first sampling that we are gonna do will be the **random** one. We'll do both random undersampling and oversampling, this we'll give us a sort of treshold to which compare the other methods. Random sampling represents the basic method to apply when you're trying to fix class imbalance, next we'll explore more and more advanced and sophisticated techniques.\n",
    "\n",
    "We'll explore other techniques because the random sampling can remove, in undersampling, useful data from the majority class, and add redundant data in oversampling leading to an overfitting."
   ]
  },
  {
   "cell_type": "code",
   "execution_count": 10,
   "metadata": {},
   "outputs": [
    {
     "name": "stdout",
     "output_type": "stream",
     "text": [
      "Distribution before sampling: 0:199020 1:344\n"
     ]
    }
   ],
   "source": [
    "count = Counter(train_y)\n",
    "print(\"Distribution before sampling: 0:{} 1:{}\".format(count[0], count[1]))"
   ]
  },
  {
   "cell_type": "code",
   "execution_count": 11,
   "metadata": {},
   "outputs": [
    {
     "name": "stdout",
     "output_type": "stream",
     "text": [
      "Distribution: Counter({0: 199020, 1: 199020})\n"
     ]
    }
   ],
   "source": [
    "from imblearn.over_sampling import RandomOverSampler\n",
    "\n",
    "rand = RandomOverSampler(random_state=0) # seed np.random\n",
    "orand_x, orand_y = rand.fit_resample(train_x, train_y)\n",
    "\n",
    "print(\"Distribution: {}\".format(Counter(orand_y)))"
   ]
  },
  {
   "cell_type": "code",
   "execution_count": 12,
   "metadata": {},
   "outputs": [
    {
     "name": "stdout",
     "output_type": "stream",
     "text": [
      "Distribution: Counter({0: 344, 1: 344})\n"
     ]
    }
   ],
   "source": [
    "from imblearn.under_sampling import RandomUnderSampler\n",
    "\n",
    "rand = RandomUnderSampler(random_state=0) # seed np.random\n",
    "urand_x, urand_y = rand.fit_resample(train_x, train_y)\n",
    "\n",
    "print(\"Distribution: {}\".format(Counter(urand_y)))"
   ]
  },
  {
   "cell_type": "markdown",
   "metadata": {},
   "source": [
    "## Oversampling (SMOTE)\n",
    "Let's start with oversampling. We'll use the **Synthetic Minority Over-sampling Technique (SMOTE)** method; this allows for the generation of synthetic samples by interpolating the values that are present within the class subjected to oversampling. There are many techniques of oversampling in the literature, I wanted to pick this method because it was studied in class and it is one of the most used, an alternative to this could be **ADASYN**. \n",
    "\n",
    "The biggest problem of SMOTE is the *tendency to link inliers and outliers* leading to a sub-optimal result. For this reason we also employ a SMOTE variants called **borderlineSMOTE.**"
   ]
  },
  {
   "cell_type": "markdown",
   "metadata": {},
   "source": [
    "### SMOTE"
   ]
  },
  {
   "cell_type": "code",
   "execution_count": 11,
   "metadata": {},
   "outputs": [
    {
     "name": "stdout",
     "output_type": "stream",
     "text": [
      "Distribution after oversampling: Counter({0: 199020, 1: 199020})\n"
     ]
    }
   ],
   "source": [
    "from imblearn.over_sampling import SMOTE\n",
    "smote = SMOTE()\n",
    "smote_x, smote_y = smote.fit_resample(train_x, train_y)\n",
    "\n",
    "smote_x.to_csv(path_save_data+'smote_x')\n",
    "smote_y.to_csv(path_save_data+'smote_y')\n",
    "\n",
    "print(\"Distribution after oversampling: {}\".format(Counter(smote_y)))"
   ]
  },
  {
   "cell_type": "markdown",
   "metadata": {},
   "source": [
    "### borderline SMOTE\n",
    "Source: *H. Han, W. Wen-Yuan, M. Bing-Huan, \"Borderline-SMOTE: a new over-sampling method in imbalanced data sets learning\", 2005.*\n",
    "\n",
    "Borderline SMOTE has been proved (Source) to perform better with respect to SMOTE and RandomOversampling for this reason we will use it in this comparison. This variant of the SMOTE is different from existing over-sampling methods due to the fact that all the minority examples or a random subset of the minority class are not the elements that will be over-sampled, instead the **bordeline elements will be the one oversampled** (the one which truly affect the classification).\n",
    "\n",
    "The explanation of the method will be given in the report. However, in this case we don't change the default settings, using 'borderline-1' instead of 2 due to the fact that the paper doesn't shows big differences in terms of TP rate and F value among the two."
   ]
  },
  {
   "cell_type": "code",
   "execution_count": 13,
   "metadata": {},
   "outputs": [
    {
     "name": "stdout",
     "output_type": "stream",
     "text": [
      "Distribution after oversampling: Counter({0: 199020, 1: 199020})\n"
     ]
    }
   ],
   "source": [
    "from imblearn.over_sampling import BorderlineSMOTE\n",
    "bsmote = BorderlineSMOTE(kind='borderline-1')\n",
    "bsmote_x, bsmote_y = bsmote.fit_resample(train_x, train_y)\n",
    "\n",
    "bsmote_x.to_csv(path_save_data+'bsmote_x')\n",
    "bsmote_y.to_csv(path_save_data+'bsmote_y')\n",
    "\n",
    "print(\"Distribution after oversampling: {}\".format(Counter(bsmote_y)))"
   ]
  },
  {
   "cell_type": "markdown",
   "metadata": {},
   "source": [
    "## Undersampling (Neighborhood cleaning rule)\n",
    "Source: *Laurikkala, J., \"Improving Identification of Difficult Small Classes by Balancing Class Distribution, 2001*\n",
    "\n",
    "*What is the problem of undersampling?* Since the samples from the majority classes are removed, this method can potentially **ignore useful information from those removed samples.** Therefore, several under-sampling approaches are proposed to selectively remove samples from the majority class so that the information could be largely retained in the training data set. \n",
    "\n",
    "Why we pick a certain technique for undersampling? The choices were applying neighbours-based undersampler or tomek-links-based techniques, given the fact that we already study the neighbours technique for classification in class I decided to pick that. Among all the neighbour-based technique the **NeighborhoodCleaningRule** seems one of the best solution. In fact reading the paper (Source) of NCR we can see how it outperforms both RandomUnderSampling and OneSidedSelection, moreover it uses *EditedNearestNeighbours* to clean noisy data. From what the paper says, it suites very well with difficult small classes, as in our case.\n",
    "\n",
    "We'll anyway compare NCR with RandomUnderSampling.\n",
    "\n",
    "---"
   ]
  },
  {
   "cell_type": "markdown",
   "metadata": {},
   "source": [
    "This method use a combination of ENN and other methods to remove noisy samples. \n",
    "From reference [2] the results show that Neighbordhood cleaning rule performs better than One-sided selection on more than ten datasets"
   ]
  },
  {
   "cell_type": "code",
   "execution_count": 9,
   "metadata": {},
   "outputs": [
    {
     "name": "stdout",
     "output_type": "stream",
     "text": [
      "Distribution: Counter({0: 198125, 1: 344})\n"
     ]
    }
   ],
   "source": [
    "from imblearn.under_sampling import NeighbourhoodCleaningRule\n",
    "\n",
    "# The 'all' parameter is the less conservative one\n",
    "ncr = NeighbourhoodCleaningRule(sampling_strategy='auto', n_neighbors=3, kind_sel='all', threshold_cleaning=0.5)\n",
    "ncr_x, ncr_y = ncr.fit_resample(train_x, train_y)\n",
    "\n",
    "ncr_x.to_csv(path_save_data+'ncr_x')\n",
    "ncr_y.to_csv(path_save_data+'ncr_y')\n",
    "\n",
    "print(\"Distribution: {}\".format(Counter(ncr_y)))"
   ]
  },
  {
   "cell_type": "code",
   "execution_count": 10,
   "metadata": {},
   "outputs": [
    {
     "name": "stdout",
     "output_type": "stream",
     "text": [
      "Elements removed:  895\n"
     ]
    }
   ],
   "source": [
    "print(\"Elements removed: \", len(train_y)-len(ncr_y))"
   ]
  },
  {
   "cell_type": "markdown",
   "metadata": {},
   "source": [
    "Given the fact that the undersampling method does't remove a lot of samples, for a design property, we can classify these data using a cost-sensitive approach, in particular **Weighted Random Forest**, which works pretty well on unbalanced data and then we can compare the result of using the same technique on the original dataset, to see if the undersampling really remove noisy samples.\n",
    "\n",
    "Why is NCR designed to remove only few samples? We can say that this method is more oriented to *data cleaning* than data reduction:\n",
    "- Quality of classification doesn't depend solely on the size of the class, other characteristics as noise should be considered\n",
    "- It is difficult to maintain the original classification accuracy while the data is being reduced"
   ]
  },
  {
   "cell_type": "markdown",
   "metadata": {},
   "source": [
    "## Combination over and under sampling\n",
    "Source: *Gustavo EAPA Batista, Ana LC Bazzan, and Maria Carolina Monard. Balancing training data for automated annotation of keywords: a case study. In WOB, 10–18. 2003.*\n",
    "\n",
    "As we said before the SMOTE can generate noisy data due to fact that it links inliers and outliers data. This issue can be solved by cleaning the space resulting from oversampling. A possible way is using the *Edited Nearest Neighbours* to do so, this mechanism is implemented in the **SMOTEENN.**\n",
    "\n",
    "We will run this method only once and then we'll save the results due to the fact that this process is **very computationally demanding.**"
   ]
  },
  {
   "cell_type": "code",
   "execution_count": 14,
   "metadata": {},
   "outputs": [
    {
     "name": "stdout",
     "output_type": "stream",
     "text": [
      "Distribution after oversampling: Counter({1: 190618, 0: 181766})\n"
     ]
    }
   ],
   "source": [
    "from imblearn.combine import SMOTEENN\n",
    "smote_enn = SMOTEENN(random_state=0)\n",
    "smote_enn_x, smote_enn_y = smote_enn.fit_resample(train_x, train_y)\n",
    "\n",
    "smote_enn_x.to_csv(path_save_data+'smote_enn_x')\n",
    "smote_enn_y.to_csv(path_save_data+'smote_enn_y')\n",
    "\n",
    "print(\"Distribution after oversampling: {}\".format(Counter(smote_enn_y)))"
   ]
  },
  {
   "cell_type": "markdown",
   "metadata": {},
   "source": [
    "# Classification methods\n",
    "The classification phase is subdivided into two subcategories:\n",
    "- Model selection and learning phase\n",
    "- Predicting phase\n",
    "\n",
    "We'll use multiple classifiers due to the fact that we still have unbalanced data but also balanced one.\n",
    "\n",
    "https://scikit-learn.org/stable/_static/ml_map.png\n",
    "\n",
    "For unbalanced data (original dataset and NCR) we pick **Weighted Random Forest** which can be adapted to these kind of data and **Weighted SVM.**\n",
    "\n",
    "For balanced data (ROS, RUS, SMOTE, borderlineSMOTE, SMOTEENN) I avoided K-NN because it was extensively used in sampling and maybe this can led to a sort of overfitting (?), instead I pick **SVM** and **Logistic Regression** due to the fact that they are very efficient and robust even with large datasets, **Decision Trees** due to its high sensitivity so I am curios to see how it will perform. I choose these three methods because they are the most suited for numerical attributes."
   ]
  },
  {
   "cell_type": "markdown",
   "metadata": {},
   "source": [
    "## Unbalanced: Weighted Random Forest \n",
    "Source:\n",
    "- *M. Shahhosseini, Guiping Hu, Improved Weighted Random Forest for Classification Problems}, 2021.*\n",
    "\n",
    ".....\n",
    "\n",
    "Following the first reference we'll choose the right **weight** for the minority class optimizing the *area under the ROC curve (AUC).*"
   ]
  },
  {
   "cell_type": "code",
   "execution_count": 13,
   "metadata": {},
   "outputs": [
    {
     "name": "stdout",
     "output_type": "stream",
     "text": [
      "Test : Counter({0: 85295, 1: 148})\n"
     ]
    }
   ],
   "source": [
    "from sklearn.ensemble import RandomForestClassifier\n",
    "from sklearn.metrics import accuracy_score, classification_report, ConfusionMatrixDisplay\n",
    "from sklearn.metrics import roc_auc_score\n",
    "import math\n",
    "\n",
    "print(\"Test :\", Counter(test_y))"
   ]
  },
  {
   "cell_type": "code",
   "execution_count": 14,
   "metadata": {
    "scrolled": true
   },
   "outputs": [],
   "source": [
    "# Load datasets\n",
    "ncr_x = pd.read_csv(path_save_data+'ncr_x', index_col=0)\n",
    "ncr_y = pd.read_csv(path_save_data+'ncr_y', index_col=0)\n",
    "ncr_y = ncr_y.Class.values\n",
    "\n",
    "# train_x, train_y"
   ]
  },
  {
   "cell_type": "code",
   "execution_count": 15,
   "metadata": {},
   "outputs": [
    {
     "name": "stdout",
     "output_type": "stream",
     "text": [
      "Train :  (199364, 30) (199364,) Counter({0: 199020, 1: 344})\n",
      "NCR   :  (198469, 30) (198469,) Counter({0: 198125, 1: 344})\n"
     ]
    }
   ],
   "source": [
    "# Check SHAPE\n",
    "print(\"Train : \", train_x.shape, train_y.shape, Counter(train_y))\n",
    "print(\"NCR   : \", ncr_x.shape, ncr_y.shape, Counter(ncr_y))"
   ]
  },
  {
   "cell_type": "code",
   "execution_count": 16,
   "metadata": {},
   "outputs": [
    {
     "data": {
      "text/plain": [
       "{'bootstrap': True,\n",
       " 'ccp_alpha': 0.0,\n",
       " 'class_weight': None,\n",
       " 'criterion': 'gini',\n",
       " 'max_depth': None,\n",
       " 'max_features': 'sqrt',\n",
       " 'max_leaf_nodes': None,\n",
       " 'max_samples': None,\n",
       " 'min_impurity_decrease': 0.0,\n",
       " 'min_samples_leaf': 1,\n",
       " 'min_samples_split': 2,\n",
       " 'min_weight_fraction_leaf': 0.0,\n",
       " 'n_estimators': 100,\n",
       " 'n_jobs': None,\n",
       " 'oob_score': False,\n",
       " 'random_state': None,\n",
       " 'verbose': 0,\n",
       " 'warm_start': False}"
      ]
     },
     "execution_count": 16,
     "metadata": {},
     "output_type": "execute_result"
    }
   ],
   "source": [
    "rf = RandomForestClassifier()\n",
    "rf.get_params() # usually 100 trees"
   ]
  },
  {
   "cell_type": "markdown",
   "metadata": {},
   "source": [
    "### Original dataset"
   ]
  },
  {
   "cell_type": "code",
   "execution_count": 21,
   "metadata": {},
   "outputs": [
    {
     "name": "stdout",
     "output_type": "stream",
     "text": [
      "|----- Weight equal to 10 -----|\n",
      "\\_____ AUC: 0.8547062816964336 _______________/\n",
      "\n",
      "|----- Weight equal to 20 -----|\n",
      "\\_____ AUC: 0.8580846600748119 _______________/\n",
      "\n",
      "|----- Weight equal to 30 -----|\n",
      "\\_____ AUC: 0.8614630384531904 _______________/\n",
      "\n",
      "|----- Weight equal to 40 -----|\n",
      "\\_____ AUC: 0.8547062816964336 _______________/\n",
      "\n",
      "|----- Weight equal to 50 -----|\n",
      "\\_____ AUC: 0.8547062816964336 _______________/\n",
      "\n",
      "|----- Weight equal to 60 -----|\n",
      "\\_____ AUC: 0.858090522083136 _______________/\n",
      "\n",
      "|----- Weight equal to 70 -----|\n",
      "\\_____ AUC: 0.8648355548232446 _______________/\n",
      "\n",
      "The best couple weight-auc is (70,0.8648355548232446)\n",
      "CPU times: user 17min 19s, sys: 223 ms, total: 17min 20s\n",
      "Wall time: 17min 21s\n"
     ]
    }
   ],
   "source": [
    "%%time\n",
    "\n",
    "# Find the optimal weight\n",
    "best = [0, 0]\n",
    "for w in range(10, 80, 10):\n",
    "    wrf = RandomForestClassifier(class_weight={0:1, 1:w})\n",
    "    wrf.fit(train_x, train_y)\n",
    "    y_pred_wrf = wrf.predict(test_x)\n",
    "    \n",
    "    print(\"|----- Weight equal to {} -----|\".format(w))\n",
    "    r_score = roc_auc_score(test_y, y_pred_wrf)\n",
    "    if max(r_score, best[1]) == r_score:\n",
    "        best[0] = w\n",
    "        best[1] = r_score\n",
    "    print(\"\\_____ AUC: {} _______________/\\n\".format(r_score))\n",
    "    \n",
    "print(\"The best couple weight-auc is ({},{})\".format(best[0], best[1]))"
   ]
  },
  {
   "cell_type": "code",
   "execution_count": 13,
   "metadata": {},
   "outputs": [],
   "source": [
    "# Fitting and prediction\n",
    "w = 70\n",
    "\n",
    "wrf = RandomForestClassifier(class_weight={0:1, 1:w})\n",
    "wrf.fit(train_x, train_y)\n",
    "y_pred_wrf = wrf.predict(test_x)\n",
    "np.save(path_save_data+'orig_pred_y', y_pred_wrf)"
   ]
  },
  {
   "cell_type": "code",
   "execution_count": 21,
   "metadata": {},
   "outputs": [
    {
     "name": "stdout",
     "output_type": "stream",
     "text": [
      "+-----------------+------------------+----------+-----------+--------+-------+\n",
      "|       Name      | Confusion Matrix | Accuracy | Precision | Recall |   F1  |\n",
      "+-----------------+------------------+----------+-----------+--------+-------+\n",
      "| OrigWRF results |  [[85292     3]  |  0.999   |   0.972   | 0.709  | 0.820 |\n",
      "|                 |  [   43   105]]  |          |           |        |       |\n",
      "+-----------------+------------------+----------+-----------+--------+-------+\n"
     ]
    }
   ],
   "source": [
    "y_pred_wrf = np.load(path_save_data+'orig_pred_y.npy')\n",
    "res_table('OrigWRF results', test_y, y_pred_wrf)"
   ]
  },
  {
   "cell_type": "markdown",
   "metadata": {},
   "source": [
    "### Neighborhood cleaning rule"
   ]
  },
  {
   "cell_type": "code",
   "execution_count": 28,
   "metadata": {
    "scrolled": false
   },
   "outputs": [
    {
     "name": "stdout",
     "output_type": "stream",
     "text": [
      "|----- Weight equal to 10 -----|\n",
      "\\_____ AUC: 0.8614630384531904 _______________/\n",
      "\n",
      "|----- Weight equal to 20 -----|\n",
      "\\_____ AUC: 0.858090522083136 _______________/\n",
      "\n",
      "|----- Weight equal to 30 -----|\n",
      "\\_____ AUC: 0.8547062816964336 _______________/\n",
      "\n",
      "|----- Weight equal to 40 -----|\n",
      "\\_____ AUC: 0.8547062816964336 _______________/\n",
      "\n",
      "|----- Weight equal to 50 -----|\n",
      "\\_____ AUC: 0.8580846600748119 _______________/\n",
      "\n",
      "|----- Weight equal to 60 -----|\n",
      "\\_____ AUC: 0.8547062816964336 _______________/\n",
      "\n",
      "|----- Weight equal to 70 -----|\n",
      "\\_____ AUC: 0.8547004196881095 _______________/\n",
      "\n",
      "The best couple weight-auc is (10,0.8614630384531904)\n",
      "CPU times: user 17min 12s, sys: 156 ms, total: 17min 12s\n",
      "Wall time: 17min 13s\n"
     ]
    }
   ],
   "source": [
    "%%time\n",
    "\n",
    "# Find the optimal weight\n",
    "best = [0, 0]\n",
    "for w in range(10, 80, 10):\n",
    "    wrf = RandomForestClassifier(class_weight={0:1, 1:w})\n",
    "    wrf.fit(ncr_x, ncr_y)\n",
    "    y_pred_wrf = wrf.predict(test_x)\n",
    "    \n",
    "    print(\"|----- Weight equal to {} -----|\".format(w))\n",
    "    r_score = roc_auc_score(test_y, y_pred_wrf)\n",
    "    if max(r_score, best[1]) == r_score:\n",
    "        best[0] = w\n",
    "        best[1] = r_score\n",
    "    print(\"\\_____ AUC: {} _______________/\\n\".format(r_score))\n",
    "    \n",
    "print(\"The best couple weight-auc is ({},{})\".format(best[0], best[1]))"
   ]
  },
  {
   "cell_type": "code",
   "execution_count": 16,
   "metadata": {},
   "outputs": [],
   "source": [
    "# Fitting and prediction\n",
    "w = 10\n",
    "\n",
    "wrf = RandomForestClassifier(class_weight={0:1, 1:w})\n",
    "wrf.fit(ncr_x, ncr_y)\n",
    "y_pred_wrf = wrf.predict(test_x)\n",
    "np.save(path_save_data+'ncr_pred_y', y_pred_wrf)"
   ]
  },
  {
   "cell_type": "code",
   "execution_count": 22,
   "metadata": {},
   "outputs": [
    {
     "name": "stdout",
     "output_type": "stream",
     "text": [
      "+----------------+------------------+----------+-----------+--------+-------+\n",
      "|      Name      | Confusion Matrix | Accuracy | Precision | Recall |   F1  |\n",
      "+----------------+------------------+----------+-----------+--------+-------+\n",
      "| ncrWRF results |  [[85291     4]  |  0.999   |   0.963   | 0.716  | 0.821 |\n",
      "|                |  [   42   106]]  |          |           |        |       |\n",
      "+----------------+------------------+----------+-----------+--------+-------+\n"
     ]
    }
   ],
   "source": [
    "y_pred_wrf = np.load(path_save_data+'ncr_pred_y.npy')\n",
    "res_table('ncrWRF results', test_y, y_pred_wrf)"
   ]
  },
  {
   "cell_type": "markdown",
   "metadata": {},
   "source": [
    "## Balanced dataset classification\n",
    "\n",
    "(ROS, RUS, SMOTE, borderlineSMOTE, SMOTEENN)"
   ]
  },
  {
   "cell_type": "code",
   "execution_count": 26,
   "metadata": {},
   "outputs": [],
   "source": [
    "from sklearn.preprocessing import RobustScaler\n",
    "from sklearn.pipeline import Pipeline\n",
    "from sklearn.linear_model import SGDClassifier\n",
    "from sklearn.ensemble import RandomForestClassifier"
   ]
  },
  {
   "cell_type": "code",
   "execution_count": 24,
   "metadata": {},
   "outputs": [],
   "source": [
    "# Load datasets\n",
    "# orand_x, orand_y\n",
    "# urand_x, urand_y\n",
    "\n",
    "smote_x = pd.read_csv(path_save_data+'smote_x', index_col=0)\n",
    "smote_y = pd.read_csv(path_save_data+'smote_y', index_col=0)\n",
    "smote_y = smote_y.Class.values\n",
    "\n",
    "bsmote_x = pd.read_csv(path_save_data+'bsmote_x', index_col=0)\n",
    "bsmote_y = pd.read_csv(path_save_data+'bsmote_y', index_col=0)\n",
    "bsmote_y = bsmote_y.Class.values\n",
    "\n",
    "smote_enn_x = pd.read_csv(path_save_data+'smote_enn_x', index_col=0)\n",
    "smote_enn_y = pd.read_csv(path_save_data+'smote_enn_y', index_col=0)\n",
    "smote_enn_y = smote_enn_y.Class.values"
   ]
  },
  {
   "cell_type": "markdown",
   "metadata": {},
   "source": [
    "SGD Classifier needs scaling of the features and a StandardScaler needs data with a normal distribution. Given the fact that the data don't follow a gaussian curve (?) I will use the RobustScaler which additionally it is more robust to outliers."
   ]
  },
  {
   "cell_type": "code",
   "execution_count": 25,
   "metadata": {
    "scrolled": true
   },
   "outputs": [
    {
     "name": "stderr",
     "output_type": "stream",
     "text": [
      "/home/ranxerox/anaconda3/lib/python3.8/site-packages/scipy/stats/morestats.py:1681: UserWarning: p-value may not be accurate for N > 5000.\n",
      "  warnings.warn(\"p-value may not be accurate for N > 5000.\")\n"
     ]
    },
    {
     "name": "stdout",
     "output_type": "stream",
     "text": [
      "Time : not gaussian\n",
      "V1 : not gaussian\n",
      "V2 : not gaussian\n",
      "V3 : not gaussian\n",
      "V4 : not gaussian\n",
      "V5 : not gaussian\n",
      "V6 : not gaussian\n",
      "V7 : not gaussian\n",
      "V8 : not gaussian\n",
      "V9 : not gaussian\n",
      "V10 : not gaussian\n",
      "V11 : not gaussian\n",
      "V12 : not gaussian\n",
      "V13 : not gaussian\n",
      "V14 : not gaussian\n",
      "V15 : not gaussian\n",
      "V16 : not gaussian\n",
      "V17 : not gaussian\n",
      "V18 : not gaussian\n",
      "V19 : not gaussian\n",
      "V20 : not gaussian\n",
      "V21 : not gaussian\n",
      "V22 : not gaussian\n",
      "V23 : not gaussian\n",
      "V24 : not gaussian\n",
      "V25 : not gaussian\n",
      "V26 : not gaussian\n",
      "V27 : not gaussian\n",
      "V28 : not gaussian\n",
      "Amount : not gaussian\n",
      "Class : not gaussian\n"
     ]
    }
   ],
   "source": [
    "from scipy.stats import shapiro\n",
    "\n",
    "cols = df.columns\n",
    "alpha = 0.05\n",
    "\n",
    "for i in range(0, len(cols)):\n",
    "    stat, p = shapiro(df[cols[i]])\n",
    "\n",
    "    if p > alpha:\n",
    "         print(cols[i], ': gaussian')\n",
    "    else:\n",
    "         print(cols[i], ': not gaussian')"
   ]
  },
  {
   "cell_type": "markdown",
   "metadata": {},
   "source": [
    "## SGD Classifier\n",
    "SGD Classifier is a linear classifier (SVM, logistic regression, a.o.) optimized by the SGD. I used SGD classifier for efficiency (computation and memory) and also to minimize the loss (??) function of LR and SVM."
   ]
  },
  {
   "cell_type": "code",
   "execution_count": 37,
   "metadata": {},
   "outputs": [],
   "source": [
    "# Random Over Sampling\n",
    "scaler = RobustScaler()\n",
    "scaler.fit(orand_x)\n",
    "norand_x = scaler.transform(orand_x) \n",
    "ntest_x = scaler.transform(test_x)\n",
    "\n",
    "# Random Under Sampling\n",
    "scaler = RobustScaler()\n",
    "scaler.fit(urand_x)\n",
    "nurand_x = scaler.transform(urand_x) \n",
    "ntest_x = scaler.transform(test_x)\n",
    "\n",
    "# SMOTE\n",
    "scaler = RobustScaler()\n",
    "scaler.fit(smote_x)\n",
    "nsmote_x = scaler.transform(smote_x) \n",
    "ntest_x = scaler.transform(test_x)\n",
    "\n",
    "# borderlineSMOTE\n",
    "scaler = RobustScaler()\n",
    "scaler.fit(bsmote_x)\n",
    "nbsmote_x = scaler.transform(bsmote_x) \n",
    "ntest_x = scaler.transform(test_x)\n",
    "\n",
    "# SMOTEENN\n",
    "scaler = RobustScaler()\n",
    "scaler.fit(smote_enn_x)\n",
    "nsmote_enn_x = scaler.transform(smote_enn_x) \n",
    "ntest_x = scaler.transform(test_x)"
   ]
  },
  {
   "cell_type": "markdown",
   "metadata": {},
   "source": [
    "### Logistic Regression"
   ]
  },
  {
   "cell_type": "code",
   "execution_count": 38,
   "metadata": {},
   "outputs": [],
   "source": [
    "logr = SGDClassifier(loss=\"log_loss\", penalty=\"l2\")\n",
    "estimators = [('logr', logr)]\n",
    "pipe = Pipeline(estimators)"
   ]
  },
  {
   "cell_type": "markdown",
   "metadata": {},
   "source": [
    "#### RandomOverSampling"
   ]
  },
  {
   "cell_type": "code",
   "execution_count": 39,
   "metadata": {},
   "outputs": [
    {
     "name": "stdout",
     "output_type": "stream",
     "text": [
      "+----------+------------------+----------+-----------+--------+-------+\n",
      "|   Name   | Confusion Matrix | Accuracy | Precision | Recall |   F1  |\n",
      "+----------+------------------+----------+-----------+--------+-------+\n",
      "| ros logr |  [[84514   781]  |  0.990   |   0.139   | 0.858  | 0.240 |\n",
      "|          |  [   21   127]]  |          |           |        |       |\n",
      "+----------+------------------+----------+-----------+--------+-------+\n",
      "CPU times: user 1.34 s, sys: 180 ms, total: 1.52 s\n",
      "Wall time: 1.26 s\n"
     ]
    }
   ],
   "source": [
    "%%time\n",
    "\n",
    "pipe.fit(norand_x, orand_y)\n",
    "y_pred_logr = pipe.predict(ntest_x)\n",
    "np.save(path_save_data+'orand_logr_pred_y', y_pred_logr)\n",
    "\n",
    "res_table('ros logr', test_y, y_pred_logr)"
   ]
  },
  {
   "cell_type": "markdown",
   "metadata": {},
   "source": [
    "#### RandomUnderSampling"
   ]
  },
  {
   "cell_type": "code",
   "execution_count": 40,
   "metadata": {},
   "outputs": [
    {
     "name": "stdout",
     "output_type": "stream",
     "text": [
      "+----------+------------------+----------+-----------+--------+-------+\n",
      "|   Name   | Confusion Matrix | Accuracy | Precision | Recall |   F1  |\n",
      "+----------+------------------+----------+-----------+--------+-------+\n",
      "| rus logr |  [[80403  4892]  |  0.942   |   0.026   | 0.885  | 0.050 |\n",
      "|          |  [   17   131]]  |          |           |        |       |\n",
      "+----------+------------------+----------+-----------+--------+-------+\n",
      "CPU times: user 282 ms, sys: 97.9 ms, total: 380 ms\n",
      "Wall time: 169 ms\n"
     ]
    }
   ],
   "source": [
    "%%time\n",
    "\n",
    "pipe.fit(nurand_x, urand_y)\n",
    "y_pred_logr = pipe.predict(ntest_x)\n",
    "np.save(path_save_data+'urand_logr_pred_y', y_pred_logr)\n",
    "\n",
    "res_table('rus logr', test_y, y_pred_logr)"
   ]
  },
  {
   "cell_type": "markdown",
   "metadata": {},
   "source": [
    "#### SMOTE"
   ]
  },
  {
   "cell_type": "code",
   "execution_count": 41,
   "metadata": {},
   "outputs": [
    {
     "name": "stdout",
     "output_type": "stream",
     "text": [
      "+------------+------------------+----------+-----------+--------+-------+\n",
      "|    Name    | Confusion Matrix | Accuracy | Precision | Recall |   F1  |\n",
      "+------------+------------------+----------+-----------+--------+-------+\n",
      "| smote logr |  [[84767   528]  |  0.993   |   0.195   | 0.864  | 0.318 |\n",
      "|            |  [   20   128]]  |          |           |        |       |\n",
      "+------------+------------------+----------+-----------+--------+-------+\n",
      "CPU times: user 1.22 s, sys: 173 ms, total: 1.39 s\n",
      "Wall time: 1.1 s\n"
     ]
    }
   ],
   "source": [
    "%%time\n",
    "\n",
    "pipe.fit(nsmote_x, smote_y)\n",
    "y_pred_logr = pipe.predict(ntest_x)\n",
    "np.save(path_save_data+'smote_logr_pred_y', y_pred_logr)\n",
    "\n",
    "res_table('smote logr', test_y, y_pred_logr)"
   ]
  },
  {
   "cell_type": "markdown",
   "metadata": {},
   "source": [
    "#### borderlineSMOTE"
   ]
  },
  {
   "cell_type": "code",
   "execution_count": 42,
   "metadata": {},
   "outputs": [
    {
     "name": "stdout",
     "output_type": "stream",
     "text": [
      "+-------------+------------------+----------+-----------+--------+-------+\n",
      "|     Name    | Confusion Matrix | Accuracy | Precision | Recall |   F1  |\n",
      "+-------------+------------------+----------+-----------+--------+-------+\n",
      "| bsmote logr |  [[84586   709]  |  0.991   |   0.148   | 0.837  | 0.252 |\n",
      "|             |  [   24   124]]  |          |           |        |       |\n",
      "+-------------+------------------+----------+-----------+--------+-------+\n",
      "CPU times: user 1.03 s, sys: 148 ms, total: 1.18 s\n",
      "Wall time: 884 ms\n"
     ]
    }
   ],
   "source": [
    "%%time\n",
    "\n",
    "pipe.fit(nbsmote_x, bsmote_y)\n",
    "y_pred_logr = pipe.predict(ntest_x)\n",
    "np.save(path_save_data+'bsmote_logr_pred_y', y_pred_logr)\n",
    "\n",
    "res_table('bsmote logr', test_y, y_pred_logr)"
   ]
  },
  {
   "cell_type": "markdown",
   "metadata": {},
   "source": [
    "#### SMOTEENN"
   ]
  },
  {
   "cell_type": "code",
   "execution_count": 50,
   "metadata": {},
   "outputs": [
    {
     "name": "stdout",
     "output_type": "stream",
     "text": [
      "+----------------+------------------+----------+-----------+--------+-------+\n",
      "|      Name      | Confusion Matrix | Accuracy | Precision | Recall |   F1  |\n",
      "+----------------+------------------+----------+-----------+--------+-------+\n",
      "| smote_enn logr |  [[84698   597]  |  0.992   |   0.177   | 0.871  | 0.295 |\n",
      "|                |  [   19   129]]  |          |           |        |       |\n",
      "+----------------+------------------+----------+-----------+--------+-------+\n",
      "CPU times: user 964 ms, sys: 163 ms, total: 1.13 s\n",
      "Wall time: 865 ms\n"
     ]
    }
   ],
   "source": [
    "%%time\n",
    "\n",
    "pipe.fit(nsmote_enn_x, smote_enn_y)\n",
    "y_pred_logr = pipe.predict(ntest_x)\n",
    "np.save(path_save_data+'smote_enn_logr_pred_y', y_pred_logr)\n",
    "\n",
    "res_table('smote_enn logr', test_y, y_pred_logr)"
   ]
  },
  {
   "cell_type": "markdown",
   "metadata": {},
   "source": [
    "### Linear SVM"
   ]
  },
  {
   "cell_type": "code",
   "execution_count": 44,
   "metadata": {},
   "outputs": [],
   "source": [
    "lsvm = SGDClassifier(loss=\"hinge\", penalty=\"l2\")\n",
    "estimators = [('lsvm', lsvm)]\n",
    "pipe = Pipeline(estimators)"
   ]
  },
  {
   "cell_type": "markdown",
   "metadata": {},
   "source": [
    "#### RandomOverSampling"
   ]
  },
  {
   "cell_type": "code",
   "execution_count": 45,
   "metadata": {},
   "outputs": [
    {
     "name": "stdout",
     "output_type": "stream",
     "text": [
      "+----------+------------------+----------+-----------+--------+-------+\n",
      "|   Name   | Confusion Matrix | Accuracy | Precision | Recall |   F1  |\n",
      "+----------+------------------+----------+-----------+--------+-------+\n",
      "| ros lsvm |  [[84637   658]  |  0.992   |   0.159   | 0.844  | 0.268 |\n",
      "|          |  [   23   125]]  |          |           |        |       |\n",
      "+----------+------------------+----------+-----------+--------+-------+\n",
      "CPU times: user 1.19 s, sys: 151 ms, total: 1.34 s\n",
      "Wall time: 1.05 s\n"
     ]
    }
   ],
   "source": [
    "%%time\n",
    "\n",
    "pipe.fit(norand_x, orand_y)\n",
    "y_pred_lsvm = pipe.predict(ntest_x)\n",
    "np.save(path_save_data+'orand_lsvm_pred_y', y_pred_lsvm)\n",
    "\n",
    "res_table('ros lsvm', test_y, y_pred_lsvm)"
   ]
  },
  {
   "cell_type": "markdown",
   "metadata": {},
   "source": [
    "#### RandomUnderSampling"
   ]
  },
  {
   "cell_type": "code",
   "execution_count": 46,
   "metadata": {},
   "outputs": [
    {
     "name": "stdout",
     "output_type": "stream",
     "text": [
      "+----------+------------------+----------+-----------+--------+-------+\n",
      "|   Name   | Confusion Matrix | Accuracy | Precision | Recall |   F1  |\n",
      "+----------+------------------+----------+-----------+--------+-------+\n",
      "| rus lsvm |  [[82397  2898]  |  0.965   |   0.043   | 0.891  | 0.083 |\n",
      "|          |  [   16   132]]  |          |           |        |       |\n",
      "+----------+------------------+----------+-----------+--------+-------+\n",
      "CPU times: user 227 ms, sys: 103 ms, total: 331 ms\n",
      "Wall time: 176 ms\n"
     ]
    }
   ],
   "source": [
    "%%time\n",
    "\n",
    "pipe.fit(nurand_x, urand_y)\n",
    "y_pred_lsvm = pipe.predict(ntest_x)\n",
    "np.save(path_save_data+'urand_lsvm_pred_y', y_pred_lsvm)\n",
    "\n",
    "res_table('rus lsvm', test_y, y_pred_lsvm)"
   ]
  },
  {
   "cell_type": "markdown",
   "metadata": {},
   "source": [
    "#### SMOTE"
   ]
  },
  {
   "cell_type": "code",
   "execution_count": 47,
   "metadata": {},
   "outputs": [
    {
     "name": "stdout",
     "output_type": "stream",
     "text": [
      "+------------+------------------+----------+-----------+--------+-------+\n",
      "|    Name    | Confusion Matrix | Accuracy | Precision | Recall |   F1  |\n",
      "+------------+------------------+----------+-----------+--------+-------+\n",
      "| smote lsvm |  [[84976   319]  |  0.995   |   0.279   | 0.837  | 0.419 |\n",
      "|            |  [   24   124]]  |          |           |        |       |\n",
      "+------------+------------------+----------+-----------+--------+-------+\n",
      "CPU times: user 1.13 s, sys: 183 ms, total: 1.31 s\n",
      "Wall time: 1.03 s\n"
     ]
    }
   ],
   "source": [
    "%%time\n",
    "\n",
    "pipe.fit(nsmote_x, smote_y)\n",
    "y_pred_lsvm = pipe.predict(ntest_x)\n",
    "np.save(path_save_data+'smote_lsvm_pred_y', y_pred_lsvm)\n",
    "\n",
    "res_table('smote lsvm', test_y, y_pred_lsvm)"
   ]
  },
  {
   "cell_type": "markdown",
   "metadata": {},
   "source": [
    "#### borderlineSMOTE"
   ]
  },
  {
   "cell_type": "code",
   "execution_count": 48,
   "metadata": {},
   "outputs": [
    {
     "name": "stdout",
     "output_type": "stream",
     "text": [
      "+-------------+------------------+----------+-----------+--------+-------+\n",
      "|     Name    | Confusion Matrix | Accuracy | Precision | Recall |   F1  |\n",
      "+-------------+------------------+----------+-----------+--------+-------+\n",
      "| bsmote lsvm |  [[84739   556]  |  0.993   |   0.183   | 0.844  | 0.301 |\n",
      "|             |  [   23   125]]  |          |           |        |       |\n",
      "+-------------+------------------+----------+-----------+--------+-------+\n",
      "CPU times: user 800 ms, sys: 164 ms, total: 964 ms\n",
      "Wall time: 686 ms\n"
     ]
    }
   ],
   "source": [
    "%%time\n",
    "\n",
    "pipe.fit(nbsmote_x, bsmote_y)\n",
    "y_pred_lsvm = pipe.predict(ntest_x)\n",
    "np.save(path_save_data+'bsmote_lsvm_pred_y', y_pred_lsvm)\n",
    "\n",
    "res_table('bsmote lsvm', test_y, y_pred_lsvm)"
   ]
  },
  {
   "cell_type": "markdown",
   "metadata": {},
   "source": [
    "#### SMOTEENN"
   ]
  },
  {
   "cell_type": "code",
   "execution_count": 49,
   "metadata": {},
   "outputs": [
    {
     "name": "stdout",
     "output_type": "stream",
     "text": [
      "+----------------+------------------+----------+-----------+--------+-------+\n",
      "|      Name      | Confusion Matrix | Accuracy | Precision | Recall |   F1  |\n",
      "+----------------+------------------+----------+-----------+--------+-------+\n",
      "| smote_enn lsvm |  [[84299   996]  |  0.988   |   0.115   | 0.878  | 0.204 |\n",
      "|                |  [   18   130]]  |          |           |        |       |\n",
      "+----------------+------------------+----------+-----------+--------+-------+\n",
      "CPU times: user 1.02 s, sys: 183 ms, total: 1.21 s\n",
      "Wall time: 917 ms\n"
     ]
    }
   ],
   "source": [
    "%%time\n",
    "\n",
    "pipe.fit(nsmote_enn_x, smote_enn_y)\n",
    "y_pred_lsvm = pipe.predict(ntest_x)\n",
    "np.save(path_save_data+'smote_enn_lsvm_pred_y', y_pred_lsvm)\n",
    "\n",
    "res_table('smote_enn lsvm', test_y, y_pred_lsvm)"
   ]
  },
  {
   "cell_type": "markdown",
   "metadata": {},
   "source": [
    "## Random Forest"
   ]
  },
  {
   "cell_type": "code",
   "execution_count": null,
   "metadata": {},
   "outputs": [],
   "source": [
    "????????? creare pipe ??????????????"
   ]
  },
  {
   "cell_type": "code",
   "execution_count": 16,
   "metadata": {
    "scrolled": false
   },
   "outputs": [
    {
     "data": {
      "text/plain": [
       "{'bootstrap': True,\n",
       " 'ccp_alpha': 0.0,\n",
       " 'class_weight': None,\n",
       " 'criterion': 'gini',\n",
       " 'max_depth': None,\n",
       " 'max_features': 'sqrt',\n",
       " 'max_leaf_nodes': None,\n",
       " 'max_samples': None,\n",
       " 'min_impurity_decrease': 0.0,\n",
       " 'min_samples_leaf': 1,\n",
       " 'min_samples_split': 2,\n",
       " 'min_weight_fraction_leaf': 0.0,\n",
       " 'n_estimators': 100,\n",
       " 'n_jobs': None,\n",
       " 'oob_score': False,\n",
       " 'random_state': None,\n",
       " 'verbose': 0,\n",
       " 'warm_start': False}"
      ]
     },
     "execution_count": 16,
     "metadata": {},
     "output_type": "execute_result"
    }
   ],
   "source": [
    "clf = RandomForestClassifier()\n",
    "clf.get_params()"
   ]
  },
  {
   "cell_type": "markdown",
   "metadata": {},
   "source": [
    "#### Random Oversampling"
   ]
  },
  {
   "cell_type": "code",
   "execution_count": 24,
   "metadata": {},
   "outputs": [
    {
     "name": "stdout",
     "output_type": "stream",
     "text": [
      "CPU times: user 2min 25s, sys: 16 ms, total: 2min 25s\n",
      "Wall time: 2min 25s\n"
     ]
    }
   ],
   "source": [
    "%%time\n",
    "clf = RandomForestClassifier()\n",
    "clf.fit(orand_x, orand_y)\n",
    "y_pred_rf = clf.predict(test_x)\n",
    "np.save(path_save_data+'orand_rf_pred_y', y_pred_rf)"
   ]
  },
  {
   "cell_type": "code",
   "execution_count": 25,
   "metadata": {},
   "outputs": [
    {
     "data": {
      "image/png": "[encoded data removed]",
      "text/plain": [
       "<Figure size 640x480 with 2 Axes>"
      ]
     },
     "metadata": {},
     "output_type": "display_data"
    }
   ],
   "source": [
    "ConfusionMatrixDisplay.from_predictions(test_y, y_pred_rf)\n",
    "plt.show()"
   ]
  },
  {
   "cell_type": "code",
   "execution_count": 26,
   "metadata": {},
   "outputs": [
    {
     "name": "stdout",
     "output_type": "stream",
     "text": [
      "0.9995084442259752\n",
      "              precision    recall  f1-score   support\n",
      "\n",
      "           0       1.00      1.00      1.00     85295\n",
      "           1       0.96      0.75      0.84       148\n",
      "\n",
      "    accuracy                           1.00     85443\n",
      "   macro avg       0.98      0.87      0.92     85443\n",
      "weighted avg       1.00      1.00      1.00     85443\n",
      "\n"
     ]
    }
   ],
   "source": [
    "print(accuracy_score(test_y, y_pred_rf))\n",
    "print(classification_report(test_y, y_pred_rf))"
   ]
  },
  {
   "cell_type": "markdown",
   "metadata": {},
   "source": [
    "#### Random Undersampling"
   ]
  },
  {
   "cell_type": "code",
   "execution_count": 21,
   "metadata": {},
   "outputs": [
    {
     "name": "stdout",
     "output_type": "stream",
     "text": [
      "CPU times: user 785 ms, sys: 2 µs, total: 785 ms\n",
      "Wall time: 783 ms\n"
     ]
    }
   ],
   "source": [
    "%%time\n",
    "clf = RandomForestClassifier()\n",
    "clf.fit(urand_x, urand_y)\n",
    "y_pred_rf = clf.predict(test_x)\n",
    "np.save(path_save_data+'urand_rf_pred_y', y_pred_rf)"
   ]
  },
  {
   "cell_type": "code",
   "execution_count": 22,
   "metadata": {},
   "outputs": [
    {
     "data": {
      "image/png": "[encoded data removed]",
      "text/plain": [
       "<Figure size 640x480 with 2 Axes>"
      ]
     },
     "metadata": {},
     "output_type": "display_data"
    }
   ],
   "source": [
    "ConfusionMatrixDisplay.from_predictions(test_y, y_pred_rf)\n",
    "plt.show()"
   ]
  },
  {
   "cell_type": "code",
   "execution_count": 23,
   "metadata": {},
   "outputs": [
    {
     "name": "stdout",
     "output_type": "stream",
     "text": [
      "0.9690319862364384\n",
      "              precision    recall  f1-score   support\n",
      "\n",
      "           0       1.00      0.97      0.98     85295\n",
      "           1       0.05      0.89      0.09       148\n",
      "\n",
      "    accuracy                           0.97     85443\n",
      "   macro avg       0.52      0.93      0.54     85443\n",
      "weighted avg       1.00      0.97      0.98     85443\n",
      "\n"
     ]
    }
   ],
   "source": [
    "print(accuracy_score(test_y, y_pred_rf))\n",
    "print(classification_report(test_y, y_pred_rf))"
   ]
  },
  {
   "cell_type": "markdown",
   "metadata": {},
   "source": [
    "#### SMOTE"
   ]
  },
  {
   "cell_type": "code",
   "execution_count": 30,
   "metadata": {},
   "outputs": [
    {
     "name": "stdout",
     "output_type": "stream",
     "text": [
      "CPU times: user 5min 27s, sys: 36 ms, total: 5min 27s\n",
      "Wall time: 5min 27s\n"
     ]
    }
   ],
   "source": [
    "%%time\n",
    "clf = RandomForestClassifier()\n",
    "clf.fit(smote_x, smote_y)\n",
    "y_pred_rf = clf.predict(test_x)\n",
    "np.save(path_save_data+'smote_rf_pred_y', y_pred_rf)"
   ]
  },
  {
   "cell_type": "code",
   "execution_count": 31,
   "metadata": {},
   "outputs": [
    {
     "data": {
      "image/png": "[encoded data removed]",
      "text/plain": [
       "<Figure size 640x480 with 2 Axes>"
      ]
     },
     "metadata": {},
     "output_type": "display_data"
    }
   ],
   "source": [
    "ConfusionMatrixDisplay.from_predictions(test_y, y_pred_rf)\n",
    "plt.show()"
   ]
  },
  {
   "cell_type": "code",
   "execution_count": 32,
   "metadata": {},
   "outputs": [
    {
     "name": "stdout",
     "output_type": "stream",
     "text": [
      "0.9995318516437859\n",
      "              precision    recall  f1-score   support\n",
      "\n",
      "           0       1.00      1.00      1.00     85295\n",
      "           1       0.92      0.80      0.86       148\n",
      "\n",
      "    accuracy                           1.00     85443\n",
      "   macro avg       0.96      0.90      0.93     85443\n",
      "weighted avg       1.00      1.00      1.00     85443\n",
      "\n"
     ]
    }
   ],
   "source": [
    "print(accuracy_score(test_y, y_pred_rf))\n",
    "print(classification_report(test_y, y_pred_rf))"
   ]
  },
  {
   "cell_type": "markdown",
   "metadata": {},
   "source": [
    "#### Borderline SMOTE"
   ]
  },
  {
   "cell_type": "code",
   "execution_count": 33,
   "metadata": {},
   "outputs": [
    {
     "name": "stdout",
     "output_type": "stream",
     "text": [
      "CPU times: user 4min 45s, sys: 120 ms, total: 4min 45s\n",
      "Wall time: 4min 47s\n"
     ]
    }
   ],
   "source": [
    "%%time\n",
    "clf = RandomForestClassifier()\n",
    "clf.fit(bsmote_x, bsmote_y)\n",
    "y_pred_rf = clf.predict(test_x)\n",
    "np.save(path_save_data+'bsmote_rf_pred_y', y_pred_rf)"
   ]
  },
  {
   "cell_type": "code",
   "execution_count": 34,
   "metadata": {},
   "outputs": [
    {
     "data": {
      "image/png": "[encoded data removed]",
      "text/plain": [
       "<Figure size 640x480 with 2 Axes>"
      ]
     },
     "metadata": {},
     "output_type": "display_data"
    }
   ],
   "source": [
    "ConfusionMatrixDisplay.from_predictions(test_y, y_pred_rf)\n",
    "plt.show()"
   ]
  },
  {
   "cell_type": "code",
   "execution_count": 35,
   "metadata": {},
   "outputs": [
    {
     "name": "stdout",
     "output_type": "stream",
     "text": [
      "0.9994967405170698\n",
      "              precision    recall  f1-score   support\n",
      "\n",
      "           0       1.00      1.00      1.00     85295\n",
      "           1       0.96      0.74      0.84       148\n",
      "\n",
      "    accuracy                           1.00     85443\n",
      "   macro avg       0.98      0.87      0.92     85443\n",
      "weighted avg       1.00      1.00      1.00     85443\n",
      "\n"
     ]
    }
   ],
   "source": [
    "print(accuracy_score(test_y, y_pred_rf))\n",
    "print(classification_report(test_y, y_pred_rf))"
   ]
  },
  {
   "cell_type": "markdown",
   "metadata": {},
   "source": [
    "#### SMOTEENN"
   ]
  },
  {
   "cell_type": "code",
   "execution_count": 36,
   "metadata": {},
   "outputs": [
    {
     "name": "stdout",
     "output_type": "stream",
     "text": [
      "CPU times: user 5min 11s, sys: 128 ms, total: 5min 11s\n",
      "Wall time: 5min 13s\n"
     ]
    }
   ],
   "source": [
    "%%time\n",
    "clf = RandomForestClassifier()\n",
    "clf.fit(smote_enn_x, smote_enn_y)\n",
    "y_pred_rf = clf.predict(test_x)\n",
    "np.save(path_save_data+'smoteenn_rf_pred_y', y_pred_rf)"
   ]
  },
  {
   "cell_type": "code",
   "execution_count": 37,
   "metadata": {},
   "outputs": [
    {
     "data": {
      "image/png": "[encoded data removed]",
      "text/plain": [
       "<Figure size 640x480 with 2 Axes>"
      ]
     },
     "metadata": {},
     "output_type": "display_data"
    }
   ],
   "source": [
    "ConfusionMatrixDisplay.from_predictions(test_y, y_pred_rf)\n",
    "plt.show()"
   ]
  },
  {
   "cell_type": "code",
   "execution_count": 38,
   "metadata": {},
   "outputs": [
    {
     "name": "stdout",
     "output_type": "stream",
     "text": [
      "0.9994499256814484\n",
      "              precision    recall  f1-score   support\n",
      "\n",
      "           0       1.00      1.00      1.00     85295\n",
      "           1       0.87      0.80      0.83       148\n",
      "\n",
      "    accuracy                           1.00     85443\n",
      "   macro avg       0.94      0.90      0.92     85443\n",
      "weighted avg       1.00      1.00      1.00     85443\n",
      "\n"
     ]
    }
   ],
   "source": [
    "print(accuracy_score(test_y, y_pred_rf))\n",
    "print(classification_report(test_y, y_pred_rf))"
   ]
  },
  {
   "cell_type": "code",
   "execution_count": null,
   "metadata": {},
   "outputs": [],
   "source": []
  },
  {
   "cell_type": "code",
   "execution_count": null,
   "metadata": {},
   "outputs": [],
   "source": []
  },
  {
   "cell_type": "code",
   "execution_count": null,
   "metadata": {},
   "outputs": [],
   "source": [
    "convertere tutto a pipeline??"
   ]
  }
 ],
 "metadata": {
  "kernelspec": {
   "display_name": "Python 3",
   "language": "python",
   "name": "python3"
  },
  "language_info": {
   "codemirror_mode": {
    "name": "ipython",
    "version": 3
   },
   "file_extension": ".py",
   "mimetype": "text/x-python",
   "name": "python",
   "nbconvert_exporter": "python",
   "pygments_lexer": "ipython3",
   "version": "3.8.5"
  }
 },
 "nbformat": 4,
 "nbformat_minor": 4
}
