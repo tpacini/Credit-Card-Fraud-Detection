{
 "cells": [
  {
   "cell_type": "code",
   "execution_count": 1,
   "metadata": {},
   "outputs": [],
   "source": [
    "import pandas as pd\n",
    "import numpy as np\n",
    "import matplotlib.pyplot as plt\n",
    "import seaborn as sns\n",
    "from collections import Counter\n",
    "from prettytable import PrettyTable\n",
    "from sklearn.metrics import roc_curve, auc, roc_auc_score, accuracy_score, precision_score, recall_score, fbeta_score, confusion_matrix\n",
    "from sklearn.model_selection import train_test_split\n",
    "\n",
    "path_data = '../archive.zip'\n",
    "path_score = '../scores/'\n",
    "\n",
    "def res_table(name, test_y, predictions):\n",
    "    t = PrettyTable(['Name', 'Confusion Matrix', 'Accuracy', 'Precision', 'Recall', 'F2', 'ROC AUC'])\n",
    "\n",
    "    _accuracy = format(accuracy_score(test_y,predictions))\n",
    "    _precision = format(precision_score(test_y,predictions))\n",
    "    _recall = format(recall_score(test_y,predictions))\n",
    "    _roc = format(roc_auc_score(test_y,predictions))\n",
    "    _f2 = format(fbeta_score(test_y,predictions, beta=2))\n",
    "    _matrix = confusion_matrix(test_y,predictions)\n",
    "\n",
    "    t.add_row([name, _matrix, _accuracy[0:5], _precision[0:5], _recall[0:5], _f2[0:5], _roc[0:5]])\n",
    "    #t.add_row( ['', '', '', '', '', ''] )\n",
    "    \n",
    "    print(t)\n",
    "    \n",
    "def mean_scores(scores, p=1):\n",
    "    res = {}\n",
    "    if p == 1:\n",
    "        for i in scores:\n",
    "            m = np.mean(scores[i])\n",
    "            print(\"{} = {}\".format(i , m))\n",
    "    else:\n",
    "        for i in scores:\n",
    "            res.update({i:(\"%.2f\" % np.mean(scores[i]))})\n",
    "        return res\n",
    "        \n",
    "def save_score(scores, name, save=1):\n",
    "    loaded_dict = None\n",
    "    \n",
    "    if save:\n",
    "        with open(path_score+name+'.pkl', 'wb') as f:\n",
    "            pickle.dump(scores, f)\n",
    "    else:\n",
    "        with open(path_score+name+'.pkl', 'rb') as f:\n",
    "            loaded_dict = pickle.load(f)\n",
    "    \n",
    "    return loaded_dict\n",
    "\n",
    "def t_test_split(df):\n",
    "    x = df[df.columns[:-1]]\n",
    "    y = df[df.columns[-1]]\n",
    "    #print(len(df.columns))\n",
    "    #print(\"X shape:\", x.shape, \" y shape:\", y.shape)\n",
    "    \n",
    "    X_train, X_test, y_train, y_test = train_test_split(x, y, test_size=0.3, train_size=0.7, \n",
    "                                                    shuffle=y, stratify=None) \n",
    "    \n",
    "    print(\"Train:\", y_train.shape, \" Test:\", y_test.shape) \n",
    "    return (X_train, X_test, y_train, y_test)"
   ]
  },
  {
   "cell_type": "markdown",
   "metadata": {},
   "source": [
    "# Features and data understanding"
   ]
  },
  {
   "cell_type": "code",
   "execution_count": 2,
   "metadata": {
    "scrolled": true
   },
   "outputs": [
    {
     "data": {
      "text/html": [
       "<div>\n",
       "<style scoped>\n",
       "    .dataframe tbody tr th:only-of-type {\n",
       "        vertical-align: middle;\n",
       "    }\n",
       "\n",
       "    .dataframe tbody tr th {\n",
       "        vertical-align: top;\n",
       "    }\n",
       "\n",
       "    .dataframe thead th {\n",
       "        text-align: right;\n",
       "    }\n",
       "</style>\n",
       "<table border=\"1\" class=\"dataframe\">\n",
       "  <thead>\n",
       "    <tr style=\"text-align: right;\">\n",
       "      <th></th>\n",
       "      <th>Time</th>\n",
       "      <th>V1</th>\n",
       "      <th>V2</th>\n",
       "      <th>V3</th>\n",
       "      <th>V4</th>\n",
       "      <th>V5</th>\n",
       "      <th>V6</th>\n",
       "      <th>V7</th>\n",
       "      <th>V8</th>\n",
       "      <th>V9</th>\n",
       "      <th>...</th>\n",
       "      <th>V21</th>\n",
       "      <th>V22</th>\n",
       "      <th>V23</th>\n",
       "      <th>V24</th>\n",
       "      <th>V25</th>\n",
       "      <th>V26</th>\n",
       "      <th>V27</th>\n",
       "      <th>V28</th>\n",
       "      <th>Amount</th>\n",
       "      <th>Class</th>\n",
       "    </tr>\n",
       "  </thead>\n",
       "  <tbody>\n",
       "    <tr>\n",
       "      <th>count</th>\n",
       "      <td>284807.000000</td>\n",
       "      <td>2.848070e+05</td>\n",
       "      <td>2.848070e+05</td>\n",
       "      <td>2.848070e+05</td>\n",
       "      <td>2.848070e+05</td>\n",
       "      <td>2.848070e+05</td>\n",
       "      <td>2.848070e+05</td>\n",
       "      <td>2.848070e+05</td>\n",
       "      <td>2.848070e+05</td>\n",
       "      <td>2.848070e+05</td>\n",
       "      <td>...</td>\n",
       "      <td>2.848070e+05</td>\n",
       "      <td>2.848070e+05</td>\n",
       "      <td>2.848070e+05</td>\n",
       "      <td>2.848070e+05</td>\n",
       "      <td>2.848070e+05</td>\n",
       "      <td>2.848070e+05</td>\n",
       "      <td>2.848070e+05</td>\n",
       "      <td>2.848070e+05</td>\n",
       "      <td>284807.000000</td>\n",
       "      <td>284807.000000</td>\n",
       "    </tr>\n",
       "    <tr>\n",
       "      <th>mean</th>\n",
       "      <td>94813.859575</td>\n",
       "      <td>3.918649e-15</td>\n",
       "      <td>5.682686e-16</td>\n",
       "      <td>-8.761736e-15</td>\n",
       "      <td>2.811118e-15</td>\n",
       "      <td>-1.552103e-15</td>\n",
       "      <td>2.040130e-15</td>\n",
       "      <td>-1.698953e-15</td>\n",
       "      <td>-1.893285e-16</td>\n",
       "      <td>-3.147640e-15</td>\n",
       "      <td>...</td>\n",
       "      <td>1.473120e-16</td>\n",
       "      <td>8.042109e-16</td>\n",
       "      <td>5.282512e-16</td>\n",
       "      <td>4.456271e-15</td>\n",
       "      <td>1.426896e-15</td>\n",
       "      <td>1.701640e-15</td>\n",
       "      <td>-3.662252e-16</td>\n",
       "      <td>-1.217809e-16</td>\n",
       "      <td>88.349619</td>\n",
       "      <td>0.001727</td>\n",
       "    </tr>\n",
       "    <tr>\n",
       "      <th>std</th>\n",
       "      <td>47488.145955</td>\n",
       "      <td>1.958696e+00</td>\n",
       "      <td>1.651309e+00</td>\n",
       "      <td>1.516255e+00</td>\n",
       "      <td>1.415869e+00</td>\n",
       "      <td>1.380247e+00</td>\n",
       "      <td>1.332271e+00</td>\n",
       "      <td>1.237094e+00</td>\n",
       "      <td>1.194353e+00</td>\n",
       "      <td>1.098632e+00</td>\n",
       "      <td>...</td>\n",
       "      <td>7.345240e-01</td>\n",
       "      <td>7.257016e-01</td>\n",
       "      <td>6.244603e-01</td>\n",
       "      <td>6.056471e-01</td>\n",
       "      <td>5.212781e-01</td>\n",
       "      <td>4.822270e-01</td>\n",
       "      <td>4.036325e-01</td>\n",
       "      <td>3.300833e-01</td>\n",
       "      <td>250.120109</td>\n",
       "      <td>0.041527</td>\n",
       "    </tr>\n",
       "    <tr>\n",
       "      <th>min</th>\n",
       "      <td>0.000000</td>\n",
       "      <td>-5.640751e+01</td>\n",
       "      <td>-7.271573e+01</td>\n",
       "      <td>-4.832559e+01</td>\n",
       "      <td>-5.683171e+00</td>\n",
       "      <td>-1.137433e+02</td>\n",
       "      <td>-2.616051e+01</td>\n",
       "      <td>-4.355724e+01</td>\n",
       "      <td>-7.321672e+01</td>\n",
       "      <td>-1.343407e+01</td>\n",
       "      <td>...</td>\n",
       "      <td>-3.483038e+01</td>\n",
       "      <td>-1.093314e+01</td>\n",
       "      <td>-4.480774e+01</td>\n",
       "      <td>-2.836627e+00</td>\n",
       "      <td>-1.029540e+01</td>\n",
       "      <td>-2.604551e+00</td>\n",
       "      <td>-2.256568e+01</td>\n",
       "      <td>-1.543008e+01</td>\n",
       "      <td>0.000000</td>\n",
       "      <td>0.000000</td>\n",
       "    </tr>\n",
       "    <tr>\n",
       "      <th>25%</th>\n",
       "      <td>54201.500000</td>\n",
       "      <td>-9.203734e-01</td>\n",
       "      <td>-5.985499e-01</td>\n",
       "      <td>-8.903648e-01</td>\n",
       "      <td>-8.486401e-01</td>\n",
       "      <td>-6.915971e-01</td>\n",
       "      <td>-7.682956e-01</td>\n",
       "      <td>-5.540759e-01</td>\n",
       "      <td>-2.086297e-01</td>\n",
       "      <td>-6.430976e-01</td>\n",
       "      <td>...</td>\n",
       "      <td>-2.283949e-01</td>\n",
       "      <td>-5.423504e-01</td>\n",
       "      <td>-1.618463e-01</td>\n",
       "      <td>-3.545861e-01</td>\n",
       "      <td>-3.171451e-01</td>\n",
       "      <td>-3.269839e-01</td>\n",
       "      <td>-7.083953e-02</td>\n",
       "      <td>-5.295979e-02</td>\n",
       "      <td>5.600000</td>\n",
       "      <td>0.000000</td>\n",
       "    </tr>\n",
       "    <tr>\n",
       "      <th>50%</th>\n",
       "      <td>84692.000000</td>\n",
       "      <td>1.810880e-02</td>\n",
       "      <td>6.548556e-02</td>\n",
       "      <td>1.798463e-01</td>\n",
       "      <td>-1.984653e-02</td>\n",
       "      <td>-5.433583e-02</td>\n",
       "      <td>-2.741871e-01</td>\n",
       "      <td>4.010308e-02</td>\n",
       "      <td>2.235804e-02</td>\n",
       "      <td>-5.142873e-02</td>\n",
       "      <td>...</td>\n",
       "      <td>-2.945017e-02</td>\n",
       "      <td>6.781943e-03</td>\n",
       "      <td>-1.119293e-02</td>\n",
       "      <td>4.097606e-02</td>\n",
       "      <td>1.659350e-02</td>\n",
       "      <td>-5.213911e-02</td>\n",
       "      <td>1.342146e-03</td>\n",
       "      <td>1.124383e-02</td>\n",
       "      <td>22.000000</td>\n",
       "      <td>0.000000</td>\n",
       "    </tr>\n",
       "    <tr>\n",
       "      <th>75%</th>\n",
       "      <td>139320.500000</td>\n",
       "      <td>1.315642e+00</td>\n",
       "      <td>8.037239e-01</td>\n",
       "      <td>1.027196e+00</td>\n",
       "      <td>7.433413e-01</td>\n",
       "      <td>6.119264e-01</td>\n",
       "      <td>3.985649e-01</td>\n",
       "      <td>5.704361e-01</td>\n",
       "      <td>3.273459e-01</td>\n",
       "      <td>5.971390e-01</td>\n",
       "      <td>...</td>\n",
       "      <td>1.863772e-01</td>\n",
       "      <td>5.285536e-01</td>\n",
       "      <td>1.476421e-01</td>\n",
       "      <td>4.395266e-01</td>\n",
       "      <td>3.507156e-01</td>\n",
       "      <td>2.409522e-01</td>\n",
       "      <td>9.104512e-02</td>\n",
       "      <td>7.827995e-02</td>\n",
       "      <td>77.165000</td>\n",
       "      <td>0.000000</td>\n",
       "    </tr>\n",
       "    <tr>\n",
       "      <th>max</th>\n",
       "      <td>172792.000000</td>\n",
       "      <td>2.454930e+00</td>\n",
       "      <td>2.205773e+01</td>\n",
       "      <td>9.382558e+00</td>\n",
       "      <td>1.687534e+01</td>\n",
       "      <td>3.480167e+01</td>\n",
       "      <td>7.330163e+01</td>\n",
       "      <td>1.205895e+02</td>\n",
       "      <td>2.000721e+01</td>\n",
       "      <td>1.559499e+01</td>\n",
       "      <td>...</td>\n",
       "      <td>2.720284e+01</td>\n",
       "      <td>1.050309e+01</td>\n",
       "      <td>2.252841e+01</td>\n",
       "      <td>4.584549e+00</td>\n",
       "      <td>7.519589e+00</td>\n",
       "      <td>3.517346e+00</td>\n",
       "      <td>3.161220e+01</td>\n",
       "      <td>3.384781e+01</td>\n",
       "      <td>25691.160000</td>\n",
       "      <td>1.000000</td>\n",
       "    </tr>\n",
       "  </tbody>\n",
       "</table>\n",
       "<p>8 rows × 31 columns</p>\n",
       "</div>"
      ],
      "text/plain": [
       "                Time            V1            V2            V3            V4  \\\n",
       "count  284807.000000  2.848070e+05  2.848070e+05  2.848070e+05  2.848070e+05   \n",
       "mean    94813.859575  3.918649e-15  5.682686e-16 -8.761736e-15  2.811118e-15   \n",
       "std     47488.145955  1.958696e+00  1.651309e+00  1.516255e+00  1.415869e+00   \n",
       "min         0.000000 -5.640751e+01 -7.271573e+01 -4.832559e+01 -5.683171e+00   \n",
       "25%     54201.500000 -9.203734e-01 -5.985499e-01 -8.903648e-01 -8.486401e-01   \n",
       "50%     84692.000000  1.810880e-02  6.548556e-02  1.798463e-01 -1.984653e-02   \n",
       "75%    139320.500000  1.315642e+00  8.037239e-01  1.027196e+00  7.433413e-01   \n",
       "max    172792.000000  2.454930e+00  2.205773e+01  9.382558e+00  1.687534e+01   \n",
       "\n",
       "                 V5            V6            V7            V8            V9  \\\n",
       "count  2.848070e+05  2.848070e+05  2.848070e+05  2.848070e+05  2.848070e+05   \n",
       "mean  -1.552103e-15  2.040130e-15 -1.698953e-15 -1.893285e-16 -3.147640e-15   \n",
       "std    1.380247e+00  1.332271e+00  1.237094e+00  1.194353e+00  1.098632e+00   \n",
       "min   -1.137433e+02 -2.616051e+01 -4.355724e+01 -7.321672e+01 -1.343407e+01   \n",
       "25%   -6.915971e-01 -7.682956e-01 -5.540759e-01 -2.086297e-01 -6.430976e-01   \n",
       "50%   -5.433583e-02 -2.741871e-01  4.010308e-02  2.235804e-02 -5.142873e-02   \n",
       "75%    6.119264e-01  3.985649e-01  5.704361e-01  3.273459e-01  5.971390e-01   \n",
       "max    3.480167e+01  7.330163e+01  1.205895e+02  2.000721e+01  1.559499e+01   \n",
       "\n",
       "       ...           V21           V22           V23           V24  \\\n",
       "count  ...  2.848070e+05  2.848070e+05  2.848070e+05  2.848070e+05   \n",
       "mean   ...  1.473120e-16  8.042109e-16  5.282512e-16  4.456271e-15   \n",
       "std    ...  7.345240e-01  7.257016e-01  6.244603e-01  6.056471e-01   \n",
       "min    ... -3.483038e+01 -1.093314e+01 -4.480774e+01 -2.836627e+00   \n",
       "25%    ... -2.283949e-01 -5.423504e-01 -1.618463e-01 -3.545861e-01   \n",
       "50%    ... -2.945017e-02  6.781943e-03 -1.119293e-02  4.097606e-02   \n",
       "75%    ...  1.863772e-01  5.285536e-01  1.476421e-01  4.395266e-01   \n",
       "max    ...  2.720284e+01  1.050309e+01  2.252841e+01  4.584549e+00   \n",
       "\n",
       "                V25           V26           V27           V28         Amount  \\\n",
       "count  2.848070e+05  2.848070e+05  2.848070e+05  2.848070e+05  284807.000000   \n",
       "mean   1.426896e-15  1.701640e-15 -3.662252e-16 -1.217809e-16      88.349619   \n",
       "std    5.212781e-01  4.822270e-01  4.036325e-01  3.300833e-01     250.120109   \n",
       "min   -1.029540e+01 -2.604551e+00 -2.256568e+01 -1.543008e+01       0.000000   \n",
       "25%   -3.171451e-01 -3.269839e-01 -7.083953e-02 -5.295979e-02       5.600000   \n",
       "50%    1.659350e-02 -5.213911e-02  1.342146e-03  1.124383e-02      22.000000   \n",
       "75%    3.507156e-01  2.409522e-01  9.104512e-02  7.827995e-02      77.165000   \n",
       "max    7.519589e+00  3.517346e+00  3.161220e+01  3.384781e+01   25691.160000   \n",
       "\n",
       "               Class  \n",
       "count  284807.000000  \n",
       "mean        0.001727  \n",
       "std         0.041527  \n",
       "min         0.000000  \n",
       "25%         0.000000  \n",
       "50%         0.000000  \n",
       "75%         0.000000  \n",
       "max         1.000000  \n",
       "\n",
       "[8 rows x 31 columns]"
      ]
     },
     "execution_count": 2,
     "metadata": {},
     "output_type": "execute_result"
    }
   ],
   "source": [
    "# http://www.ulb.ac.be/di/map/adalpozz/data/creditcard.Rdata\n",
    "df = pd.read_csv(path_data, sep=',')\n",
    "df.describe(include='all')"
   ]
  },
  {
   "cell_type": "code",
   "execution_count": 3,
   "metadata": {},
   "outputs": [
    {
     "data": {
      "text/html": [
       "<div>\n",
       "<style scoped>\n",
       "    .dataframe tbody tr th:only-of-type {\n",
       "        vertical-align: middle;\n",
       "    }\n",
       "\n",
       "    .dataframe tbody tr th {\n",
       "        vertical-align: top;\n",
       "    }\n",
       "\n",
       "    .dataframe thead th {\n",
       "        text-align: right;\n",
       "    }\n",
       "</style>\n",
       "<table border=\"1\" class=\"dataframe\">\n",
       "  <thead>\n",
       "    <tr style=\"text-align: right;\">\n",
       "      <th></th>\n",
       "      <th>Time</th>\n",
       "      <th>V1</th>\n",
       "      <th>V2</th>\n",
       "      <th>V3</th>\n",
       "      <th>V4</th>\n",
       "      <th>V5</th>\n",
       "      <th>V6</th>\n",
       "      <th>V7</th>\n",
       "      <th>V8</th>\n",
       "      <th>V9</th>\n",
       "      <th>...</th>\n",
       "      <th>V21</th>\n",
       "      <th>V22</th>\n",
       "      <th>V23</th>\n",
       "      <th>V24</th>\n",
       "      <th>V25</th>\n",
       "      <th>V26</th>\n",
       "      <th>V27</th>\n",
       "      <th>V28</th>\n",
       "      <th>Amount</th>\n",
       "      <th>Class</th>\n",
       "    </tr>\n",
       "  </thead>\n",
       "  <tbody>\n",
       "    <tr>\n",
       "      <th>0</th>\n",
       "      <td>0.0</td>\n",
       "      <td>-1.359807</td>\n",
       "      <td>-0.072781</td>\n",
       "      <td>2.536347</td>\n",
       "      <td>1.378155</td>\n",
       "      <td>-0.338321</td>\n",
       "      <td>0.462388</td>\n",
       "      <td>0.239599</td>\n",
       "      <td>0.098698</td>\n",
       "      <td>0.363787</td>\n",
       "      <td>...</td>\n",
       "      <td>-0.018307</td>\n",
       "      <td>0.277838</td>\n",
       "      <td>-0.110474</td>\n",
       "      <td>0.066928</td>\n",
       "      <td>0.128539</td>\n",
       "      <td>-0.189115</td>\n",
       "      <td>0.133558</td>\n",
       "      <td>-0.021053</td>\n",
       "      <td>149.62</td>\n",
       "      <td>0</td>\n",
       "    </tr>\n",
       "    <tr>\n",
       "      <th>1</th>\n",
       "      <td>0.0</td>\n",
       "      <td>1.191857</td>\n",
       "      <td>0.266151</td>\n",
       "      <td>0.166480</td>\n",
       "      <td>0.448154</td>\n",
       "      <td>0.060018</td>\n",
       "      <td>-0.082361</td>\n",
       "      <td>-0.078803</td>\n",
       "      <td>0.085102</td>\n",
       "      <td>-0.255425</td>\n",
       "      <td>...</td>\n",
       "      <td>-0.225775</td>\n",
       "      <td>-0.638672</td>\n",
       "      <td>0.101288</td>\n",
       "      <td>-0.339846</td>\n",
       "      <td>0.167170</td>\n",
       "      <td>0.125895</td>\n",
       "      <td>-0.008983</td>\n",
       "      <td>0.014724</td>\n",
       "      <td>2.69</td>\n",
       "      <td>0</td>\n",
       "    </tr>\n",
       "    <tr>\n",
       "      <th>2</th>\n",
       "      <td>1.0</td>\n",
       "      <td>-1.358354</td>\n",
       "      <td>-1.340163</td>\n",
       "      <td>1.773209</td>\n",
       "      <td>0.379780</td>\n",
       "      <td>-0.503198</td>\n",
       "      <td>1.800499</td>\n",
       "      <td>0.791461</td>\n",
       "      <td>0.247676</td>\n",
       "      <td>-1.514654</td>\n",
       "      <td>...</td>\n",
       "      <td>0.247998</td>\n",
       "      <td>0.771679</td>\n",
       "      <td>0.909412</td>\n",
       "      <td>-0.689281</td>\n",
       "      <td>-0.327642</td>\n",
       "      <td>-0.139097</td>\n",
       "      <td>-0.055353</td>\n",
       "      <td>-0.059752</td>\n",
       "      <td>378.66</td>\n",
       "      <td>0</td>\n",
       "    </tr>\n",
       "    <tr>\n",
       "      <th>3</th>\n",
       "      <td>1.0</td>\n",
       "      <td>-0.966272</td>\n",
       "      <td>-0.185226</td>\n",
       "      <td>1.792993</td>\n",
       "      <td>-0.863291</td>\n",
       "      <td>-0.010309</td>\n",
       "      <td>1.247203</td>\n",
       "      <td>0.237609</td>\n",
       "      <td>0.377436</td>\n",
       "      <td>-1.387024</td>\n",
       "      <td>...</td>\n",
       "      <td>-0.108300</td>\n",
       "      <td>0.005274</td>\n",
       "      <td>-0.190321</td>\n",
       "      <td>-1.175575</td>\n",
       "      <td>0.647376</td>\n",
       "      <td>-0.221929</td>\n",
       "      <td>0.062723</td>\n",
       "      <td>0.061458</td>\n",
       "      <td>123.50</td>\n",
       "      <td>0</td>\n",
       "    </tr>\n",
       "    <tr>\n",
       "      <th>4</th>\n",
       "      <td>2.0</td>\n",
       "      <td>-1.158233</td>\n",
       "      <td>0.877737</td>\n",
       "      <td>1.548718</td>\n",
       "      <td>0.403034</td>\n",
       "      <td>-0.407193</td>\n",
       "      <td>0.095921</td>\n",
       "      <td>0.592941</td>\n",
       "      <td>-0.270533</td>\n",
       "      <td>0.817739</td>\n",
       "      <td>...</td>\n",
       "      <td>-0.009431</td>\n",
       "      <td>0.798278</td>\n",
       "      <td>-0.137458</td>\n",
       "      <td>0.141267</td>\n",
       "      <td>-0.206010</td>\n",
       "      <td>0.502292</td>\n",
       "      <td>0.219422</td>\n",
       "      <td>0.215153</td>\n",
       "      <td>69.99</td>\n",
       "      <td>0</td>\n",
       "    </tr>\n",
       "  </tbody>\n",
       "</table>\n",
       "<p>5 rows × 31 columns</p>\n",
       "</div>"
      ],
      "text/plain": [
       "   Time        V1        V2        V3        V4        V5        V6        V7  \\\n",
       "0   0.0 -1.359807 -0.072781  2.536347  1.378155 -0.338321  0.462388  0.239599   \n",
       "1   0.0  1.191857  0.266151  0.166480  0.448154  0.060018 -0.082361 -0.078803   \n",
       "2   1.0 -1.358354 -1.340163  1.773209  0.379780 -0.503198  1.800499  0.791461   \n",
       "3   1.0 -0.966272 -0.185226  1.792993 -0.863291 -0.010309  1.247203  0.237609   \n",
       "4   2.0 -1.158233  0.877737  1.548718  0.403034 -0.407193  0.095921  0.592941   \n",
       "\n",
       "         V8        V9  ...       V21       V22       V23       V24       V25  \\\n",
       "0  0.098698  0.363787  ... -0.018307  0.277838 -0.110474  0.066928  0.128539   \n",
       "1  0.085102 -0.255425  ... -0.225775 -0.638672  0.101288 -0.339846  0.167170   \n",
       "2  0.247676 -1.514654  ...  0.247998  0.771679  0.909412 -0.689281 -0.327642   \n",
       "3  0.377436 -1.387024  ... -0.108300  0.005274 -0.190321 -1.175575  0.647376   \n",
       "4 -0.270533  0.817739  ... -0.009431  0.798278 -0.137458  0.141267 -0.206010   \n",
       "\n",
       "        V26       V27       V28  Amount  Class  \n",
       "0 -0.189115  0.133558 -0.021053  149.62      0  \n",
       "1  0.125895 -0.008983  0.014724    2.69      0  \n",
       "2 -0.139097 -0.055353 -0.059752  378.66      0  \n",
       "3 -0.221929  0.062723  0.061458  123.50      0  \n",
       "4  0.502292  0.219422  0.215153   69.99      0  \n",
       "\n",
       "[5 rows x 31 columns]"
      ]
     },
     "execution_count": 3,
     "metadata": {},
     "output_type": "execute_result"
    }
   ],
   "source": [
    "df.head()"
   ]
  },
  {
   "cell_type": "markdown",
   "metadata": {},
   "source": [
    "No null values are present inside the dataset"
   ]
  },
  {
   "cell_type": "code",
   "execution_count": 4,
   "metadata": {
    "scrolled": true
   },
   "outputs": [
    {
     "name": "stdout",
     "output_type": "stream",
     "text": [
      "<class 'pandas.core.frame.DataFrame'>\n",
      "RangeIndex: 284807 entries, 0 to 284806\n",
      "Data columns (total 31 columns):\n",
      " #   Column  Non-Null Count   Dtype  \n",
      "---  ------  --------------   -----  \n",
      " 0   Time    284807 non-null  float64\n",
      " 1   V1      284807 non-null  float64\n",
      " 2   V2      284807 non-null  float64\n",
      " 3   V3      284807 non-null  float64\n",
      " 4   V4      284807 non-null  float64\n",
      " 5   V5      284807 non-null  float64\n",
      " 6   V6      284807 non-null  float64\n",
      " 7   V7      284807 non-null  float64\n",
      " 8   V8      284807 non-null  float64\n",
      " 9   V9      284807 non-null  float64\n",
      " 10  V10     284807 non-null  float64\n",
      " 11  V11     284807 non-null  float64\n",
      " 12  V12     284807 non-null  float64\n",
      " 13  V13     284807 non-null  float64\n",
      " 14  V14     284807 non-null  float64\n",
      " 15  V15     284807 non-null  float64\n",
      " 16  V16     284807 non-null  float64\n",
      " 17  V17     284807 non-null  float64\n",
      " 18  V18     284807 non-null  float64\n",
      " 19  V19     284807 non-null  float64\n",
      " 20  V20     284807 non-null  float64\n",
      " 21  V21     284807 non-null  float64\n",
      " 22  V22     284807 non-null  float64\n",
      " 23  V23     284807 non-null  float64\n",
      " 24  V24     284807 non-null  float64\n",
      " 25  V25     284807 non-null  float64\n",
      " 26  V26     284807 non-null  float64\n",
      " 27  V27     284807 non-null  float64\n",
      " 28  V28     284807 non-null  float64\n",
      " 29  Amount  284807 non-null  float64\n",
      " 30  Class   284807 non-null  int64  \n",
      "dtypes: float64(30), int64(1)\n",
      "memory usage: 67.4 MB\n"
     ]
    }
   ],
   "source": [
    "df.info()"
   ]
  },
  {
   "cell_type": "code",
   "execution_count": 5,
   "metadata": {
    "scrolled": true
   },
   "outputs": [
    {
     "data": {
      "text/plain": [
       "Time      0\n",
       "V1        0\n",
       "V2        0\n",
       "V3        0\n",
       "V4        0\n",
       "V5        0\n",
       "V6        0\n",
       "V7        0\n",
       "V8        0\n",
       "V9        0\n",
       "V10       0\n",
       "V11       0\n",
       "V12       0\n",
       "V13       0\n",
       "V14       0\n",
       "V15       0\n",
       "V16       0\n",
       "V17       0\n",
       "V18       0\n",
       "V19       0\n",
       "V20       0\n",
       "V21       0\n",
       "V22       0\n",
       "V23       0\n",
       "V24       0\n",
       "V25       0\n",
       "V26       0\n",
       "V27       0\n",
       "V28       0\n",
       "Amount    0\n",
       "Class     0\n",
       "dtype: int64"
      ]
     },
     "execution_count": 5,
     "metadata": {},
     "output_type": "execute_result"
    }
   ],
   "source": [
    "df.isna().sum()"
   ]
  },
  {
   "cell_type": "markdown",
   "metadata": {},
   "source": [
    "Next, we check if there are duplicated fields. In the positive case we'll remove them because useless to our analysis. "
   ]
  },
  {
   "cell_type": "code",
   "execution_count": 3,
   "metadata": {},
   "outputs": [
    {
     "name": "stdout",
     "output_type": "stream",
     "text": [
      "Number of duplicates: 1081\n"
     ]
    }
   ],
   "source": [
    "n = 0\n",
    "for c in df.duplicated():\n",
    "    if c == True:\n",
    "        n += 1\n",
    "\n",
    "print(\"Number of duplicates:\", n)"
   ]
  },
  {
   "cell_type": "code",
   "execution_count": 4,
   "metadata": {},
   "outputs": [],
   "source": [
    "df = df.drop_duplicates(keep=False)"
   ]
  },
  {
   "cell_type": "code",
   "execution_count": 5,
   "metadata": {},
   "outputs": [
    {
     "name": "stdout",
     "output_type": "stream",
     "text": [
      "Check... 0\n"
     ]
    }
   ],
   "source": [
    "n = 0\n",
    "for c in df.duplicated():\n",
    "    if c == True:\n",
    "        n += 1\n",
    "\n",
    "print(\"Check...\", n)"
   ]
  },
  {
   "cell_type": "markdown",
   "metadata": {},
   "source": [
    "## Histograms and correlation matrix"
   ]
  },
  {
   "cell_type": "markdown",
   "metadata": {},
   "source": [
    "We can see from the next graph how the dataset is highly unbalanced"
   ]
  },
  {
   "cell_type": "code",
   "execution_count": 25,
   "metadata": {},
   "outputs": [
    {
     "data": {
      "image/png": "[encoded data removed]",
      "text/plain": [
       "<Figure size 640x480 with 1 Axes>"
      ]
     },
     "metadata": {},
     "output_type": "display_data"
    }
   ],
   "source": [
    "# df[\"Class\"].plot(kind=\"hist\", bins=3, logy=True)\n",
    "\n",
    "new_df = pd.DataFrame({'Class':['0', '1'], 'val':[len(df[df['Class']==0]), len(df[df['Class']==1])]})\n",
    "new_df.plot.bar(x='Class', y='val', rot=0)\n",
    "plt.show()"
   ]
  },
  {
   "cell_type": "markdown",
   "metadata": {},
   "source": [
    "Time distribution"
   ]
  },
  {
   "cell_type": "code",
   "execution_count": 9,
   "metadata": {
    "scrolled": false
   },
   "outputs": [
    {
     "data": {
      "image/png": "[encoded data removed]",
      "text/plain": [
       "<Figure size 640x480 with 1 Axes>"
      ]
     },
     "metadata": {},
     "output_type": "display_data"
    }
   ],
   "source": [
    "df[\"Time\"].plot(kind=\"hist\", bins=30)\n",
    "plt.show()"
   ]
  },
  {
   "cell_type": "markdown",
   "metadata": {},
   "source": [
    "Next, from the amount histogram we can see that we have three **outliers**, we'll not manage them because they are really a low percentage of the total dataset."
   ]
  },
  {
   "cell_type": "code",
   "execution_count": 20,
   "metadata": {
    "scrolled": false
   },
   "outputs": [
    {
     "data": {
      "image/png": "[encoded data removed]",
      "text/plain": [
       "<Figure size 640x480 with 1 Axes>"
      ]
     },
     "metadata": {},
     "output_type": "display_data"
    }
   ],
   "source": [
    "df[\"Amount\"].plot(kind=\"hist\", logy=True)\n",
    "plt.show()"
   ]
  },
  {
   "cell_type": "code",
   "execution_count": 3,
   "metadata": {
    "scrolled": false
   },
   "outputs": [
    {
     "data": {
      "image/png": "[encoded data removed]",
      "text/plain": [
       "<Figure size 640x480 with 1 Axes>"
      ]
     },
     "metadata": {},
     "output_type": "display_data"
    }
   ],
   "source": [
    "df[['Time', 'Amount']].set_index('Time').plot(title='\"Amount\" of the transactions over time')\n",
    "plt.show()"
   ]
  },
  {
   "cell_type": "code",
   "execution_count": 12,
   "metadata": {
    "scrolled": false
   },
   "outputs": [
    {
     "data": {
      "image/png": "[encoded data removed]",
      "text/plain": [
       "<Figure size 1500x1000 with 30 Axes>"
      ]
     },
     "metadata": {},
     "output_type": "display_data"
    }
   ],
   "source": [
    "cols = df.columns.drop(['Time', 'Amount', 'Class'])\n",
    "df[cols].hist(bins=10, figsize=(15, 10))\n",
    "plt.show()"
   ]
  },
  {
   "cell_type": "code",
   "execution_count": 13,
   "metadata": {
    "scrolled": false
   },
   "outputs": [
    {
     "data": {
      "image/png": "[encoded data removed]",
      "text/plain": [
       "<Figure size 900x700 with 2 Axes>"
      ]
     },
     "metadata": {},
     "output_type": "display_data"
    }
   ],
   "source": [
    "corr = df.corr()\n",
    "\n",
    "# Generate a mask for the upper triangle\n",
    "mask = np.triu(np.ones_like(corr, dtype=bool))\n",
    "\n",
    "# Set up the matplotlib figure\n",
    "f, ax = plt.subplots(figsize=(9, 7))\n",
    "\n",
    "# Generate a custom diverging colormap\n",
    "cmap = sns.diverging_palette(230, 20, as_cmap=True)\n",
    "\n",
    "# Draw the heatmap with the mask and correct aspect ratio\n",
    "sns.heatmap(corr, mask=mask, cmap=cmap, vmax=.3, center=0,\n",
    "            square=True, linewidths=.5, cbar_kws={\"shrink\": .5})\n",
    "plt.show()"
   ]
  },
  {
   "cell_type": "markdown",
   "metadata": {},
   "source": [
    "# Data preprocessing: z-score normalization\n",
    "We'll normalize the amount to obtain smaller values but maintaining the same distribution. Additionally we'll prefer the **z-score normalization** to other techniques like *min-max* because it's more robust to outliers"
   ]
  },
  {
   "cell_type": "code",
   "execution_count": 6,
   "metadata": {
    "scrolled": false
   },
   "outputs": [
    {
     "data": {
      "image/png": "[encoded data removed]",
      "text/plain": [
       "<Figure size 640x480 with 1 Axes>"
      ]
     },
     "metadata": {},
     "output_type": "display_data"
    },
    {
     "name": "stdout",
     "output_type": "stream",
     "text": [
      "CPU times: user 723 ms, sys: 15.6 ms, total: 739 ms\n",
      "Wall time: 752 ms\n"
     ]
    }
   ],
   "source": [
    "%%time\n",
    "from scipy.stats import zscore\n",
    "\n",
    "df['Amount'] = zscore(df['Amount'])\n",
    "df[\"Amount\"].hist(bins=30, log=True)\n",
    "plt.show()"
   ]
  },
  {
   "cell_type": "code",
   "execution_count": 7,
   "metadata": {},
   "outputs": [
    {
     "data": {
      "text/plain": [
       "0    0.243788\n",
       "1   -0.342602\n",
       "2    1.157874\n",
       "3    0.139544\n",
       "4   -0.074011\n",
       "Name: Amount, dtype: float64"
      ]
     },
     "execution_count": 7,
     "metadata": {},
     "output_type": "execute_result"
    }
   ],
   "source": [
    "df['Amount'].head()"
   ]
  },
  {
   "cell_type": "markdown",
   "metadata": {},
   "source": [
    "Below is represented the distribution of the samples, differentiated by class, over time."
   ]
  },
  {
   "cell_type": "code",
   "execution_count": 14,
   "metadata": {
    "scrolled": false
   },
   "outputs": [
    {
     "data": {
      "image/png": "[encoded data removed]",
      "text/plain": [
       "<Figure size 640x480 with 1 Axes>"
      ]
     },
     "metadata": {},
     "output_type": "display_data"
    }
   ],
   "source": [
    "p_df = df[df['Class'] == 1]\n",
    "\n",
    "n_df = df[df['Class'] == 0]\n",
    "n_df = n_df.take([c for c in range(0, len(n_df), 200)])\n",
    "\n",
    "\n",
    "res = pd.concat([p_df, n_df])\n",
    "\n",
    "sns.scatterplot(data=res, x='Time', y='Class', hue='Class')\n",
    "plt.gca().set_title('Distribution of the classes over time')\n",
    "plt.show()"
   ]
  },
  {
   "cell_type": "markdown",
   "metadata": {},
   "source": [
    "# Cross validation with sampling\n",
    "We'll use KFold with k equal to 5. We follow different approach based on the Time feature:\n",
    "- No Time Feature\n",
    "- Unchanged data\n",
    "\n",
    "We apply the **stratified** approach to have a fair approach over all the folds.\n",
    "\n",
    "We use three samplers: NCR, SMOTE, borderlineSMOTE\n",
    "\n",
    "We use three models: Linear SVM, Logistic Regression and Decision Trees (weighted in case of NCR)"
   ]
  },
  {
   "cell_type": "code",
   "execution_count": 5,
   "metadata": {
    "scrolled": true
   },
   "outputs": [],
   "source": [
    "from imblearn.under_sampling import NeighbourhoodCleaningRule\n",
    "from imblearn.over_sampling import BorderlineSMOTE\n",
    "from imblearn.over_sampling import SMOTE\n",
    "\n",
    "from sklearn.linear_model import SGDClassifier\n",
    "from sklearn.tree import DecisionTreeClassifier\n",
    "\n",
    "from imblearn.pipeline import Pipeline\n",
    "from sklearn.preprocessing import RobustScaler\n",
    "from sklearn.model_selection import cross_validate\n",
    "from sklearn.model_selection import StratifiedKFold\n",
    "from sklearn.metrics import fbeta_score, make_scorer\n",
    "from sklearn.model_selection import GridSearchCV\n",
    "import pickle\n",
    "\n",
    "smote = SMOTE()\n",
    "bsmote = BorderlineSMOTE(kind='borderline-1')\n",
    "ncr = NeighbourhoodCleaningRule(sampling_strategy='auto', n_neighbors=3, kind_sel='all', threshold_cleaning=0.5)"
   ]
  },
  {
   "cell_type": "code",
   "execution_count": 6,
   "metadata": {},
   "outputs": [],
   "source": [
    "def logr_s(X_train, y_train, sampler, s_sampler, params, i):\n",
    "    logr = SGDClassifier(loss=\"log_loss\", penalty=\"l2\", **params)\n",
    "    robust_scaler = RobustScaler()\n",
    "    cv = StratifiedKFold(n_splits=5, shuffle=False)\n",
    "    \n",
    "    ftwo_scorer = make_scorer(fbeta_score, beta=2)\n",
    "    scoring = {\n",
    "        'accuracy':'accuracy', \n",
    "        'recall':'recall',\n",
    "        'precision':'precision', \n",
    "        'roc_auc':'roc_auc', \n",
    "        'ftwo':ftwo_scorer\n",
    "    }\n",
    "    \n",
    "    scores = cross_validate(Pipeline([('robust_scaler', robust_scaler), (s_sampler, sampler), ('logr', logr)]), X_train, y_train, cv=cv, scoring=scoring) \n",
    "    save_score(scores, 'logr_'+s_sampler+'_'+str(i), 1)\n",
    "    mean_scores(scores)\n",
    "    \n",
    "def lsvm_s(X_train, y_train, sampler, s_sampler, params, i):\n",
    "    lsvm = SGDClassifier(loss=\"hinge\", penalty=\"l2\", **params)\n",
    "    robust_scaler = RobustScaler()\n",
    "    cv = StratifiedKFold(n_splits=5, shuffle=False)\n",
    "    \n",
    "    ftwo_scorer = make_scorer(fbeta_score, beta=2)\n",
    "    scoring = {\n",
    "        'accuracy':'accuracy', \n",
    "        'recall':'recall',\n",
    "        'precision':'precision', \n",
    "        'roc_auc':'roc_auc', \n",
    "        'ftwo':ftwo_scorer\n",
    "    }\n",
    "    \n",
    "    scores = cross_validate(Pipeline([('robust_scaler', robust_scaler), (s_sampler, sampler), ('lsvm', lsvm)]), X_train, y_train, cv=cv, scoring=scoring)\n",
    "    save_score(scores, 'lsvm_'+s_sampler+'_'+str(i), 1)\n",
    "    mean_scores(scores)\n",
    "    \n",
    "def dt_s(X_train, y_train, sampler, s_sampler, params, i):\n",
    "    dt = DecisionTreeClassifier(**params)\n",
    "    cv = StratifiedKFold(n_splits=5, shuffle=False)\n",
    "    \n",
    "    ftwo_scorer = make_scorer(fbeta_score, beta=2)\n",
    "    scoring = {\n",
    "        'accuracy':'accuracy', \n",
    "        'recall':'recall',\n",
    "        'precision':'precision', \n",
    "        'roc_auc':'roc_auc', \n",
    "        'ftwo':ftwo_scorer\n",
    "    }\n",
    "    \n",
    "    scores = cross_validate(Pipeline([(s_sampler, sampler), ('dt', dt)]), X_train, y_train, scoring=scoring, cv=cv)\n",
    "    save_score(scores, 'dt_'+s_sampler+'_'+str(i), 1)\n",
    "    mean_scores(scores)\n",
    "    \n",
    "def comp_table(names, scores):\n",
    "    t = PrettyTable(['Name', 'Accuracy', 'Recall', 'Precision', 'ROC AUC', 'F2'])\n",
    "    i = 0\n",
    "    \n",
    "    for score in scores:\n",
    "        _accuracy = format(score['test_accuracy'])\n",
    "        _precision = format(score['test_precision'])\n",
    "        _recall = format(score['test_recall'])\n",
    "        _roc_auc = format(score['test_roc_auc'])\n",
    "        _ftwo = format(score['test_ftwo'])\n",
    "\n",
    "        t.add_row([names[i], _accuracy, _recall, _precision, _roc_auc, _ftwo])\n",
    "        i += 1\n",
    "        #t.add_row( ['', '', '', '', '', ''] )\n",
    "    \n",
    "    return t"
   ]
  },
  {
   "cell_type": "markdown",
   "metadata": {},
   "source": [
    "## Removing \"Time\" feature"
   ]
  },
  {
   "cell_type": "code",
   "execution_count": 48,
   "metadata": {
    "scrolled": true
   },
   "outputs": [
    {
     "data": {
      "text/html": [
       "<div>\n",
       "<style scoped>\n",
       "    .dataframe tbody tr th:only-of-type {\n",
       "        vertical-align: middle;\n",
       "    }\n",
       "\n",
       "    .dataframe tbody tr th {\n",
       "        vertical-align: top;\n",
       "    }\n",
       "\n",
       "    .dataframe thead th {\n",
       "        text-align: right;\n",
       "    }\n",
       "</style>\n",
       "<table border=\"1\" class=\"dataframe\">\n",
       "  <thead>\n",
       "    <tr style=\"text-align: right;\">\n",
       "      <th></th>\n",
       "      <th>V1</th>\n",
       "      <th>V2</th>\n",
       "      <th>V3</th>\n",
       "      <th>V4</th>\n",
       "      <th>V5</th>\n",
       "      <th>V6</th>\n",
       "      <th>V7</th>\n",
       "      <th>V8</th>\n",
       "      <th>V9</th>\n",
       "      <th>V10</th>\n",
       "      <th>...</th>\n",
       "      <th>V21</th>\n",
       "      <th>V22</th>\n",
       "      <th>V23</th>\n",
       "      <th>V24</th>\n",
       "      <th>V25</th>\n",
       "      <th>V26</th>\n",
       "      <th>V27</th>\n",
       "      <th>V28</th>\n",
       "      <th>Amount</th>\n",
       "      <th>Class</th>\n",
       "    </tr>\n",
       "  </thead>\n",
       "  <tbody>\n",
       "    <tr>\n",
       "      <th>0</th>\n",
       "      <td>-1.359807</td>\n",
       "      <td>-0.072781</td>\n",
       "      <td>2.536347</td>\n",
       "      <td>1.378155</td>\n",
       "      <td>-0.338321</td>\n",
       "      <td>0.462388</td>\n",
       "      <td>0.239599</td>\n",
       "      <td>0.098698</td>\n",
       "      <td>0.363787</td>\n",
       "      <td>0.090794</td>\n",
       "      <td>...</td>\n",
       "      <td>-0.018307</td>\n",
       "      <td>0.277838</td>\n",
       "      <td>-0.110474</td>\n",
       "      <td>0.066928</td>\n",
       "      <td>0.128539</td>\n",
       "      <td>-0.189115</td>\n",
       "      <td>0.133558</td>\n",
       "      <td>-0.021053</td>\n",
       "      <td>0.244964</td>\n",
       "      <td>0</td>\n",
       "    </tr>\n",
       "    <tr>\n",
       "      <th>1</th>\n",
       "      <td>1.191857</td>\n",
       "      <td>0.266151</td>\n",
       "      <td>0.166480</td>\n",
       "      <td>0.448154</td>\n",
       "      <td>0.060018</td>\n",
       "      <td>-0.082361</td>\n",
       "      <td>-0.078803</td>\n",
       "      <td>0.085102</td>\n",
       "      <td>-0.255425</td>\n",
       "      <td>-0.166974</td>\n",
       "      <td>...</td>\n",
       "      <td>-0.225775</td>\n",
       "      <td>-0.638672</td>\n",
       "      <td>0.101288</td>\n",
       "      <td>-0.339846</td>\n",
       "      <td>0.167170</td>\n",
       "      <td>0.125895</td>\n",
       "      <td>-0.008983</td>\n",
       "      <td>0.014724</td>\n",
       "      <td>-0.342475</td>\n",
       "      <td>0</td>\n",
       "    </tr>\n",
       "    <tr>\n",
       "      <th>2</th>\n",
       "      <td>-1.358354</td>\n",
       "      <td>-1.340163</td>\n",
       "      <td>1.773209</td>\n",
       "      <td>0.379780</td>\n",
       "      <td>-0.503198</td>\n",
       "      <td>1.800499</td>\n",
       "      <td>0.791461</td>\n",
       "      <td>0.247676</td>\n",
       "      <td>-1.514654</td>\n",
       "      <td>0.207643</td>\n",
       "      <td>...</td>\n",
       "      <td>0.247998</td>\n",
       "      <td>0.771679</td>\n",
       "      <td>0.909412</td>\n",
       "      <td>-0.689281</td>\n",
       "      <td>-0.327642</td>\n",
       "      <td>-0.139097</td>\n",
       "      <td>-0.055353</td>\n",
       "      <td>-0.059752</td>\n",
       "      <td>1.160686</td>\n",
       "      <td>0</td>\n",
       "    </tr>\n",
       "    <tr>\n",
       "      <th>3</th>\n",
       "      <td>-0.966272</td>\n",
       "      <td>-0.185226</td>\n",
       "      <td>1.792993</td>\n",
       "      <td>-0.863291</td>\n",
       "      <td>-0.010309</td>\n",
       "      <td>1.247203</td>\n",
       "      <td>0.237609</td>\n",
       "      <td>0.377436</td>\n",
       "      <td>-1.387024</td>\n",
       "      <td>-0.054952</td>\n",
       "      <td>...</td>\n",
       "      <td>-0.108300</td>\n",
       "      <td>0.005274</td>\n",
       "      <td>-0.190321</td>\n",
       "      <td>-1.175575</td>\n",
       "      <td>0.647376</td>\n",
       "      <td>-0.221929</td>\n",
       "      <td>0.062723</td>\n",
       "      <td>0.061458</td>\n",
       "      <td>0.140534</td>\n",
       "      <td>0</td>\n",
       "    </tr>\n",
       "    <tr>\n",
       "      <th>4</th>\n",
       "      <td>-1.158233</td>\n",
       "      <td>0.877737</td>\n",
       "      <td>1.548718</td>\n",
       "      <td>0.403034</td>\n",
       "      <td>-0.407193</td>\n",
       "      <td>0.095921</td>\n",
       "      <td>0.592941</td>\n",
       "      <td>-0.270533</td>\n",
       "      <td>0.817739</td>\n",
       "      <td>0.753074</td>\n",
       "      <td>...</td>\n",
       "      <td>-0.009431</td>\n",
       "      <td>0.798278</td>\n",
       "      <td>-0.137458</td>\n",
       "      <td>0.141267</td>\n",
       "      <td>-0.206010</td>\n",
       "      <td>0.502292</td>\n",
       "      <td>0.219422</td>\n",
       "      <td>0.215153</td>\n",
       "      <td>-0.073403</td>\n",
       "      <td>0</td>\n",
       "    </tr>\n",
       "  </tbody>\n",
       "</table>\n",
       "<p>5 rows × 30 columns</p>\n",
       "</div>"
      ],
      "text/plain": [
       "         V1        V2        V3        V4        V5        V6        V7  \\\n",
       "0 -1.359807 -0.072781  2.536347  1.378155 -0.338321  0.462388  0.239599   \n",
       "1  1.191857  0.266151  0.166480  0.448154  0.060018 -0.082361 -0.078803   \n",
       "2 -1.358354 -1.340163  1.773209  0.379780 -0.503198  1.800499  0.791461   \n",
       "3 -0.966272 -0.185226  1.792993 -0.863291 -0.010309  1.247203  0.237609   \n",
       "4 -1.158233  0.877737  1.548718  0.403034 -0.407193  0.095921  0.592941   \n",
       "\n",
       "         V8        V9       V10  ...       V21       V22       V23       V24  \\\n",
       "0  0.098698  0.363787  0.090794  ... -0.018307  0.277838 -0.110474  0.066928   \n",
       "1  0.085102 -0.255425 -0.166974  ... -0.225775 -0.638672  0.101288 -0.339846   \n",
       "2  0.247676 -1.514654  0.207643  ...  0.247998  0.771679  0.909412 -0.689281   \n",
       "3  0.377436 -1.387024 -0.054952  ... -0.108300  0.005274 -0.190321 -1.175575   \n",
       "4 -0.270533  0.817739  0.753074  ... -0.009431  0.798278 -0.137458  0.141267   \n",
       "\n",
       "        V25       V26       V27       V28    Amount  Class  \n",
       "0  0.128539 -0.189115  0.133558 -0.021053  0.244964      0  \n",
       "1  0.167170  0.125895 -0.008983  0.014724 -0.342475      0  \n",
       "2 -0.327642 -0.139097 -0.055353 -0.059752  1.160686      0  \n",
       "3  0.647376 -0.221929  0.062723  0.061458  0.140534      0  \n",
       "4 -0.206010  0.502292  0.219422  0.215153 -0.073403      0  \n",
       "\n",
       "[5 rows x 30 columns]"
      ]
     },
     "execution_count": 48,
     "metadata": {},
     "output_type": "execute_result"
    }
   ],
   "source": [
    "# Drop \"Time\" column\n",
    "no_t_df = df.copy()\n",
    "no_t_df.drop('Time', axis=1, inplace=True)\n",
    "no_t_df.head()"
   ]
  },
  {
   "cell_type": "code",
   "execution_count": 49,
   "metadata": {},
   "outputs": [
    {
     "name": "stdout",
     "output_type": "stream",
     "text": [
      "Train: (199364,)  Test: (85443,)\n"
     ]
    }
   ],
   "source": [
    "X_train, X_test, y_train, y_test = t_test_split(no_t_df)"
   ]
  },
  {
   "cell_type": "markdown",
   "metadata": {},
   "source": [
    "### NCR"
   ]
  },
  {
   "cell_type": "code",
   "execution_count": 50,
   "metadata": {},
   "outputs": [
    {
     "name": "stdout",
     "output_type": "stream",
     "text": [
      "fit_time = 50.574842023849484\n",
      "score_time = 0.09890379905700683\n",
      "test_accuracy = 0.997853175304304\n",
      "test_recall = 0.8579710144927537\n",
      "test_precision = 0.45154913291449433\n",
      "test_roc_auc = 0.9797548527277625\n",
      "test_ftwo = 0.7225222500141367\n",
      "CPU times: user 15min 19s, sys: 1.54 s, total: 15min 20s\n",
      "Wall time: 4min 13s\n"
     ]
    }
   ],
   "source": [
    "%%time\n",
    "params = {'class_weight':{0: 1, 1: 50}}\n",
    "lsvm_s(X_train, y_train, ncr, 'ncr', params, 0);"
   ]
  },
  {
   "cell_type": "code",
   "execution_count": 51,
   "metadata": {},
   "outputs": [
    {
     "name": "stdout",
     "output_type": "stream",
     "text": [
      "fit_time = 56.784356689453126\n",
      "score_time = 0.10216374397277832\n",
      "test_accuracy = 0.9975221230848957\n",
      "test_recall = 0.8608695652173914\n",
      "test_precision = 0.43950778301888027\n",
      "test_roc_auc = 0.9797688424185786\n",
      "test_ftwo = 0.7055621385838171\n",
      "CPU times: user 16min, sys: 2.86 s, total: 16min 3s\n",
      "Wall time: 4min 44s\n"
     ]
    }
   ],
   "source": [
    "%%time\n",
    "params = {'class_weight':{0: 1, 1: 50}}\n",
    "logr_s(X_train, y_train, ncr, 'ncr', params, 0);"
   ]
  },
  {
   "cell_type": "code",
   "execution_count": 52,
   "metadata": {
    "scrolled": true
   },
   "outputs": [
    {
     "name": "stdout",
     "output_type": "stream",
     "text": [
      "fit_time = 67.89653415679932\n",
      "score_time = 0.05566935539245606\n",
      "test_accuracy = 0.9991974476325899\n",
      "test_recall = 0.7971014492753623\n",
      "test_precision = 0.7562234051882906\n",
      "test_roc_auc = 0.8983246153833389\n",
      "test_ftwo = 0.7878213565164235\n",
      "CPU times: user 16min 33s, sys: 2.08 s, total: 16min 35s\n",
      "Wall time: 5min 39s\n"
     ]
    }
   ],
   "source": [
    "%%time\n",
    "params = {'class_weight':{0: 1, 1: 50}}\n",
    "dt_s(X_train, y_train, ncr, 'ncr', params, 0);"
   ]
  },
  {
   "cell_type": "markdown",
   "metadata": {},
   "source": [
    "### Balanced Data"
   ]
  },
  {
   "cell_type": "markdown",
   "metadata": {},
   "source": [
    "#### SMOTE"
   ]
  },
  {
   "cell_type": "code",
   "execution_count": 53,
   "metadata": {},
   "outputs": [
    {
     "name": "stdout",
     "output_type": "stream",
     "text": [
      "fit_time = 1.249621295928955\n",
      "score_time = 0.10879182815551758\n",
      "test_accuracy = 0.977172404129701\n",
      "test_recall = 0.9043478260869564\n",
      "test_precision = 0.06975698186503962\n",
      "test_roc_auc = 0.9739560499536658\n",
      "test_ftwo = 0.2622336538656673\n",
      "CPU times: user 7.63 s, sys: 1.25 s, total: 8.88 s\n",
      "Wall time: 6.82 s\n"
     ]
    }
   ],
   "source": [
    "%%time\n",
    "lsvm_s(X_train, y_train, smote, 'smote', {}, 0);"
   ]
  },
  {
   "cell_type": "code",
   "execution_count": 54,
   "metadata": {},
   "outputs": [
    {
     "name": "stdout",
     "output_type": "stream",
     "text": [
      "fit_time = 1.5121169090270996\n",
      "score_time = 0.10318951606750489\n",
      "test_accuracy = 0.9745691397685645\n",
      "test_recall = 0.9014492753623188\n",
      "test_precision = 0.05946968214461159\n",
      "test_roc_auc = 0.9744946246704954\n",
      "test_ftwo = 0.23403717842758293\n",
      "CPU times: user 8.95 s, sys: 1.21 s, total: 10.2 s\n",
      "Wall time: 8.11 s\n"
     ]
    }
   ],
   "source": [
    "%%time\n",
    "logr_s(X_train, y_train, smote, 'smote', {}, 0);"
   ]
  },
  {
   "cell_type": "code",
   "execution_count": 55,
   "metadata": {},
   "outputs": [
    {
     "name": "stdout",
     "output_type": "stream",
     "text": [
      "fit_time = 24.194241285324097\n",
      "score_time = 0.05957045555114746\n",
      "test_accuracy = 0.9975873277270099\n",
      "test_recall = 0.7826086956521738\n",
      "test_precision = 0.4072496111068465\n",
      "test_roc_auc = 0.8902843444077341\n",
      "test_ftwo = 0.6577080314062117\n",
      "CPU times: user 2min 1s, sys: 348 ms, total: 2min 1s\n",
      "Wall time: 2min 1s\n"
     ]
    }
   ],
   "source": [
    "%%time\n",
    "dt_s(X_train, y_train, smote, 'smote', {}, 0);"
   ]
  },
  {
   "cell_type": "markdown",
   "metadata": {},
   "source": [
    "#### borderlineSMOTE"
   ]
  },
  {
   "cell_type": "code",
   "execution_count": 56,
   "metadata": {},
   "outputs": [
    {
     "name": "stdout",
     "output_type": "stream",
     "text": [
      "fit_time = 2.8291234493255617\n",
      "score_time = 0.11015825271606446\n",
      "test_accuracy = 0.9945326100628323\n",
      "test_recall = 0.8579710144927535\n",
      "test_precision = 0.23185026630606495\n",
      "test_roc_auc = 0.9712456085611312\n",
      "test_ftwo = 0.5505644214804951\n",
      "CPU times: user 16.9 s, sys: 1.22 s, total: 18.1 s\n",
      "Wall time: 14.7 s\n"
     ]
    }
   ],
   "source": [
    "%%time\n",
    "lsvm_s(X_train, y_train, bsmote, 'bsmote', {}, 0);"
   ]
  },
  {
   "cell_type": "code",
   "execution_count": 57,
   "metadata": {},
   "outputs": [
    {
     "name": "stdout",
     "output_type": "stream",
     "text": [
      "fit_time = 4.042091274261475\n",
      "score_time = 0.10531449317932129\n",
      "test_accuracy = 0.9945275933824643\n",
      "test_recall = 0.8608695652173912\n",
      "test_precision = 0.23093012914481625\n",
      "test_roc_auc = 0.9723210414373431\n",
      "test_ftwo = 0.5510345518968613\n",
      "CPU times: user 23.5 s, sys: 1.32 s, total: 24.8 s\n",
      "Wall time: 20.8 s\n"
     ]
    }
   ],
   "source": [
    "%%time\n",
    "logr_s(X_train, y_train, bsmote, 'bsmote', {}, 0);"
   ]
  },
  {
   "cell_type": "code",
   "execution_count": 58,
   "metadata": {},
   "outputs": [
    {
     "name": "stdout",
     "output_type": "stream",
     "text": [
      "fit_time = 31.226459646224974\n",
      "score_time = 0.05485682487487793\n",
      "test_accuracy = 0.999021889608858\n",
      "test_recall = 0.7275362318840579\n",
      "test_precision = 0.717843481654957\n",
      "test_roc_auc = 0.8635143713372789\n",
      "test_ftwo = 0.7236668349696205\n",
      "CPU times: user 2min 37s, sys: 404 ms, total: 2min 37s\n",
      "Wall time: 2min 36s\n"
     ]
    }
   ],
   "source": [
    "%%time\n",
    "dt_s(X_train, y_train, bsmote, 'bsmote', {}, 0);"
   ]
  },
  {
   "cell_type": "markdown",
   "metadata": {},
   "source": [
    "## Unchanged \"Time\" feature"
   ]
  },
  {
   "cell_type": "code",
   "execution_count": 59,
   "metadata": {
    "scrolled": true
   },
   "outputs": [
    {
     "name": "stdout",
     "output_type": "stream",
     "text": [
      "Train: (199364,)  Test: (85443,)\n"
     ]
    }
   ],
   "source": [
    "X_train, X_test, y_train, y_test = t_test_split(df)"
   ]
  },
  {
   "cell_type": "markdown",
   "metadata": {},
   "source": [
    "### NCR"
   ]
  },
  {
   "cell_type": "code",
   "execution_count": 60,
   "metadata": {},
   "outputs": [
    {
     "name": "stdout",
     "output_type": "stream",
     "text": [
      "fit_time = 53.63715305328369\n",
      "score_time = 0.10778484344482422\n",
      "test_accuracy = 0.9964085843389439\n",
      "test_recall = 0.8506666666666668\n",
      "test_precision = 0.3473802781917536\n",
      "test_roc_auc = 0.9768460422194677\n",
      "test_ftwo = 0.6495261437908496\n",
      "CPU times: user 16min 1s, sys: 1.82 s, total: 16min 3s\n",
      "Wall time: 4min 28s\n"
     ]
    }
   ],
   "source": [
    "%%time\n",
    "params = {'class_weight':{0: 1, 1: 50}}\n",
    "lsvm_s(X_train, y_train, ncr, 'ncr', params, 1);"
   ]
  },
  {
   "cell_type": "code",
   "execution_count": 61,
   "metadata": {},
   "outputs": [
    {
     "name": "stdout",
     "output_type": "stream",
     "text": [
      "fit_time = 53.442127752304074\n",
      "score_time = 0.10208277702331543\n",
      "test_accuracy = 0.9976274541251137\n",
      "test_recall = 0.8373333333333333\n",
      "test_precision = 0.44543414509753926\n",
      "test_roc_auc = 0.9796148293620662\n",
      "test_ftwo = 0.705773392835711\n",
      "CPU times: user 16min 11s, sys: 1.79 s, total: 16min 13s\n",
      "Wall time: 4min 27s\n"
     ]
    }
   ],
   "source": [
    "%%time\n",
    "params = {'class_weight':{0: 1, 1: 50}}\n",
    "logr_s(X_train, y_train, ncr, 'ncr', params, 1);"
   ]
  },
  {
   "cell_type": "code",
   "execution_count": 62,
   "metadata": {
    "scrolled": true
   },
   "outputs": [
    {
     "name": "stdout",
     "output_type": "stream",
     "text": [
      "fit_time = 62.16217837333679\n",
      "score_time = 0.05408391952514648\n",
      "test_accuracy = 0.9991021445436774\n",
      "test_recall = 0.7386666666666666\n",
      "test_precision = 0.7748532546155\n",
      "test_roc_auc = 0.8691298043182497\n",
      "test_ftwo = 0.7451412136406066\n",
      "CPU times: user 16min 37s, sys: 945 ms, total: 16min 38s\n",
      "Wall time: 5min 11s\n"
     ]
    }
   ],
   "source": [
    "%%time\n",
    "params = {'class_weight':{0: 1, 1: 50}}\n",
    "dt_s(X_train, y_train, ncr, 'ncr', params, 1);"
   ]
  },
  {
   "cell_type": "markdown",
   "metadata": {},
   "source": [
    "### Balanced Data"
   ]
  },
  {
   "cell_type": "markdown",
   "metadata": {},
   "source": [
    "#### SMOTE"
   ]
  },
  {
   "cell_type": "code",
   "execution_count": 63,
   "metadata": {},
   "outputs": [
    {
     "name": "stdout",
     "output_type": "stream",
     "text": [
      "fit_time = 1.3179447650909424\n",
      "score_time = 0.10475850105285645\n",
      "test_accuracy = 0.9717050203567675\n",
      "test_recall = 0.8960000000000001\n",
      "test_precision = 0.05744941498666646\n",
      "test_roc_auc = 0.9753165033654059\n",
      "test_ftwo = 0.22783869203425794\n",
      "CPU times: user 8.05 s, sys: 1.31 s, total: 9.36 s\n",
      "Wall time: 7.14 s\n"
     ]
    }
   ],
   "source": [
    "%%time\n",
    "lsvm_s(X_train, y_train, smote, 'smote', {}, 1);"
   ]
  },
  {
   "cell_type": "code",
   "execution_count": 64,
   "metadata": {},
   "outputs": [
    {
     "name": "stdout",
     "output_type": "stream",
     "text": [
      "fit_time = 1.6802938461303711\n",
      "score_time = 0.10369672775268554\n",
      "test_accuracy = 0.9747245881727856\n",
      "test_recall = 0.9013333333333333\n",
      "test_precision = 0.06432212973139824\n",
      "test_roc_auc = 0.974997760523108\n",
      "test_ftwo = 0.24951545324360377\n",
      "CPU times: user 9.91 s, sys: 1.36 s, total: 11.3 s\n",
      "Wall time: 8.97 s\n"
     ]
    }
   ],
   "source": [
    "%%time\n",
    "logr_s(X_train, y_train, smote, 'smote', {}, 1);"
   ]
  },
  {
   "cell_type": "code",
   "execution_count": 65,
   "metadata": {},
   "outputs": [
    {
     "name": "stdout",
     "output_type": "stream",
     "text": [
      "fit_time = 27.981116247177123\n",
      "score_time = 0.054451274871826175\n",
      "test_accuracy = 0.9974117707096838\n",
      "test_recall = 0.7893333333333332\n",
      "test_precision = 0.40409702170197886\n",
      "test_roc_auc = 0.893568616424621\n",
      "test_ftwo = 0.662723052736407\n",
      "CPU times: user 2min 20s, sys: 352 ms, total: 2min 20s\n",
      "Wall time: 2min 20s\n"
     ]
    }
   ],
   "source": [
    "%%time\n",
    "dt_s(X_train, y_train, smote, 'smote', {}, 1);"
   ]
  },
  {
   "cell_type": "markdown",
   "metadata": {},
   "source": [
    "#### borderlineSMOTE"
   ]
  },
  {
   "cell_type": "code",
   "execution_count": 66,
   "metadata": {},
   "outputs": [
    {
     "name": "stdout",
     "output_type": "stream",
     "text": [
      "fit_time = 2.2311988353729246\n",
      "score_time = 0.1029233455657959\n",
      "test_accuracy = 0.9895718359040355\n",
      "test_recall = 0.8533333333333335\n",
      "test_precision = 0.1603698335190738\n",
      "test_roc_auc = 0.9625779794364032\n",
      "test_ftwo = 0.4323230790942743\n",
      "CPU times: user 13.9 s, sys: 1.37 s, total: 15.2 s\n",
      "Wall time: 11.7 s\n"
     ]
    }
   ],
   "source": [
    "%%time\n",
    "lsvm_s(X_train, y_train, bsmote, 'bsmote', {}, 1);"
   ]
  },
  {
   "cell_type": "code",
   "execution_count": 67,
   "metadata": {},
   "outputs": [
    {
     "name": "stdout",
     "output_type": "stream",
     "text": [
      "fit_time = 2.627454996109009\n",
      "score_time = 0.10179977416992188\n",
      "test_accuracy = 0.9901386414053626\n",
      "test_recall = 0.8533333333333335\n",
      "test_precision = 0.16593443536578234\n",
      "test_roc_auc = 0.9610777025296102\n",
      "test_ftwo = 0.4433247382712091\n",
      "CPU times: user 15.9 s, sys: 1.43 s, total: 17.3 s\n",
      "Wall time: 13.7 s\n"
     ]
    }
   ],
   "source": [
    "%%time\n",
    "logr_s(X_train, y_train, bsmote, 'bsmote', {}, 1);"
   ]
  },
  {
   "cell_type": "code",
   "execution_count": 68,
   "metadata": {},
   "outputs": [
    {
     "name": "stdout",
     "output_type": "stream",
     "text": [
      "fit_time = 26.421068716049195\n",
      "score_time = 0.054596662521362305\n",
      "test_accuracy = 0.9987961719520875\n",
      "test_recall = 0.7706666666666667\n",
      "test_precision = 0.654749492098391\n",
      "test_roc_auc = 0.8849463771314934\n",
      "test_ftwo = 0.7437953741851526\n",
      "CPU times: user 2min 13s, sys: 400 ms, total: 2min 13s\n",
      "Wall time: 2min 12s\n"
     ]
    }
   ],
   "source": [
    "%%time\n",
    "dt_s(X_train, y_train, bsmote, 'bsmote', {}, 1);"
   ]
  },
  {
   "cell_type": "markdown",
   "metadata": {},
   "source": [
    "# Results of CV with the two methods"
   ]
  },
  {
   "cell_type": "markdown",
   "metadata": {},
   "source": [
    "## Retrieve scores"
   ]
  },
  {
   "cell_type": "code",
   "execution_count": 69,
   "metadata": {
    "scrolled": true
   },
   "outputs": [],
   "source": [
    "# Removed \"Time\"\n",
    "scores1 = []\n",
    "\n",
    "logr_ncr = mean_scores(save_score(None, 'logr_ncr_0', 0), 0)\n",
    "lsvm_ncr = mean_scores(save_score(None, 'lsvm_ncr_0', 0), 0)\n",
    "wdt_ncr = mean_scores(save_score(None, 'dt_ncr_0', 0), 0)\n",
    "scores1.append(logr_ncr)\n",
    "scores1.append(lsvm_ncr)\n",
    "scores1.append(wdt_ncr)\n",
    "\n",
    "logr_smote = mean_scores(save_score(None, 'logr_smote_0', 0), 0)\n",
    "lsvm_smote = mean_scores(save_score(None, 'lsvm_smote_0', 0), 0)\n",
    "dt_smote = mean_scores(save_score(None, 'dt_smote_0', 0), 0)\n",
    "scores1.append(logr_smote)\n",
    "scores1.append(lsvm_smote)\n",
    "scores1.append(dt_smote)\n",
    "\n",
    "logr_bsmote = mean_scores(save_score(None, 'logr_bsmote_0', 0), 0)\n",
    "lsvm_bsmote = mean_scores(save_score(None, 'lsvm_bsmote_0', 0), 0)\n",
    "dt_bsmote = mean_scores(save_score(None, 'dt_bsmote_0', 0), 0)\n",
    "scores1.append(logr_bsmote)\n",
    "scores1.append(lsvm_bsmote)\n",
    "scores1.append(dt_bsmote)"
   ]
  },
  {
   "cell_type": "code",
   "execution_count": 70,
   "metadata": {},
   "outputs": [],
   "source": [
    "# Unchanged \"Time\"\n",
    "scores2 = []\n",
    "\n",
    "logr_ncr_2 = mean_scores(save_score(None, 'logr_ncr_1', 0), 0)\n",
    "lsvm_ncr_2 = mean_scores(save_score(None, 'lsvm_ncr_1', 0), 0)\n",
    "wdt_ncr_2 = mean_scores(save_score(None, 'dt_ncr_1', 0), 0)\n",
    "scores2.append(logr_ncr_2)\n",
    "scores2.append(lsvm_ncr_2)\n",
    "scores2.append(wdt_ncr_2)\n",
    "\n",
    "logr_smote_2 = mean_scores(save_score(None, 'logr_smote_1', 0), 0)\n",
    "lsvm_smote_2 = mean_scores(save_score(None, 'lsvm_smote_1', 0), 0)\n",
    "dt_smote_2 = mean_scores(save_score(None, 'dt_smote_1', 0), 0)\n",
    "scores2.append(logr_smote_2)\n",
    "scores2.append(lsvm_smote_2)\n",
    "scores2.append(dt_smote_2)\n",
    "\n",
    "logr_bsmote_2 = mean_scores(save_score(None, 'logr_bsmote_1', 0), 0)\n",
    "lsvm_bsmote_2 = mean_scores(save_score(None, 'lsvm_bsmote_1', 0), 0)\n",
    "dt_bsmote_2 = mean_scores(save_score(None, 'dt_bsmote_1', 0), 0)\n",
    "scores2.append(logr_bsmote_2)\n",
    "scores2.append(lsvm_bsmote_2)\n",
    "scores2.append(dt_bsmote_2)"
   ]
  },
  {
   "cell_type": "markdown",
   "metadata": {},
   "source": [
    "## Prepare table"
   ]
  },
  {
   "cell_type": "code",
   "execution_count": 71,
   "metadata": {},
   "outputs": [],
   "source": [
    "names = ['Weighted Logistic Regression (NCR)', 'Weighted Linear SVM (NCR)', 'Weighted Decision Tree (NCR)', \n",
    "         'Logistic Regression (SMOTE)', 'Linear SVM (SMOTE)', 'Decision Tree (SMOTE)', \n",
    "         'Logistic Regression (BSMOTE)', 'Linear SVM (BSMOTE)', 'Decision Tree (BSMOTE)']"
   ]
  },
  {
   "cell_type": "code",
   "execution_count": 73,
   "metadata": {
    "scrolled": false
   },
   "outputs": [
    {
     "name": "stdout",
     "output_type": "stream",
     "text": [
      "Results removing \"Time\" feature\n",
      "+------------------------------------+----------+--------+-----------+---------+------+\n",
      "|                Name                | Accuracy | Recall | Precision | ROC AUC |  F2  |\n",
      "+------------------------------------+----------+--------+-----------+---------+------+\n",
      "| Weighted Logistic Regression (NCR) |   1.00   |  0.86  |    0.44   |   0.98  | 0.71 |\n",
      "|     Weighted Linear SVM (NCR)      |   1.00   |  0.86  |    0.45   |   0.98  | 0.72 |\n",
      "|    Weighted Decision Tree (NCR)    |   1.00   |  0.80  |    0.76   |   0.90  | 0.79 |\n",
      "|    Logistic Regression (SMOTE)     |   0.97   |  0.90  |    0.06   |   0.97  | 0.23 |\n",
      "|         Linear SVM (SMOTE)         |   0.98   |  0.90  |    0.07   |   0.97  | 0.26 |\n",
      "|       Decision Tree (SMOTE)        |   1.00   |  0.78  |    0.41   |   0.89  | 0.66 |\n",
      "|    Logistic Regression (BSMOTE)    |   0.99   |  0.86  |    0.23   |   0.97  | 0.55 |\n",
      "|        Linear SVM (BSMOTE)         |   0.99   |  0.86  |    0.23   |   0.97  | 0.55 |\n",
      "|       Decision Tree (BSMOTE)       |   1.00   |  0.73  |    0.72   |   0.86  | 0.72 |\n",
      "+------------------------------------+----------+--------+-----------+---------+------+\n",
      "\n",
      "Results with \"Time\" feature unchanged\n",
      "+------------------------------------+----------+--------+-----------+---------+------+\n",
      "|                Name                | Accuracy | Recall | Precision | ROC AUC |  F2  |\n",
      "+------------------------------------+----------+--------+-----------+---------+------+\n",
      "| Weighted Logistic Regression (NCR) |   1.00   |  0.84  |    0.45   |   0.98  | 0.71 |\n",
      "|     Weighted Linear SVM (NCR)      |   1.00   |  0.85  |    0.35   |   0.98  | 0.65 |\n",
      "|    Weighted Decision Tree (NCR)    |   1.00   |  0.74  |    0.77   |   0.87  | 0.75 |\n",
      "|    Logistic Regression (SMOTE)     |   0.97   |  0.90  |    0.06   |   0.97  | 0.25 |\n",
      "|         Linear SVM (SMOTE)         |   0.97   |  0.90  |    0.06   |   0.98  | 0.23 |\n",
      "|       Decision Tree (SMOTE)        |   1.00   |  0.79  |    0.40   |   0.89  | 0.66 |\n",
      "|    Logistic Regression (BSMOTE)    |   0.99   |  0.85  |    0.17   |   0.96  | 0.44 |\n",
      "|        Linear SVM (BSMOTE)         |   0.99   |  0.85  |    0.16   |   0.96  | 0.43 |\n",
      "|       Decision Tree (BSMOTE)       |   1.00   |  0.77  |    0.65   |   0.88  | 0.74 |\n",
      "+------------------------------------+----------+--------+-----------+---------+------+\n"
     ]
    }
   ],
   "source": [
    "t1 = comp_table(names, scores1)\n",
    "t2 = comp_table(names, scores2)\n",
    "print(\"Results removing \\\"Time\\\" feature\")\n",
    "print(t1)\n",
    "print(\"\\nResults with \\\"Time\\\" feature unchanged\")\n",
    "print(t2)"
   ]
  },
  {
   "cell_type": "markdown",
   "metadata": {},
   "source": [
    "# Grid search on best method and best sampling"
   ]
  },
  {
   "cell_type": "markdown",
   "metadata": {},
   "source": [
    "The best approach is \"Remove Time feature\" and \"NCR\" sampling method."
   ]
  },
  {
   "cell_type": "code",
   "execution_count": 7,
   "metadata": {},
   "outputs": [],
   "source": [
    "from sklearn.model_selection import RandomizedSearchCV\n",
    "from sklearn.model_selection import GridSearchCV\n",
    "from sklearn.metrics import fbeta_score, make_scorer\n",
    "\n",
    "ftwo_scorer = make_scorer(fbeta_score, beta=2)\n",
    "scoring = {\n",
    "    'recall':'recall',\n",
    "    'precision':'precision', \n",
    "    'roc_auc':'roc_auc',\n",
    "    'ftwo':ftwo_scorer\n",
    "}\n",
    "\n",
    "robust_scaler = RobustScaler()"
   ]
  },
  {
   "cell_type": "code",
   "execution_count": 8,
   "metadata": {},
   "outputs": [
    {
     "name": "stdout",
     "output_type": "stream",
     "text": [
      "Train: (199364,)  Test: (85443,)\n"
     ]
    }
   ],
   "source": [
    "# Drop \"Time\" column\n",
    "no_t_df = df.copy()\n",
    "no_t_df.drop('Time', axis=1, inplace=True)\n",
    "\n",
    "X_train, X_test, y_train, y_test = t_test_split(no_t_df)"
   ]
  },
  {
   "cell_type": "markdown",
   "metadata": {},
   "source": [
    "## Weighted Decision Tree"
   ]
  },
  {
   "cell_type": "code",
   "execution_count": null,
   "metadata": {},
   "outputs": [],
   "source": [
    "%%time\n",
    "# RandomizedSearchCV\n",
    "parameters = {'wdt__max_depth':[15, 30, 45, 60, 75, 90], \n",
    "              'wdt__class_weight':[{0: 1, 1: 20},\n",
    "                                  {0: 1, 1: 40},\n",
    "                                  {0: 1, 1: 60},\n",
    "                                  {0: 1, 1: 80},\n",
    "                                  {0: 1, 1: 100}]}\n",
    "\n",
    "wdt = DecisionTreeClassifier()\n",
    "pipe = Pipeline([('ncr', ncr), ('wdt', wdt)])\n",
    "clf = RandomizedSearchCV(pipe, parameters, scoring=scoring, refit='ftwo')\n",
    "clf.fit(X_train, y_train)\n",
    "clf.best_estimator_\n",
    "# class_weight={0: 1, 1: 20}, max_depth=60"
   ]
  },
  {
   "cell_type": "code",
   "execution_count": null,
   "metadata": {},
   "outputs": [],
   "source": [
    "%%time\n",
    "# GridSearchCV\n",
    "parameters = {'wdt__max_depth':[50, 60, 70],\n",
    "              'wdt__class_weight':[{0: 1, 1: 10},\n",
    "                                   {0: 1, 1: 20},\n",
    "                                   {0: 1, 1: 30}]}\n",
    "\n",
    "\n",
    "wdt = DecisionTreeClassifier()\n",
    "pipe = Pipeline([('ncr', ncr), ('wdt', wdt)])\n",
    "clf1 = GridSearchCV(pipe, parameters, scoring=scoring, refit='ftwo')\n",
    "clf1.fit(X_train, y_train)\n",
    "clf1.best_estimator_\n",
    "# class_weight={0: 1, 1: 30}, max_depth=70"
   ]
  },
  {
   "cell_type": "code",
   "execution_count": 17,
   "metadata": {
    "scrolled": true
   },
   "outputs": [
    {
     "name": "stdout",
     "output_type": "stream",
     "text": [
      "fit_time = 55.73762674331665\n",
      "score_time = 0.05174517631530762\n",
      "test_accuracy = 0.9990419544433189\n",
      "test_recall = 0.7481573498964804\n",
      "test_precision = 0.7184158874063937\n",
      "test_roc_auc = 0.8738199004840037\n",
      "test_ftwo = 0.7413371579917267\n",
      "CPU times: user 15min 30s, sys: 410 ms, total: 15min 30s\n",
      "Wall time: 4min 38s\n"
     ]
    }
   ],
   "source": [
    "%%time\n",
    "## NCR + WeightedDecisionTree\n",
    "params = {'max_depth':70, 'class_weight':{0:1, 1:30}}\n",
    "dt_s(X_train, y_train, ncr, 'ncr', params, 2);"
   ]
  },
  {
   "cell_type": "markdown",
   "metadata": {},
   "source": [
    "## Weighted Logistic Regression"
   ]
  },
  {
   "cell_type": "code",
   "execution_count": null,
   "metadata": {},
   "outputs": [],
   "source": [
    "%%time\n",
    "parameters = {'logr__class_weight':[{0: 1, 1: 15},\n",
    "                                    {0: 1, 1: 30},\n",
    "                                    {0: 1, 1: 45},\n",
    "                                    {0: 1, 1: 60},\n",
    "                                    {0: 1, 1: 75},\n",
    "                                    {0: 1, 1: 90}], \n",
    "              'logr__alpha':[0.0001, 0.001, 0.01, 0.1, 1]}\n",
    "\n",
    "logr = SGDClassifier(loss=\"log_loss\", penalty=\"l2\")\n",
    "pipe = Pipeline([('robust_scaler', robust_scaler), ('ncr', ncr), ('logr', logr)])\n",
    "clf = RandomizedSearchCV(pipe, parameters, scoring=scoring, refit='ftwo')\n",
    "clf.fit(X_train, y_train)\n",
    "clf.best_estimator_ \n",
    "# alpha=1, class_weight={0: 1, 1: 90}"
   ]
  },
  {
   "cell_type": "code",
   "execution_count": null,
   "metadata": {},
   "outputs": [],
   "source": [
    "%%time\n",
    "# GridSearchCV\n",
    "parameters = {'logr__class_weight':[{0: 1, 1: 80},\n",
    "                                    {0: 1, 1: 90},\n",
    "                                    {0: 1, 1: 100}], \n",
    "              'logr__alpha':[0.5, 1, 1.5]}\n",
    "\n",
    "logr = SGDClassifier(loss=\"log_loss\", penalty=\"l2\")\n",
    "pipe = Pipeline([('robust_scaler', robust_scaler), ('ncr', ncr), ('logr', logr)])\n",
    "clf1 = GridSearchCV(pipe, parameters, scoring=scoring, refit='ftwo')\n",
    "clf1.fit(X_train, y_train)\n",
    "clf1.best_estimator_\n",
    "# alpha=0.5, class_weight={0: 1, 1: 80}"
   ]
  },
  {
   "cell_type": "code",
   "execution_count": 20,
   "metadata": {},
   "outputs": [
    {
     "name": "stdout",
     "output_type": "stream",
     "text": [
      "fit_time = 49.931854248046875\n",
      "score_time = 0.10253629684448243\n",
      "test_accuracy = 0.9993178316073277\n",
      "test_recall = 0.7624016563146998\n",
      "test_precision = 0.8353331950315497\n",
      "test_roc_auc = 0.9759444227624362\n",
      "test_ftwo = 0.7752393865036299\n",
      "CPU times: user 15min 17s, sys: 1.55 s, total: 15min 19s\n",
      "Wall time: 4min 10s\n"
     ]
    }
   ],
   "source": [
    "%%time\n",
    "## NCR + WeightedLogisticRegression\n",
    "params = {'alpha':0.5, 'class_weight':{0:1, 1:80}}\n",
    "logr_s(X_train, y_train, ncr, 'ncr', params, 2);"
   ]
  },
  {
   "cell_type": "markdown",
   "metadata": {},
   "source": [
    "## Weighted Linear SVM"
   ]
  },
  {
   "cell_type": "code",
   "execution_count": null,
   "metadata": {
    "scrolled": true
   },
   "outputs": [],
   "source": [
    "%%time\n",
    "parameters = {'lsvm__class_weight':[{0: 1, 1: 15},\n",
    "                                    {0: 1, 1: 30},\n",
    "                                    {0: 1, 1: 45},\n",
    "                                    {0: 1, 1: 60},\n",
    "                                    {0: 1, 1: 75},\n",
    "                                    {0: 1, 1: 90}], \n",
    "              'lsvm__alpha':[0.0001, 0.001, 0.01, 0.1, 1]}\n",
    "\n",
    "lsvm = SGDClassifier(loss=\"hinge\", penalty=\"l2\")\n",
    "pipe = Pipeline([('robust_scaler', robust_scaler), ('ncr', ncr), ('lsvm', lsvm)])\n",
    "clf = RandomizedSearchCV(pipe, parameters, scoring=scoring, refit='ftwo')\n",
    "clf.fit(X_train, y_train)\n",
    "clf.best_estimator_\n",
    "# alpha=1, class_weight={0: 1, 1: 60}"
   ]
  },
  {
   "cell_type": "code",
   "execution_count": null,
   "metadata": {},
   "outputs": [],
   "source": [
    "%%time\n",
    "# GridSearchCV\n",
    "parameters = {'lsvm__class_weight':[{0: 1, 1: 50},\n",
    "                                    {0: 1, 1: 60},\n",
    "                                    {0: 1, 1: 70}], \n",
    "              'lsvm__alpha':[0.5, 1, 1.5]}\n",
    "\n",
    "lsvm = SGDClassifier(loss=\"hinge\", penalty=\"l2\")\n",
    "pipe = Pipeline([('robust_scaler', robust_scaler), ('ncr', ncr), ('lsvm', lsvm)])\n",
    "clf = GridSearchCV(pipe, parameters, scoring=scoring, refit='ftwo')\n",
    "clf.fit(X_train, y_train)\n",
    "clf.best_estimator_\n",
    "# alpha=1.5, class_weight={0: 1, 1: 70}"
   ]
  },
  {
   "cell_type": "code",
   "execution_count": 23,
   "metadata": {},
   "outputs": [
    {
     "name": "stdout",
     "output_type": "stream",
     "text": [
      "fit_time = 50.05328245162964\n",
      "score_time = 0.10229616165161133\n",
      "test_accuracy = 0.9992275445697795\n",
      "test_recall = 0.667784679089027\n",
      "test_precision = 0.8603636869952659\n",
      "test_roc_auc = 0.9599084237280616\n",
      "test_ftwo = 0.6988903671711645\n",
      "CPU times: user 15min 5s, sys: 1.61 s, total: 15min 6s\n",
      "Wall time: 4min 10s\n"
     ]
    }
   ],
   "source": [
    "%%time\n",
    "## NCR + WeightedLogisticRegression\n",
    "params = {'alpha':1.5, 'class_weight':{0:1, 1:70}}\n",
    "logr_s(X_train, y_train, ncr, 'ncr', params, 2);"
   ]
  },
  {
   "cell_type": "markdown",
   "metadata": {},
   "source": [
    "# Results of grid approach (before and after)"
   ]
  },
  {
   "cell_type": "code",
   "execution_count": 28,
   "metadata": {},
   "outputs": [],
   "source": [
    "names2 = ['Weighted Logistic Regression (NCR)', 'Weighted Linear SVM (NCR)', 'Weighted Decision Tree (NCR)']"
   ]
  },
  {
   "cell_type": "code",
   "execution_count": 29,
   "metadata": {},
   "outputs": [],
   "source": [
    "scores5 = []\n",
    "logr_ncr5 = mean_scores(save_score(None, 'logr_ncr_0', 0), 0)\n",
    "lsvm_ncr5 = mean_scores(save_score(None, 'lsvm_ncr_0', 0), 0)\n",
    "wdt_ncr5 = mean_scores(save_score(None, 'dt_ncr_0', 0), 0)\n",
    "scores5.append(logr_ncr5)\n",
    "scores5.append(lsvm_ncr5)\n",
    "scores5.append(wdt_ncr5)\n",
    "\n",
    "scores4 = []\n",
    "logr_ncr4 = mean_scores(save_score(None, 'logr_ncr_2', 0), 0)\n",
    "lsvm_ncr4 = mean_scores(save_score(None, 'lsvm_ncr_2', 0), 0)\n",
    "wdt_ncr4 = mean_scores(save_score(None, 'dt_ncr_2', 0), 0)\n",
    "scores4.append(logr_ncr4)\n",
    "scores4.append(lsvm_ncr4)\n",
    "scores4.append(wdt_ncr4)"
   ]
  },
  {
   "cell_type": "code",
   "execution_count": 30,
   "metadata": {},
   "outputs": [
    {
     "name": "stdout",
     "output_type": "stream",
     "text": [
      "No grid approach\n",
      "+------------------------------------+----------+--------+-----------+---------+------+\n",
      "|                Name                | Accuracy | Recall | Precision | ROC AUC |  F2  |\n",
      "+------------------------------------+----------+--------+-----------+---------+------+\n",
      "| Weighted Logistic Regression (NCR) |   1.00   |  0.86  |    0.44   |   0.98  | 0.71 |\n",
      "|     Weighted Linear SVM (NCR)      |   1.00   |  0.86  |    0.45   |   0.98  | 0.72 |\n",
      "|    Weighted Decision Tree (NCR)    |   1.00   |  0.80  |    0.76   |   0.90  | 0.79 |\n",
      "+------------------------------------+----------+--------+-----------+---------+------+\n",
      "With grid approach\n",
      "+------------------------------------+----------+--------+-----------+---------+------+\n",
      "|                Name                | Accuracy | Recall | Precision | ROC AUC |  F2  |\n",
      "+------------------------------------+----------+--------+-----------+---------+------+\n",
      "| Weighted Logistic Regression (NCR) |   1.00   |  0.67  |    0.86   |   0.96  | 0.70 |\n",
      "|     Weighted Linear SVM (NCR)      |   0.99   |  0.60  |    0.15   |   0.79  | 0.34 |\n",
      "|    Weighted Decision Tree (NCR)    |   1.00   |  0.75  |    0.72   |   0.87  | 0.74 |\n",
      "+------------------------------------+----------+--------+-----------+---------+------+\n"
     ]
    }
   ],
   "source": [
    "print(\"No grid approach\")\n",
    "t5 = comp_table(names2, scores5)\n",
    "print(t5)\n",
    "print(\"With grid approach\")\n",
    "t4 = comp_table(names2, scores4)\n",
    "print(t4)"
   ]
  },
  {
   "cell_type": "markdown",
   "metadata": {},
   "source": [
    "# Pick the best model and classification"
   ]
  },
  {
   "cell_type": "markdown",
   "metadata": {},
   "source": [
    "Decision tree with NCR"
   ]
  },
  {
   "cell_type": "code",
   "execution_count": 25,
   "metadata": {},
   "outputs": [],
   "source": [
    "from imblearn.pipeline import Pipeline\n",
    "from imblearn.under_sampling import NeighbourhoodCleaningRule\n",
    "from sklearn.tree import DecisionTreeClassifier\n",
    "from sklearn import tree\n",
    "\n",
    "ncr = NeighbourhoodCleaningRule(sampling_strategy='auto', n_neighbors=3, kind_sel='all', threshold_cleaning=0.5)\n",
    "dt = DecisionTreeClassifier(max_depth=70, class_weight={0:1, 1:30})"
   ]
  },
  {
   "cell_type": "code",
   "execution_count": 11,
   "metadata": {},
   "outputs": [
    {
     "name": "stdout",
     "output_type": "stream",
     "text": [
      "Train: (198067,)  Test: (84886,)\n"
     ]
    }
   ],
   "source": [
    "# Drop \"Time\" column\n",
    "no_t_df = df.copy()\n",
    "no_t_df.drop('Time', axis=1, inplace=True)\n",
    "\n",
    "X_train, X_test, y_train, y_test = t_test_split(no_t_df)"
   ]
  },
  {
   "cell_type": "code",
   "execution_count": 12,
   "metadata": {
    "scrolled": true
   },
   "outputs": [
    {
     "data": {
      "text/plain": [
       "Counter({0: 84746, 1: 140})"
      ]
     },
     "execution_count": 12,
     "metadata": {},
     "output_type": "execute_result"
    }
   ],
   "source": [
    "Counter(y_test)"
   ]
  },
  {
   "cell_type": "code",
   "execution_count": 13,
   "metadata": {
    "scrolled": true
   },
   "outputs": [
    {
     "name": "stdout",
     "output_type": "stream",
     "text": [
      "CPU times: user 4min 43s, sys: 478 ms, total: 4min 44s\n",
      "Wall time: 1min 28s\n"
     ]
    },
    {
     "data": {
      "text/html": [
       "<style>#sk-container-id-1 {color: black;background-color: white;}#sk-container-id-1 pre{padding: 0;}#sk-container-id-1 div.sk-toggleable {background-color: white;}#sk-container-id-1 label.sk-toggleable__label {cursor: pointer;display: block;width: 100%;margin-bottom: 0;padding: 0.3em;box-sizing: border-box;text-align: center;}#sk-container-id-1 label.sk-toggleable__label-arrow:before {content: \"▸\";float: left;margin-right: 0.25em;color: #696969;}#sk-container-id-1 label.sk-toggleable__label-arrow:hover:before {color: black;}#sk-container-id-1 div.sk-estimator:hover label.sk-toggleable__label-arrow:before {color: black;}#sk-container-id-1 div.sk-toggleable__content {max-height: 0;max-width: 0;overflow: hidden;text-align: left;background-color: #f0f8ff;}#sk-container-id-1 div.sk-toggleable__content pre {margin: 0.2em;color: black;border-radius: 0.25em;background-color: #f0f8ff;}#sk-container-id-1 input.sk-toggleable__control:checked~div.sk-toggleable__content {max-height: 200px;max-width: 100%;overflow: auto;}#sk-container-id-1 input.sk-toggleable__control:checked~label.sk-toggleable__label-arrow:before {content: \"▾\";}#sk-container-id-1 div.sk-estimator input.sk-toggleable__control:checked~label.sk-toggleable__label {background-color: #d4ebff;}#sk-container-id-1 div.sk-label input.sk-toggleable__control:checked~label.sk-toggleable__label {background-color: #d4ebff;}#sk-container-id-1 input.sk-hidden--visually {border: 0;clip: rect(1px 1px 1px 1px);clip: rect(1px, 1px, 1px, 1px);height: 1px;margin: -1px;overflow: hidden;padding: 0;position: absolute;width: 1px;}#sk-container-id-1 div.sk-estimator {font-family: monospace;background-color: #f0f8ff;border: 1px dotted black;border-radius: 0.25em;box-sizing: border-box;margin-bottom: 0.5em;}#sk-container-id-1 div.sk-estimator:hover {background-color: #d4ebff;}#sk-container-id-1 div.sk-parallel-item::after {content: \"\";width: 100%;border-bottom: 1px solid gray;flex-grow: 1;}#sk-container-id-1 div.sk-label:hover label.sk-toggleable__label {background-color: #d4ebff;}#sk-container-id-1 div.sk-serial::before {content: \"\";position: absolute;border-left: 1px solid gray;box-sizing: border-box;top: 0;bottom: 0;left: 50%;z-index: 0;}#sk-container-id-1 div.sk-serial {display: flex;flex-direction: column;align-items: center;background-color: white;padding-right: 0.2em;padding-left: 0.2em;position: relative;}#sk-container-id-1 div.sk-item {position: relative;z-index: 1;}#sk-container-id-1 div.sk-parallel {display: flex;align-items: stretch;justify-content: center;background-color: white;position: relative;}#sk-container-id-1 div.sk-item::before, #sk-container-id-1 div.sk-parallel-item::before {content: \"\";position: absolute;border-left: 1px solid gray;box-sizing: border-box;top: 0;bottom: 0;left: 50%;z-index: -1;}#sk-container-id-1 div.sk-parallel-item {display: flex;flex-direction: column;z-index: 1;position: relative;background-color: white;}#sk-container-id-1 div.sk-parallel-item:first-child::after {align-self: flex-end;width: 50%;}#sk-container-id-1 div.sk-parallel-item:last-child::after {align-self: flex-start;width: 50%;}#sk-container-id-1 div.sk-parallel-item:only-child::after {width: 0;}#sk-container-id-1 div.sk-dashed-wrapped {border: 1px dashed gray;margin: 0 0.4em 0.5em 0.4em;box-sizing: border-box;padding-bottom: 0.4em;background-color: white;}#sk-container-id-1 div.sk-label label {font-family: monospace;font-weight: bold;display: inline-block;line-height: 1.2em;}#sk-container-id-1 div.sk-label-container {text-align: center;}#sk-container-id-1 div.sk-container {/* jupyter's `normalize.less` sets `[hidden] { display: none; }` but bootstrap.min.css set `[hidden] { display: none !important; }` so we also need the `!important` here to be able to override the default hidden behavior on the sphinx rendered scikit-learn.org. See: https://github.com/scikit-learn/scikit-learn/issues/21755 */display: inline-block !important;position: relative;}#sk-container-id-1 div.sk-text-repr-fallback {display: none;}</style><div id=\"sk-container-id-1\" class=\"sk-top-container\"><div class=\"sk-text-repr-fallback\"><pre>Pipeline(steps=[(&#x27;ncr&#x27;, NeighbourhoodCleaningRule()),\n",
       "                (&#x27;dt&#x27;,\n",
       "                 DecisionTreeClassifier(class_weight={0: 1, 1: 30},\n",
       "                                        max_depth=70))])</pre><b>In a Jupyter environment, please rerun this cell to show the HTML representation or trust the notebook. <br />On GitHub, the HTML representation is unable to render, please try loading this page with nbviewer.org.</b></div><div class=\"sk-container\" hidden><div class=\"sk-item sk-dashed-wrapped\"><div class=\"sk-label-container\"><div class=\"sk-label sk-toggleable\"><input class=\"sk-toggleable__control sk-hidden--visually\" id=\"sk-estimator-id-1\" type=\"checkbox\" ><label for=\"sk-estimator-id-1\" class=\"sk-toggleable__label sk-toggleable__label-arrow\">Pipeline</label><div class=\"sk-toggleable__content\"><pre>Pipeline(steps=[(&#x27;ncr&#x27;, NeighbourhoodCleaningRule()),\n",
       "                (&#x27;dt&#x27;,\n",
       "                 DecisionTreeClassifier(class_weight={0: 1, 1: 30},\n",
       "                                        max_depth=70))])</pre></div></div></div><div class=\"sk-serial\"><div class=\"sk-item\"><div class=\"sk-estimator sk-toggleable\"><input class=\"sk-toggleable__control sk-hidden--visually\" id=\"sk-estimator-id-2\" type=\"checkbox\" ><label for=\"sk-estimator-id-2\" class=\"sk-toggleable__label sk-toggleable__label-arrow\">NeighbourhoodCleaningRule</label><div class=\"sk-toggleable__content\"><pre>NeighbourhoodCleaningRule()</pre></div></div></div><div class=\"sk-item\"><div class=\"sk-estimator sk-toggleable\"><input class=\"sk-toggleable__control sk-hidden--visually\" id=\"sk-estimator-id-3\" type=\"checkbox\" ><label for=\"sk-estimator-id-3\" class=\"sk-toggleable__label sk-toggleable__label-arrow\">DecisionTreeClassifier</label><div class=\"sk-toggleable__content\"><pre>DecisionTreeClassifier(class_weight={0: 1, 1: 30}, max_depth=70)</pre></div></div></div></div></div></div></div>"
      ],
      "text/plain": [
       "Pipeline(steps=[('ncr', NeighbourhoodCleaningRule()),\n",
       "                ('dt',\n",
       "                 DecisionTreeClassifier(class_weight={0: 1, 1: 30},\n",
       "                                        max_depth=70))])"
      ]
     },
     "execution_count": 13,
     "metadata": {},
     "output_type": "execute_result"
    }
   ],
   "source": [
    "%%time\n",
    "pipe = Pipeline([('ncr', ncr), ('dt', dt)])\n",
    "pipe.fit(X_train, y_train)"
   ]
  },
  {
   "cell_type": "code",
   "execution_count": 28,
   "metadata": {},
   "outputs": [
    {
     "data": {
      "image/png": "[encoded data removed]",
      "text/plain": [
       "<Figure size 640x480 with 1 Axes>"
      ]
     },
     "metadata": {},
     "output_type": "display_data"
    }
   ],
   "source": [
    "tree.plot_tree(pipe[1])\n",
    "plt.show()"
   ]
  },
  {
   "cell_type": "code",
   "execution_count": 14,
   "metadata": {
    "scrolled": true
   },
   "outputs": [
    {
     "name": "stdout",
     "output_type": "stream",
     "text": [
      "CPU times: user 13.3 ms, sys: 5 µs, total: 13.3 ms\n",
      "Wall time: 12 ms\n"
     ]
    }
   ],
   "source": [
    "%%time\n",
    "y_pred = pipe.predict(X_test)"
   ]
  },
  {
   "cell_type": "code",
   "execution_count": 15,
   "metadata": {},
   "outputs": [
    {
     "name": "stdout",
     "output_type": "stream",
     "text": [
      "+-------------------+------------------+----------+-----------+--------+-------+---------+\n",
      "|        Name       | Confusion Matrix | Accuracy | Precision | Recall |   F2  | ROC AUC |\n",
      "+-------------------+------------------+----------+-----------+--------+-------+---------+\n",
      "| NCR Decision Tree |  [[84700    46]  |  0.998   |   0.680   |  0.7   | 0.696 |  0.849  |\n",
      "|                   |  [   42    98]]  |          |           |        |       |         |\n",
      "+-------------------+------------------+----------+-----------+--------+-------+---------+\n"
     ]
    }
   ],
   "source": [
    "res_table('NCR Decision Tree', y_test, y_pred)"
   ]
  },
  {
   "cell_type": "markdown",
   "metadata": {},
   "source": [
    "## Let's try to improve the result with a RF approach"
   ]
  },
  {
   "cell_type": "code",
   "execution_count": 16,
   "metadata": {},
   "outputs": [],
   "source": [
    "from sklearn.ensemble import RandomForestClassifier\n",
    "from sklearn.model_selection import GridSearchCV\n",
    "from sklearn.model_selection import RandomizedSearchCV"
   ]
  },
  {
   "cell_type": "code",
   "execution_count": null,
   "metadata": {},
   "outputs": [],
   "source": [
    "%%time\n",
    "# RandomizedSearchCV\n",
    "parameters = {'wrf__max_depth':[60, 80, 100, 120],\n",
    "              'wrf__class_weight':[{0: 1, 1: 30},\n",
    "                                  {0: 1, 1: 50},\n",
    "                                  {0: 1, 1: 70},\n",
    "                                  {0: 1, 1: 90}]}\n",
    "\n",
    "wrf = RandomForestClassifier()\n",
    "pipe = Pipeline([('ncr', ncr), ('wrf', wrf)])\n",
    "clf = RandomizedSearchCV(pipe, parameters, refit='ftwo')\n",
    "clf.fit(X_train, y_train)\n",
    "clf.best_estimator_\n",
    "# wrf__n_estimators':[20, 60, 100, 120, 140],\n",
    "# old class_weight={0: 1, 1: 30}, max_depth=120, n_estimators=20\n",
    "# class_weight={0: 1, 1: 70}, max_depth=60, estimator 100 2h"
   ]
  },
  {
   "cell_type": "code",
   "execution_count": null,
   "metadata": {},
   "outputs": [],
   "source": [
    "%%time\n",
    "# GridSearchCV\n",
    "parameters = {'wrf__class_weight':[{0: 1, 1: 60},\n",
    "                                   {0: 1, 1: 70},\n",
    "                                   {0: 1, 1: 80}],\n",
    "              'wrf__max_depth':[50, 60, 70]}\n",
    "\n",
    "wrf = RandomForestClassifier()\n",
    "pipe = Pipeline([('ncr', ncr), ('wrf', wrf)])\n",
    "clf1 = GridSearchCV(pipe, parameters, refit='ftwo')\n",
    "clf1.fit(X_train, y_train)\n",
    "clf1.best_estimator_\n",
    "# old class_weight={0: 1, 1: 30}, max_depth=120, n_estimators=40\n",
    "# class_weight={0: 1, 1: 60}, max_depth=70 2h"
   ]
  },
  {
   "cell_type": "code",
   "execution_count": 25,
   "metadata": {
    "scrolled": true
   },
   "outputs": [
    {
     "name": "stdout",
     "output_type": "stream",
     "text": [
      "CPU times: user 6min 54s, sys: 474 ms, total: 6min 55s\n",
      "Wall time: 3min 49s\n"
     ]
    },
    {
     "data": {
      "text/html": [
       "<style>#sk-container-id-4 {color: black;background-color: white;}#sk-container-id-4 pre{padding: 0;}#sk-container-id-4 div.sk-toggleable {background-color: white;}#sk-container-id-4 label.sk-toggleable__label {cursor: pointer;display: block;width: 100%;margin-bottom: 0;padding: 0.3em;box-sizing: border-box;text-align: center;}#sk-container-id-4 label.sk-toggleable__label-arrow:before {content: \"▸\";float: left;margin-right: 0.25em;color: #696969;}#sk-container-id-4 label.sk-toggleable__label-arrow:hover:before {color: black;}#sk-container-id-4 div.sk-estimator:hover label.sk-toggleable__label-arrow:before {color: black;}#sk-container-id-4 div.sk-toggleable__content {max-height: 0;max-width: 0;overflow: hidden;text-align: left;background-color: #f0f8ff;}#sk-container-id-4 div.sk-toggleable__content pre {margin: 0.2em;color: black;border-radius: 0.25em;background-color: #f0f8ff;}#sk-container-id-4 input.sk-toggleable__control:checked~div.sk-toggleable__content {max-height: 200px;max-width: 100%;overflow: auto;}#sk-container-id-4 input.sk-toggleable__control:checked~label.sk-toggleable__label-arrow:before {content: \"▾\";}#sk-container-id-4 div.sk-estimator input.sk-toggleable__control:checked~label.sk-toggleable__label {background-color: #d4ebff;}#sk-container-id-4 div.sk-label input.sk-toggleable__control:checked~label.sk-toggleable__label {background-color: #d4ebff;}#sk-container-id-4 input.sk-hidden--visually {border: 0;clip: rect(1px 1px 1px 1px);clip: rect(1px, 1px, 1px, 1px);height: 1px;margin: -1px;overflow: hidden;padding: 0;position: absolute;width: 1px;}#sk-container-id-4 div.sk-estimator {font-family: monospace;background-color: #f0f8ff;border: 1px dotted black;border-radius: 0.25em;box-sizing: border-box;margin-bottom: 0.5em;}#sk-container-id-4 div.sk-estimator:hover {background-color: #d4ebff;}#sk-container-id-4 div.sk-parallel-item::after {content: \"\";width: 100%;border-bottom: 1px solid gray;flex-grow: 1;}#sk-container-id-4 div.sk-label:hover label.sk-toggleable__label {background-color: #d4ebff;}#sk-container-id-4 div.sk-serial::before {content: \"\";position: absolute;border-left: 1px solid gray;box-sizing: border-box;top: 0;bottom: 0;left: 50%;z-index: 0;}#sk-container-id-4 div.sk-serial {display: flex;flex-direction: column;align-items: center;background-color: white;padding-right: 0.2em;padding-left: 0.2em;position: relative;}#sk-container-id-4 div.sk-item {position: relative;z-index: 1;}#sk-container-id-4 div.sk-parallel {display: flex;align-items: stretch;justify-content: center;background-color: white;position: relative;}#sk-container-id-4 div.sk-item::before, #sk-container-id-4 div.sk-parallel-item::before {content: \"\";position: absolute;border-left: 1px solid gray;box-sizing: border-box;top: 0;bottom: 0;left: 50%;z-index: -1;}#sk-container-id-4 div.sk-parallel-item {display: flex;flex-direction: column;z-index: 1;position: relative;background-color: white;}#sk-container-id-4 div.sk-parallel-item:first-child::after {align-self: flex-end;width: 50%;}#sk-container-id-4 div.sk-parallel-item:last-child::after {align-self: flex-start;width: 50%;}#sk-container-id-4 div.sk-parallel-item:only-child::after {width: 0;}#sk-container-id-4 div.sk-dashed-wrapped {border: 1px dashed gray;margin: 0 0.4em 0.5em 0.4em;box-sizing: border-box;padding-bottom: 0.4em;background-color: white;}#sk-container-id-4 div.sk-label label {font-family: monospace;font-weight: bold;display: inline-block;line-height: 1.2em;}#sk-container-id-4 div.sk-label-container {text-align: center;}#sk-container-id-4 div.sk-container {/* jupyter's `normalize.less` sets `[hidden] { display: none; }` but bootstrap.min.css set `[hidden] { display: none !important; }` so we also need the `!important` here to be able to override the default hidden behavior on the sphinx rendered scikit-learn.org. See: https://github.com/scikit-learn/scikit-learn/issues/21755 */display: inline-block !important;position: relative;}#sk-container-id-4 div.sk-text-repr-fallback {display: none;}</style><div id=\"sk-container-id-4\" class=\"sk-top-container\"><div class=\"sk-text-repr-fallback\"><pre>Pipeline(steps=[(&#x27;ncr&#x27;, NeighbourhoodCleaningRule()),\n",
       "                (&#x27;wrf&#x27;,\n",
       "                 RandomForestClassifier(class_weight={0: 1, 1: 60},\n",
       "                                        max_depth=70))])</pre><b>In a Jupyter environment, please rerun this cell to show the HTML representation or trust the notebook. <br />On GitHub, the HTML representation is unable to render, please try loading this page with nbviewer.org.</b></div><div class=\"sk-container\" hidden><div class=\"sk-item sk-dashed-wrapped\"><div class=\"sk-label-container\"><div class=\"sk-label sk-toggleable\"><input class=\"sk-toggleable__control sk-hidden--visually\" id=\"sk-estimator-id-10\" type=\"checkbox\" ><label for=\"sk-estimator-id-10\" class=\"sk-toggleable__label sk-toggleable__label-arrow\">Pipeline</label><div class=\"sk-toggleable__content\"><pre>Pipeline(steps=[(&#x27;ncr&#x27;, NeighbourhoodCleaningRule()),\n",
       "                (&#x27;wrf&#x27;,\n",
       "                 RandomForestClassifier(class_weight={0: 1, 1: 60},\n",
       "                                        max_depth=70))])</pre></div></div></div><div class=\"sk-serial\"><div class=\"sk-item\"><div class=\"sk-estimator sk-toggleable\"><input class=\"sk-toggleable__control sk-hidden--visually\" id=\"sk-estimator-id-11\" type=\"checkbox\" ><label for=\"sk-estimator-id-11\" class=\"sk-toggleable__label sk-toggleable__label-arrow\">NeighbourhoodCleaningRule</label><div class=\"sk-toggleable__content\"><pre>NeighbourhoodCleaningRule()</pre></div></div></div><div class=\"sk-item\"><div class=\"sk-estimator sk-toggleable\"><input class=\"sk-toggleable__control sk-hidden--visually\" id=\"sk-estimator-id-12\" type=\"checkbox\" ><label for=\"sk-estimator-id-12\" class=\"sk-toggleable__label sk-toggleable__label-arrow\">RandomForestClassifier</label><div class=\"sk-toggleable__content\"><pre>RandomForestClassifier(class_weight={0: 1, 1: 60}, max_depth=70)</pre></div></div></div></div></div></div></div>"
      ],
      "text/plain": [
       "Pipeline(steps=[('ncr', NeighbourhoodCleaningRule()),\n",
       "                ('wrf',\n",
       "                 RandomForestClassifier(class_weight={0: 1, 1: 60},\n",
       "                                        max_depth=70))])"
      ]
     },
     "execution_count": 25,
     "metadata": {},
     "output_type": "execute_result"
    }
   ],
   "source": [
    "%%time\n",
    "## NCR + WeightedRandomForest\n",
    "d = 70\n",
    "w = {0: 1, 1: 60}\n",
    "wrf = RandomForestClassifier(class_weight=w, max_depth=d)\n",
    "\n",
    "pipe = Pipeline([('ncr', ncr), ('wrf', wrf)])\n",
    "pipe.fit(X_train, y_train)"
   ]
  },
  {
   "cell_type": "code",
   "execution_count": 26,
   "metadata": {},
   "outputs": [
    {
     "name": "stdout",
     "output_type": "stream",
     "text": [
      "CPU times: user 629 ms, sys: 6 µs, total: 629 ms\n",
      "Wall time: 629 ms\n"
     ]
    }
   ],
   "source": [
    "%%time\n",
    "y_pred = pipe.predict(X_test)"
   ]
  },
  {
   "cell_type": "code",
   "execution_count": 27,
   "metadata": {
    "scrolled": true
   },
   "outputs": [
    {
     "name": "stdout",
     "output_type": "stream",
     "text": [
      "+---------+------------------+----------+-----------+--------+-------+---------+\n",
      "|   Name  | Confusion Matrix | Accuracy | Precision | Recall |   F2  | ROC AUC |\n",
      "+---------+------------------+----------+-----------+--------+-------+---------+\n",
      "| ncr wrf |  [[84729    15]  |  0.999   |   0.880   | 0.781  | 0.799 |  0.890  |\n",
      "|         |  [   31   111]]  |          |           |        |       |         |\n",
      "+---------+------------------+----------+-----------+--------+-------+---------+\n"
     ]
    }
   ],
   "source": [
    "res_table('ncr wrf', y_test, y_pred)"
   ]
  }
 ],
 "metadata": {
  "kernelspec": {
   "display_name": "Python 3",
   "language": "python",
   "name": "python3"
  },
  "language_info": {
   "codemirror_mode": {
    "name": "ipython",
    "version": 3
   },
   "file_extension": ".py",
   "mimetype": "text/x-python",
   "name": "python",
   "nbconvert_exporter": "python",
   "pygments_lexer": "ipython3",
   "version": "3.9.7 (default, Jun 22 2022, 20:11:26) \n[GCC 11.2.0]"
  },
  "vscode": {
   "interpreter": {
    "hash": "31f2aee4e71d21fbe5cf8b01ff0e069b9275f58929596ceb00d14d90e3e16cd6"
   }
  }
 },
 "nbformat": 4,
 "nbformat_minor": 4
}
